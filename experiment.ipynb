{
 "cells": [
  {
   "cell_type": "code",
   "execution_count": 20,
   "id": "cb23dbbe-d222-4552-9a8e-a1ce01a28c9a",
   "metadata": {},
   "outputs": [
    {
     "name": "stdout",
     "output_type": "stream",
     "text": [
      "INFO: Pandarallel will run on 16 workers.\n",
      "INFO: Pandarallel will use Memory file system to transfer data between the main process and workers.\n"
     ]
    }
   ],
   "source": [
    "import cudf\n",
    "import pandas as pd\n",
    "import polars as pl\n",
    "import modin.pandas as mp\n",
    "import swifter\n",
    "from pandarallel import pandarallel\n",
    "from pathlib import Path\n",
    "from numba import njit\n",
    "from hurry.filesize import size\n",
    "import numpy as np\n",
    "\n",
    "\n",
    "pandarallel.initialize(progress_bar=False)"
   ]
  },
  {
   "cell_type": "code",
   "execution_count": 127,
   "id": "47b34e2f-e8af-4cd7-a435-d8922d4f539e",
   "metadata": {},
   "outputs": [
    {
     "name": "stdout",
     "output_type": "stream",
     "text": [
      "CPU times: user 5.05 s, sys: 977 ms, total: 6.03 s\n",
      "Wall time: 4.17 s\n"
     ]
    }
   ],
   "source": [
    "%%time\n",
    "data_root = Path('data')\n",
    "stock_prices_path = data_root / 'stock_prices.csv'\n",
    "\n",
    "stock_prices_pd = pd.read_csv(stock_prices_path, parse_dates=['Date']).dropna(subset=['Close'])\n",
    "stock_prices_modin = mp.read_csv(stock_prices_path, parse_dates=['Date']).dropna(subset=['Close'])\n",
    "stock_prices_cudf = cudf.read_csv(stock_prices_path, parse_dates=['Date']).dropna(subset=['Close'])\n",
    "stock_prices_polars = pl.read_csv(stock_prices_path, parse_dates=True).drop_nulls(subset=['Close'])"
   ]
  },
  {
   "cell_type": "code",
   "execution_count": 108,
   "id": "eccc5a5c-9348-4188-a12b-4c3cf58ff41a",
   "metadata": {},
   "outputs": [
    {
     "data": {
      "text/html": [
       "<div>\n",
       "<style scoped>\n",
       "    .dataframe tbody tr th:only-of-type {\n",
       "        vertical-align: middle;\n",
       "    }\n",
       "\n",
       "    .dataframe tbody tr th {\n",
       "        vertical-align: top;\n",
       "    }\n",
       "\n",
       "    .dataframe thead th {\n",
       "        text-align: right;\n",
       "    }\n",
       "</style>\n",
       "<table border=\"1\" class=\"dataframe\">\n",
       "  <thead>\n",
       "    <tr style=\"text-align: right;\">\n",
       "      <th></th>\n",
       "      <th>RowId</th>\n",
       "      <th>Date</th>\n",
       "      <th>SecuritiesCode</th>\n",
       "      <th>Open</th>\n",
       "      <th>High</th>\n",
       "      <th>Low</th>\n",
       "      <th>Close</th>\n",
       "      <th>Volume</th>\n",
       "      <th>AdjustmentFactor</th>\n",
       "      <th>ExpectedDividend</th>\n",
       "      <th>SupervisionFlag</th>\n",
       "      <th>Target</th>\n",
       "    </tr>\n",
       "  </thead>\n",
       "  <tbody>\n",
       "    <tr>\n",
       "      <th>0</th>\n",
       "      <td>20170104_1301</td>\n",
       "      <td>2017-01-04</td>\n",
       "      <td>1301</td>\n",
       "      <td>2734.0</td>\n",
       "      <td>2755.0</td>\n",
       "      <td>2730.0</td>\n",
       "      <td>2742.0</td>\n",
       "      <td>31400</td>\n",
       "      <td>1.0</td>\n",
       "      <td>NaN</td>\n",
       "      <td>False</td>\n",
       "      <td>0.000730</td>\n",
       "    </tr>\n",
       "    <tr>\n",
       "      <th>1</th>\n",
       "      <td>20170104_1332</td>\n",
       "      <td>2017-01-04</td>\n",
       "      <td>1332</td>\n",
       "      <td>568.0</td>\n",
       "      <td>576.0</td>\n",
       "      <td>563.0</td>\n",
       "      <td>571.0</td>\n",
       "      <td>2798500</td>\n",
       "      <td>1.0</td>\n",
       "      <td>NaN</td>\n",
       "      <td>False</td>\n",
       "      <td>0.012324</td>\n",
       "    </tr>\n",
       "    <tr>\n",
       "      <th>2</th>\n",
       "      <td>20170104_1333</td>\n",
       "      <td>2017-01-04</td>\n",
       "      <td>1333</td>\n",
       "      <td>3150.0</td>\n",
       "      <td>3210.0</td>\n",
       "      <td>3140.0</td>\n",
       "      <td>3210.0</td>\n",
       "      <td>270800</td>\n",
       "      <td>1.0</td>\n",
       "      <td>NaN</td>\n",
       "      <td>False</td>\n",
       "      <td>0.006154</td>\n",
       "    </tr>\n",
       "    <tr>\n",
       "      <th>3</th>\n",
       "      <td>20170104_1376</td>\n",
       "      <td>2017-01-04</td>\n",
       "      <td>1376</td>\n",
       "      <td>1510.0</td>\n",
       "      <td>1550.0</td>\n",
       "      <td>1510.0</td>\n",
       "      <td>1550.0</td>\n",
       "      <td>11300</td>\n",
       "      <td>1.0</td>\n",
       "      <td>NaN</td>\n",
       "      <td>False</td>\n",
       "      <td>0.011053</td>\n",
       "    </tr>\n",
       "    <tr>\n",
       "      <th>4</th>\n",
       "      <td>20170104_1377</td>\n",
       "      <td>2017-01-04</td>\n",
       "      <td>1377</td>\n",
       "      <td>3270.0</td>\n",
       "      <td>3350.0</td>\n",
       "      <td>3270.0</td>\n",
       "      <td>3330.0</td>\n",
       "      <td>150800</td>\n",
       "      <td>1.0</td>\n",
       "      <td>NaN</td>\n",
       "      <td>False</td>\n",
       "      <td>0.003026</td>\n",
       "    </tr>\n",
       "    <tr>\n",
       "      <th>...</th>\n",
       "      <td>...</td>\n",
       "      <td>...</td>\n",
       "      <td>...</td>\n",
       "      <td>...</td>\n",
       "      <td>...</td>\n",
       "      <td>...</td>\n",
       "      <td>...</td>\n",
       "      <td>...</td>\n",
       "      <td>...</td>\n",
       "      <td>...</td>\n",
       "      <td>...</td>\n",
       "      <td>...</td>\n",
       "    </tr>\n",
       "    <tr>\n",
       "      <th>2332526</th>\n",
       "      <td>20211203_9990</td>\n",
       "      <td>2021-12-03</td>\n",
       "      <td>9990</td>\n",
       "      <td>514.0</td>\n",
       "      <td>528.0</td>\n",
       "      <td>513.0</td>\n",
       "      <td>528.0</td>\n",
       "      <td>44200</td>\n",
       "      <td>1.0</td>\n",
       "      <td>NaN</td>\n",
       "      <td>False</td>\n",
       "      <td>0.034816</td>\n",
       "    </tr>\n",
       "    <tr>\n",
       "      <th>2332527</th>\n",
       "      <td>20211203_9991</td>\n",
       "      <td>2021-12-03</td>\n",
       "      <td>9991</td>\n",
       "      <td>782.0</td>\n",
       "      <td>794.0</td>\n",
       "      <td>782.0</td>\n",
       "      <td>794.0</td>\n",
       "      <td>35900</td>\n",
       "      <td>1.0</td>\n",
       "      <td>NaN</td>\n",
       "      <td>False</td>\n",
       "      <td>0.025478</td>\n",
       "    </tr>\n",
       "    <tr>\n",
       "      <th>2332528</th>\n",
       "      <td>20211203_9993</td>\n",
       "      <td>2021-12-03</td>\n",
       "      <td>9993</td>\n",
       "      <td>1690.0</td>\n",
       "      <td>1690.0</td>\n",
       "      <td>1645.0</td>\n",
       "      <td>1645.0</td>\n",
       "      <td>7200</td>\n",
       "      <td>1.0</td>\n",
       "      <td>NaN</td>\n",
       "      <td>False</td>\n",
       "      <td>-0.004302</td>\n",
       "    </tr>\n",
       "    <tr>\n",
       "      <th>2332529</th>\n",
       "      <td>20211203_9994</td>\n",
       "      <td>2021-12-03</td>\n",
       "      <td>9994</td>\n",
       "      <td>2388.0</td>\n",
       "      <td>2396.0</td>\n",
       "      <td>2380.0</td>\n",
       "      <td>2389.0</td>\n",
       "      <td>6500</td>\n",
       "      <td>1.0</td>\n",
       "      <td>NaN</td>\n",
       "      <td>False</td>\n",
       "      <td>0.009098</td>\n",
       "    </tr>\n",
       "    <tr>\n",
       "      <th>2332530</th>\n",
       "      <td>20211203_9997</td>\n",
       "      <td>2021-12-03</td>\n",
       "      <td>9997</td>\n",
       "      <td>690.0</td>\n",
       "      <td>711.0</td>\n",
       "      <td>686.0</td>\n",
       "      <td>696.0</td>\n",
       "      <td>381100</td>\n",
       "      <td>1.0</td>\n",
       "      <td>NaN</td>\n",
       "      <td>False</td>\n",
       "      <td>0.018414</td>\n",
       "    </tr>\n",
       "  </tbody>\n",
       "</table>\n",
       "<p>9299692 rows × 12 columns</p>\n",
       "</div>"
      ],
      "text/plain": [
       "                 RowId       Date  SecuritiesCode    Open    High     Low  \\\n",
       "0        20170104_1301 2017-01-04            1301  2734.0  2755.0  2730.0   \n",
       "1        20170104_1332 2017-01-04            1332   568.0   576.0   563.0   \n",
       "2        20170104_1333 2017-01-04            1333  3150.0  3210.0  3140.0   \n",
       "3        20170104_1376 2017-01-04            1376  1510.0  1550.0  1510.0   \n",
       "4        20170104_1377 2017-01-04            1377  3270.0  3350.0  3270.0   \n",
       "...                ...        ...             ...     ...     ...     ...   \n",
       "2332526  20211203_9990 2021-12-03            9990   514.0   528.0   513.0   \n",
       "2332527  20211203_9991 2021-12-03            9991   782.0   794.0   782.0   \n",
       "2332528  20211203_9993 2021-12-03            9993  1690.0  1690.0  1645.0   \n",
       "2332529  20211203_9994 2021-12-03            9994  2388.0  2396.0  2380.0   \n",
       "2332530  20211203_9997 2021-12-03            9997   690.0   711.0   686.0   \n",
       "\n",
       "          Close   Volume  AdjustmentFactor  ExpectedDividend  SupervisionFlag  \\\n",
       "0        2742.0    31400               1.0               NaN            False   \n",
       "1         571.0  2798500               1.0               NaN            False   \n",
       "2        3210.0   270800               1.0               NaN            False   \n",
       "3        1550.0    11300               1.0               NaN            False   \n",
       "4        3330.0   150800               1.0               NaN            False   \n",
       "...         ...      ...               ...               ...              ...   \n",
       "2332526   528.0    44200               1.0               NaN            False   \n",
       "2332527   794.0    35900               1.0               NaN            False   \n",
       "2332528  1645.0     7200               1.0               NaN            False   \n",
       "2332529  2389.0     6500               1.0               NaN            False   \n",
       "2332530   696.0   381100               1.0               NaN            False   \n",
       "\n",
       "           Target  \n",
       "0        0.000730  \n",
       "1        0.012324  \n",
       "2        0.006154  \n",
       "3        0.011053  \n",
       "4        0.003026  \n",
       "...           ...  \n",
       "2332526  0.034816  \n",
       "2332527  0.025478  \n",
       "2332528 -0.004302  \n",
       "2332529  0.009098  \n",
       "2332530  0.018414  \n",
       "\n",
       "[9299692 rows x 12 columns]"
      ]
     },
     "execution_count": 108,
     "metadata": {},
     "output_type": "execute_result"
    }
   ],
   "source": [
    "pd_concatted = pd.concat([stock_prices_pd, stock_prices_pd])\n",
    "pd_concatted = pd.concat([pd_concatted, pd_concatted])\n",
    "pd_concatted"
   ]
  },
  {
   "cell_type": "code",
   "execution_count": 15,
   "id": "e5e112fe-1fc6-4fd6-8e7a-60674504a1aa",
   "metadata": {},
   "outputs": [
    {
     "name": "stdout",
     "output_type": "stream",
     "text": [
      "<class 'pandas.core.frame.DataFrame'>\n",
      "Int64Index: 9299692 entries, 0 to 2332530\n",
      "Data columns (total 12 columns):\n",
      " #   Column            Dtype         \n",
      "---  ------            -----         \n",
      " 0   RowId             object        \n",
      " 1   Date              datetime64[ns]\n",
      " 2   SecuritiesCode    int64         \n",
      " 3   Open              float64       \n",
      " 4   High              float64       \n",
      " 5   Low               float64       \n",
      " 6   Close             float64       \n",
      " 7   Volume            int64         \n",
      " 8   AdjustmentFactor  float64       \n",
      " 9   ExpectedDividend  float64       \n",
      " 10  SupervisionFlag   bool          \n",
      " 11  Target            float64       \n",
      "dtypes: bool(1), datetime64[ns](1), float64(7), int64(2), object(1)\n",
      "memory usage: 860.3+ MB\n"
     ]
    }
   ],
   "source": [
    "pd_concatted.info()"
   ]
  },
  {
   "cell_type": "code",
   "execution_count": 128,
   "id": "48dd21a7-68d8-4c01-b830-e527bae54034",
   "metadata": {},
   "outputs": [
    {
     "data": {
      "text/html": [
       "<div>\n",
       "<style scoped>\n",
       "    .dataframe tbody tr th:only-of-type {\n",
       "        vertical-align: middle;\n",
       "    }\n",
       "\n",
       "    .dataframe tbody tr th {\n",
       "        vertical-align: top;\n",
       "    }\n",
       "\n",
       "    .dataframe thead th {\n",
       "        text-align: right;\n",
       "    }\n",
       "</style>\n",
       "<table border=\"1\" class=\"dataframe\">\n",
       "  <thead>\n",
       "    <tr style=\"text-align: right;\">\n",
       "      <th></th>\n",
       "      <th>RowId</th>\n",
       "      <th>Date</th>\n",
       "      <th>SecuritiesCode</th>\n",
       "      <th>Open</th>\n",
       "      <th>High</th>\n",
       "      <th>Low</th>\n",
       "      <th>Close</th>\n",
       "      <th>Volume</th>\n",
       "      <th>AdjustmentFactor</th>\n",
       "      <th>ExpectedDividend</th>\n",
       "      <th>SupervisionFlag</th>\n",
       "      <th>Target</th>\n",
       "    </tr>\n",
       "  </thead>\n",
       "  <tbody>\n",
       "    <tr>\n",
       "      <th>0</th>\n",
       "      <td>20170104_1301</td>\n",
       "      <td>2017-01-04</td>\n",
       "      <td>1301</td>\n",
       "      <td>2734.0</td>\n",
       "      <td>2755.0</td>\n",
       "      <td>2730.0</td>\n",
       "      <td>2742.0</td>\n",
       "      <td>31400</td>\n",
       "      <td>1.0</td>\n",
       "      <td>NaN</td>\n",
       "      <td>False</td>\n",
       "      <td>0.000730</td>\n",
       "    </tr>\n",
       "    <tr>\n",
       "      <th>1</th>\n",
       "      <td>20170104_1332</td>\n",
       "      <td>2017-01-04</td>\n",
       "      <td>1332</td>\n",
       "      <td>568.0</td>\n",
       "      <td>576.0</td>\n",
       "      <td>563.0</td>\n",
       "      <td>571.0</td>\n",
       "      <td>2798500</td>\n",
       "      <td>1.0</td>\n",
       "      <td>NaN</td>\n",
       "      <td>False</td>\n",
       "      <td>0.012324</td>\n",
       "    </tr>\n",
       "    <tr>\n",
       "      <th>2</th>\n",
       "      <td>20170104_1333</td>\n",
       "      <td>2017-01-04</td>\n",
       "      <td>1333</td>\n",
       "      <td>3150.0</td>\n",
       "      <td>3210.0</td>\n",
       "      <td>3140.0</td>\n",
       "      <td>3210.0</td>\n",
       "      <td>270800</td>\n",
       "      <td>1.0</td>\n",
       "      <td>NaN</td>\n",
       "      <td>False</td>\n",
       "      <td>0.006154</td>\n",
       "    </tr>\n",
       "    <tr>\n",
       "      <th>3</th>\n",
       "      <td>20170104_1376</td>\n",
       "      <td>2017-01-04</td>\n",
       "      <td>1376</td>\n",
       "      <td>1510.0</td>\n",
       "      <td>1550.0</td>\n",
       "      <td>1510.0</td>\n",
       "      <td>1550.0</td>\n",
       "      <td>11300</td>\n",
       "      <td>1.0</td>\n",
       "      <td>NaN</td>\n",
       "      <td>False</td>\n",
       "      <td>0.011053</td>\n",
       "    </tr>\n",
       "    <tr>\n",
       "      <th>4</th>\n",
       "      <td>20170104_1377</td>\n",
       "      <td>2017-01-04</td>\n",
       "      <td>1377</td>\n",
       "      <td>3270.0</td>\n",
       "      <td>3350.0</td>\n",
       "      <td>3270.0</td>\n",
       "      <td>3330.0</td>\n",
       "      <td>150800</td>\n",
       "      <td>1.0</td>\n",
       "      <td>NaN</td>\n",
       "      <td>False</td>\n",
       "      <td>0.003026</td>\n",
       "    </tr>\n",
       "    <tr>\n",
       "      <th>...</th>\n",
       "      <td>...</td>\n",
       "      <td>...</td>\n",
       "      <td>...</td>\n",
       "      <td>...</td>\n",
       "      <td>...</td>\n",
       "      <td>...</td>\n",
       "      <td>...</td>\n",
       "      <td>...</td>\n",
       "      <td>...</td>\n",
       "      <td>...</td>\n",
       "      <td>...</td>\n",
       "      <td>...</td>\n",
       "    </tr>\n",
       "    <tr>\n",
       "      <th>2332526</th>\n",
       "      <td>20211203_9990</td>\n",
       "      <td>2021-12-03</td>\n",
       "      <td>9990</td>\n",
       "      <td>514.0</td>\n",
       "      <td>528.0</td>\n",
       "      <td>513.0</td>\n",
       "      <td>528.0</td>\n",
       "      <td>44200</td>\n",
       "      <td>1.0</td>\n",
       "      <td>NaN</td>\n",
       "      <td>False</td>\n",
       "      <td>0.034816</td>\n",
       "    </tr>\n",
       "    <tr>\n",
       "      <th>2332527</th>\n",
       "      <td>20211203_9991</td>\n",
       "      <td>2021-12-03</td>\n",
       "      <td>9991</td>\n",
       "      <td>782.0</td>\n",
       "      <td>794.0</td>\n",
       "      <td>782.0</td>\n",
       "      <td>794.0</td>\n",
       "      <td>35900</td>\n",
       "      <td>1.0</td>\n",
       "      <td>NaN</td>\n",
       "      <td>False</td>\n",
       "      <td>0.025478</td>\n",
       "    </tr>\n",
       "    <tr>\n",
       "      <th>2332528</th>\n",
       "      <td>20211203_9993</td>\n",
       "      <td>2021-12-03</td>\n",
       "      <td>9993</td>\n",
       "      <td>1690.0</td>\n",
       "      <td>1690.0</td>\n",
       "      <td>1645.0</td>\n",
       "      <td>1645.0</td>\n",
       "      <td>7200</td>\n",
       "      <td>1.0</td>\n",
       "      <td>NaN</td>\n",
       "      <td>False</td>\n",
       "      <td>-0.004302</td>\n",
       "    </tr>\n",
       "    <tr>\n",
       "      <th>2332529</th>\n",
       "      <td>20211203_9994</td>\n",
       "      <td>2021-12-03</td>\n",
       "      <td>9994</td>\n",
       "      <td>2388.0</td>\n",
       "      <td>2396.0</td>\n",
       "      <td>2380.0</td>\n",
       "      <td>2389.0</td>\n",
       "      <td>6500</td>\n",
       "      <td>1.0</td>\n",
       "      <td>NaN</td>\n",
       "      <td>False</td>\n",
       "      <td>0.009098</td>\n",
       "    </tr>\n",
       "    <tr>\n",
       "      <th>2332530</th>\n",
       "      <td>20211203_9997</td>\n",
       "      <td>2021-12-03</td>\n",
       "      <td>9997</td>\n",
       "      <td>690.0</td>\n",
       "      <td>711.0</td>\n",
       "      <td>686.0</td>\n",
       "      <td>696.0</td>\n",
       "      <td>381100</td>\n",
       "      <td>1.0</td>\n",
       "      <td>NaN</td>\n",
       "      <td>False</td>\n",
       "      <td>0.018414</td>\n",
       "    </tr>\n",
       "  </tbody>\n",
       "</table>\n",
       "<p>9299692 rows x 12 columns</p>\n",
       "</div>"
      ],
      "text/plain": [
       "                 RowId       Date  SecuritiesCode    Open    High     Low  \\\n",
       "0        20170104_1301 2017-01-04            1301  2734.0  2755.0  2730.0   \n",
       "1        20170104_1332 2017-01-04            1332   568.0   576.0   563.0   \n",
       "2        20170104_1333 2017-01-04            1333  3150.0  3210.0  3140.0   \n",
       "3        20170104_1376 2017-01-04            1376  1510.0  1550.0  1510.0   \n",
       "4        20170104_1377 2017-01-04            1377  3270.0  3350.0  3270.0   \n",
       "...                ...        ...             ...     ...     ...     ...   \n",
       "2332526  20211203_9990 2021-12-03            9990   514.0   528.0   513.0   \n",
       "2332527  20211203_9991 2021-12-03            9991   782.0   794.0   782.0   \n",
       "2332528  20211203_9993 2021-12-03            9993  1690.0  1690.0  1645.0   \n",
       "2332529  20211203_9994 2021-12-03            9994  2388.0  2396.0  2380.0   \n",
       "2332530  20211203_9997 2021-12-03            9997   690.0   711.0   686.0   \n",
       "\n",
       "          Close   Volume  AdjustmentFactor  ExpectedDividend  SupervisionFlag  \\\n",
       "0        2742.0    31400               1.0               NaN            False   \n",
       "1         571.0  2798500               1.0               NaN            False   \n",
       "2        3210.0   270800               1.0               NaN            False   \n",
       "3        1550.0    11300               1.0               NaN            False   \n",
       "4        3330.0   150800               1.0               NaN            False   \n",
       "...         ...      ...               ...               ...              ...   \n",
       "2332526   528.0    44200               1.0               NaN            False   \n",
       "2332527   794.0    35900               1.0               NaN            False   \n",
       "2332528  1645.0     7200               1.0               NaN            False   \n",
       "2332529  2389.0     6500               1.0               NaN            False   \n",
       "2332530   696.0   381100               1.0               NaN            False   \n",
       "\n",
       "           Target  \n",
       "0        0.000730  \n",
       "1        0.012324  \n",
       "2        0.006154  \n",
       "3        0.011053  \n",
       "4        0.003026  \n",
       "...           ...  \n",
       "2332526  0.034816  \n",
       "2332527  0.025478  \n",
       "2332528 -0.004302  \n",
       "2332529  0.009098  \n",
       "2332530  0.018414  \n",
       "\n",
       "[9299692 rows x 12 columns]"
      ]
     },
     "execution_count": 128,
     "metadata": {},
     "output_type": "execute_result"
    }
   ],
   "source": [
    "modin_concatted = mp.concat([stock_prices_modin, stock_prices_modin])\n",
    "modin_concatted = mp.concat([modin_concatted, modin_concatted])\n",
    "modin_concatted"
   ]
  },
  {
   "cell_type": "code",
   "execution_count": 16,
   "id": "401941d2-8e60-4718-adaf-e57a4794b21c",
   "metadata": {},
   "outputs": [
    {
     "name": "stderr",
     "output_type": "stream",
     "text": [
      "UserWarning: Distributing <class 'int'> object. This may take some time.\n"
     ]
    },
    {
     "name": "stdout",
     "output_type": "stream",
     "text": [
      "<class 'modin.pandas.dataframe.DataFrame'>\n",
      "Int64Index: 9299692 entries, 0 to 2332530\n",
      "Data columns (total 12 columns):\n",
      " #   Column            Non-Null Count    Dtype         \n",
      "---  ----------------  ----------------  -----         \n",
      " 0   RowId             9299692 non-null  object\n",
      " 1   Date              9299692 non-null  datetime64[ns]\n",
      " 2   SecuritiesCode    9299692 non-null  int64\n",
      " 3   Open              9299692 non-null  float64\n",
      " 4   High              9299692 non-null  float64\n",
      " 5   Low               9299692 non-null  float64\n",
      " 6   Close             9299692 non-null  float64\n",
      " 7   Volume            9299692 non-null  int64\n",
      " 8   AdjustmentFactor  9299692 non-null  float64\n",
      " 9   ExpectedDividend  75364 non-null    float64\n",
      " 10  SupervisionFlag   9299692 non-null  bool \n",
      " 11  Target            9299692 non-null  float64\n",
      "dtypes: float64(7), int64(2), object(1), datetime64[ns](1), bool(1)\n",
      "memory usage: 860.3 MB\n"
     ]
    }
   ],
   "source": [
    "modin_concatted.info()"
   ]
  },
  {
   "cell_type": "code",
   "execution_count": 57,
   "id": "a2b5532d-d1eb-4fb7-b7ac-24c264696e49",
   "metadata": {},
   "outputs": [
    {
     "data": {
      "text/html": [
       "<div>\n",
       "<style scoped>\n",
       "    .dataframe tbody tr th:only-of-type {\n",
       "        vertical-align: middle;\n",
       "    }\n",
       "\n",
       "    .dataframe tbody tr th {\n",
       "        vertical-align: top;\n",
       "    }\n",
       "\n",
       "    .dataframe thead th {\n",
       "        text-align: right;\n",
       "    }\n",
       "</style>\n",
       "<table border=\"1\" class=\"dataframe\">\n",
       "  <thead>\n",
       "    <tr style=\"text-align: right;\">\n",
       "      <th></th>\n",
       "      <th>RowId</th>\n",
       "      <th>Date</th>\n",
       "      <th>SecuritiesCode</th>\n",
       "      <th>Open</th>\n",
       "      <th>High</th>\n",
       "      <th>Low</th>\n",
       "      <th>Close</th>\n",
       "      <th>Volume</th>\n",
       "      <th>AdjustmentFactor</th>\n",
       "      <th>ExpectedDividend</th>\n",
       "      <th>SupervisionFlag</th>\n",
       "      <th>Target</th>\n",
       "    </tr>\n",
       "  </thead>\n",
       "  <tbody>\n",
       "    <tr>\n",
       "      <th>0</th>\n",
       "      <td>20170104_1301</td>\n",
       "      <td>2017-01-04</td>\n",
       "      <td>1301</td>\n",
       "      <td>2734.0</td>\n",
       "      <td>2755.0</td>\n",
       "      <td>2730.0</td>\n",
       "      <td>2742.0</td>\n",
       "      <td>31400</td>\n",
       "      <td>1.0</td>\n",
       "      <td>&lt;NA&gt;</td>\n",
       "      <td>False</td>\n",
       "      <td>0.000730</td>\n",
       "    </tr>\n",
       "    <tr>\n",
       "      <th>1</th>\n",
       "      <td>20170104_1332</td>\n",
       "      <td>2017-01-04</td>\n",
       "      <td>1332</td>\n",
       "      <td>568.0</td>\n",
       "      <td>576.0</td>\n",
       "      <td>563.0</td>\n",
       "      <td>571.0</td>\n",
       "      <td>2798500</td>\n",
       "      <td>1.0</td>\n",
       "      <td>&lt;NA&gt;</td>\n",
       "      <td>False</td>\n",
       "      <td>0.012324</td>\n",
       "    </tr>\n",
       "    <tr>\n",
       "      <th>2</th>\n",
       "      <td>20170104_1333</td>\n",
       "      <td>2017-01-04</td>\n",
       "      <td>1333</td>\n",
       "      <td>3150.0</td>\n",
       "      <td>3210.0</td>\n",
       "      <td>3140.0</td>\n",
       "      <td>3210.0</td>\n",
       "      <td>270800</td>\n",
       "      <td>1.0</td>\n",
       "      <td>&lt;NA&gt;</td>\n",
       "      <td>False</td>\n",
       "      <td>0.006154</td>\n",
       "    </tr>\n",
       "    <tr>\n",
       "      <th>3</th>\n",
       "      <td>20170104_1376</td>\n",
       "      <td>2017-01-04</td>\n",
       "      <td>1376</td>\n",
       "      <td>1510.0</td>\n",
       "      <td>1550.0</td>\n",
       "      <td>1510.0</td>\n",
       "      <td>1550.0</td>\n",
       "      <td>11300</td>\n",
       "      <td>1.0</td>\n",
       "      <td>&lt;NA&gt;</td>\n",
       "      <td>False</td>\n",
       "      <td>0.011053</td>\n",
       "    </tr>\n",
       "    <tr>\n",
       "      <th>4</th>\n",
       "      <td>20170104_1377</td>\n",
       "      <td>2017-01-04</td>\n",
       "      <td>1377</td>\n",
       "      <td>3270.0</td>\n",
       "      <td>3350.0</td>\n",
       "      <td>3270.0</td>\n",
       "      <td>3330.0</td>\n",
       "      <td>150800</td>\n",
       "      <td>1.0</td>\n",
       "      <td>&lt;NA&gt;</td>\n",
       "      <td>False</td>\n",
       "      <td>0.003026</td>\n",
       "    </tr>\n",
       "    <tr>\n",
       "      <th>...</th>\n",
       "      <td>...</td>\n",
       "      <td>...</td>\n",
       "      <td>...</td>\n",
       "      <td>...</td>\n",
       "      <td>...</td>\n",
       "      <td>...</td>\n",
       "      <td>...</td>\n",
       "      <td>...</td>\n",
       "      <td>...</td>\n",
       "      <td>...</td>\n",
       "      <td>...</td>\n",
       "      <td>...</td>\n",
       "    </tr>\n",
       "    <tr>\n",
       "      <th>2332526</th>\n",
       "      <td>20211203_9990</td>\n",
       "      <td>2021-12-03</td>\n",
       "      <td>9990</td>\n",
       "      <td>514.0</td>\n",
       "      <td>528.0</td>\n",
       "      <td>513.0</td>\n",
       "      <td>528.0</td>\n",
       "      <td>44200</td>\n",
       "      <td>1.0</td>\n",
       "      <td>&lt;NA&gt;</td>\n",
       "      <td>False</td>\n",
       "      <td>0.034816</td>\n",
       "    </tr>\n",
       "    <tr>\n",
       "      <th>2332527</th>\n",
       "      <td>20211203_9991</td>\n",
       "      <td>2021-12-03</td>\n",
       "      <td>9991</td>\n",
       "      <td>782.0</td>\n",
       "      <td>794.0</td>\n",
       "      <td>782.0</td>\n",
       "      <td>794.0</td>\n",
       "      <td>35900</td>\n",
       "      <td>1.0</td>\n",
       "      <td>&lt;NA&gt;</td>\n",
       "      <td>False</td>\n",
       "      <td>0.025478</td>\n",
       "    </tr>\n",
       "    <tr>\n",
       "      <th>2332528</th>\n",
       "      <td>20211203_9993</td>\n",
       "      <td>2021-12-03</td>\n",
       "      <td>9993</td>\n",
       "      <td>1690.0</td>\n",
       "      <td>1690.0</td>\n",
       "      <td>1645.0</td>\n",
       "      <td>1645.0</td>\n",
       "      <td>7200</td>\n",
       "      <td>1.0</td>\n",
       "      <td>&lt;NA&gt;</td>\n",
       "      <td>False</td>\n",
       "      <td>-0.004302</td>\n",
       "    </tr>\n",
       "    <tr>\n",
       "      <th>2332529</th>\n",
       "      <td>20211203_9994</td>\n",
       "      <td>2021-12-03</td>\n",
       "      <td>9994</td>\n",
       "      <td>2388.0</td>\n",
       "      <td>2396.0</td>\n",
       "      <td>2380.0</td>\n",
       "      <td>2389.0</td>\n",
       "      <td>6500</td>\n",
       "      <td>1.0</td>\n",
       "      <td>&lt;NA&gt;</td>\n",
       "      <td>False</td>\n",
       "      <td>0.009098</td>\n",
       "    </tr>\n",
       "    <tr>\n",
       "      <th>2332530</th>\n",
       "      <td>20211203_9997</td>\n",
       "      <td>2021-12-03</td>\n",
       "      <td>9997</td>\n",
       "      <td>690.0</td>\n",
       "      <td>711.0</td>\n",
       "      <td>686.0</td>\n",
       "      <td>696.0</td>\n",
       "      <td>381100</td>\n",
       "      <td>1.0</td>\n",
       "      <td>&lt;NA&gt;</td>\n",
       "      <td>False</td>\n",
       "      <td>0.018414</td>\n",
       "    </tr>\n",
       "  </tbody>\n",
       "</table>\n",
       "<p>9299692 rows × 12 columns</p>\n",
       "</div>"
      ],
      "text/plain": [
       "                 RowId       Date  SecuritiesCode    Open    High     Low  \\\n",
       "0        20170104_1301 2017-01-04            1301  2734.0  2755.0  2730.0   \n",
       "1        20170104_1332 2017-01-04            1332   568.0   576.0   563.0   \n",
       "2        20170104_1333 2017-01-04            1333  3150.0  3210.0  3140.0   \n",
       "3        20170104_1376 2017-01-04            1376  1510.0  1550.0  1510.0   \n",
       "4        20170104_1377 2017-01-04            1377  3270.0  3350.0  3270.0   \n",
       "...                ...        ...             ...     ...     ...     ...   \n",
       "2332526  20211203_9990 2021-12-03            9990   514.0   528.0   513.0   \n",
       "2332527  20211203_9991 2021-12-03            9991   782.0   794.0   782.0   \n",
       "2332528  20211203_9993 2021-12-03            9993  1690.0  1690.0  1645.0   \n",
       "2332529  20211203_9994 2021-12-03            9994  2388.0  2396.0  2380.0   \n",
       "2332530  20211203_9997 2021-12-03            9997   690.0   711.0   686.0   \n",
       "\n",
       "          Close   Volume  AdjustmentFactor ExpectedDividend  SupervisionFlag  \\\n",
       "0        2742.0    31400               1.0             <NA>            False   \n",
       "1         571.0  2798500               1.0             <NA>            False   \n",
       "2        3210.0   270800               1.0             <NA>            False   \n",
       "3        1550.0    11300               1.0             <NA>            False   \n",
       "4        3330.0   150800               1.0             <NA>            False   \n",
       "...         ...      ...               ...              ...              ...   \n",
       "2332526   528.0    44200               1.0             <NA>            False   \n",
       "2332527   794.0    35900               1.0             <NA>            False   \n",
       "2332528  1645.0     7200               1.0             <NA>            False   \n",
       "2332529  2389.0     6500               1.0             <NA>            False   \n",
       "2332530   696.0   381100               1.0             <NA>            False   \n",
       "\n",
       "           Target  \n",
       "0        0.000730  \n",
       "1        0.012324  \n",
       "2        0.006154  \n",
       "3        0.011053  \n",
       "4        0.003026  \n",
       "...           ...  \n",
       "2332526  0.034816  \n",
       "2332527  0.025478  \n",
       "2332528 -0.004302  \n",
       "2332529  0.009098  \n",
       "2332530  0.018414  \n",
       "\n",
       "[9299692 rows x 12 columns]"
      ]
     },
     "execution_count": 57,
     "metadata": {},
     "output_type": "execute_result"
    }
   ],
   "source": [
    "cudf_concatted = cudf.concat([stock_prices_cudf, stock_prices_cudf])\n",
    "cudf_concatted = cudf.concat([cudf_concatted, cudf_concatted])\n",
    "cudf_concatted"
   ]
  },
  {
   "cell_type": "code",
   "execution_count": 17,
   "id": "cc85c382-cde0-4dad-8d8e-d22c15e81fc7",
   "metadata": {},
   "outputs": [
    {
     "name": "stdout",
     "output_type": "stream",
     "text": [
      "<class 'cudf.core.dataframe.DataFrame'>\n",
      "Int64Index: 9299692 entries, 0 to 2332530\n",
      "Data columns (total 12 columns):\n",
      " #   Column            Dtype\n",
      "---  ------            -----\n",
      " 0   RowId             object\n",
      " 1   Date              datetime64[ns]\n",
      " 2   SecuritiesCode    int64\n",
      " 3   Open              float64\n",
      " 4   High              float64\n",
      " 5   Low               float64\n",
      " 6   Close             float64\n",
      " 7   Volume            int64\n",
      " 8   AdjustmentFactor  float64\n",
      " 9   ExpectedDividend  float64\n",
      " 10  SupervisionFlag   bool\n",
      " 11  Target            float64\n",
      "dtypes: bool(1), datetime64[ns](1), float64(7), int64(2), object(1)\n",
      "memory usage: 941.2+ MB\n"
     ]
    }
   ],
   "source": [
    "cudf_concatted.info()"
   ]
  },
  {
   "cell_type": "code",
   "execution_count": 58,
   "id": "3589fe73-3e68-4706-97c0-7e674f862371",
   "metadata": {},
   "outputs": [
    {
     "data": {
      "text/html": [
       "<div>\n",
       "<style scoped>\n",
       "    .dataframe tbody tr th:only-of-type {\n",
       "        vertical-align: middle;\n",
       "    }\n",
       "\n",
       "    .dataframe tbody tr th {\n",
       "        vertical-align: top;\n",
       "    }\n",
       "\n",
       "    .dataframe thead th {\n",
       "        text-align: right;\n",
       "    }\n",
       "\n",
       "    .dataframe td {\n",
       "        white-space: pre;\n",
       "    }\n",
       "\n",
       "    .dataframe td {\n",
       "        line-height: 95%;\n",
       "    }\n",
       "\n",
       "    .dataframe td {\n",
       "        padding-top: 0;\n",
       "    }\n",
       "\n",
       "    .dataframe td {\n",
       "        padding-bottom: 0;\n",
       "    }\n",
       "</style>\n",
       "<table border=\"1\" class=\"dataframe\" >\n",
       "<small>shape: (9299692, 12)</small>\n",
       "<thead>\n",
       "<tr>\n",
       "<th>\n",
       "RowId\n",
       "</th>\n",
       "<th>\n",
       "Date\n",
       "</th>\n",
       "<th>\n",
       "SecuritiesCode\n",
       "</th>\n",
       "<th>\n",
       "Open\n",
       "</th>\n",
       "<th>\n",
       "High\n",
       "</th>\n",
       "<th>\n",
       "Low\n",
       "</th>\n",
       "<th>\n",
       "Close\n",
       "</th>\n",
       "<th>\n",
       "Volume\n",
       "</th>\n",
       "<th>\n",
       "AdjustmentFactor\n",
       "</th>\n",
       "<th>\n",
       "ExpectedDividend\n",
       "</th>\n",
       "<th>\n",
       "SupervisionFlag\n",
       "</th>\n",
       "<th>\n",
       "Target\n",
       "</th>\n",
       "</tr>\n",
       "<tr>\n",
       "<td>\n",
       "str\n",
       "</td>\n",
       "<td>\n",
       "date\n",
       "</td>\n",
       "<td>\n",
       "i64\n",
       "</td>\n",
       "<td>\n",
       "f64\n",
       "</td>\n",
       "<td>\n",
       "f64\n",
       "</td>\n",
       "<td>\n",
       "f64\n",
       "</td>\n",
       "<td>\n",
       "f64\n",
       "</td>\n",
       "<td>\n",
       "i64\n",
       "</td>\n",
       "<td>\n",
       "f64\n",
       "</td>\n",
       "<td>\n",
       "str\n",
       "</td>\n",
       "<td>\n",
       "bool\n",
       "</td>\n",
       "<td>\n",
       "f64\n",
       "</td>\n",
       "</tr>\n",
       "</thead>\n",
       "<tbody>\n",
       "<tr>\n",
       "<td>\n",
       "\"20170104_1301\"\n",
       "</td>\n",
       "<td>\n",
       "2017-01-04\n",
       "</td>\n",
       "<td>\n",
       "1301\n",
       "</td>\n",
       "<td>\n",
       "2734.0\n",
       "</td>\n",
       "<td>\n",
       "2755.0\n",
       "</td>\n",
       "<td>\n",
       "2730.0\n",
       "</td>\n",
       "<td>\n",
       "2742.0\n",
       "</td>\n",
       "<td>\n",
       "31400\n",
       "</td>\n",
       "<td>\n",
       "1.0\n",
       "</td>\n",
       "<td>\n",
       "null\n",
       "</td>\n",
       "<td>\n",
       "false\n",
       "</td>\n",
       "<td>\n",
       "0.0007\n",
       "</td>\n",
       "</tr>\n",
       "<tr>\n",
       "<td>\n",
       "\"20170104_1332\"\n",
       "</td>\n",
       "<td>\n",
       "2017-01-04\n",
       "</td>\n",
       "<td>\n",
       "1332\n",
       "</td>\n",
       "<td>\n",
       "568.0\n",
       "</td>\n",
       "<td>\n",
       "576.0\n",
       "</td>\n",
       "<td>\n",
       "563.0\n",
       "</td>\n",
       "<td>\n",
       "571.0\n",
       "</td>\n",
       "<td>\n",
       "2798500\n",
       "</td>\n",
       "<td>\n",
       "1.0\n",
       "</td>\n",
       "<td>\n",
       "null\n",
       "</td>\n",
       "<td>\n",
       "false\n",
       "</td>\n",
       "<td>\n",
       "0.012324\n",
       "</td>\n",
       "</tr>\n",
       "<tr>\n",
       "<td>\n",
       "\"20170104_1333\"\n",
       "</td>\n",
       "<td>\n",
       "2017-01-04\n",
       "</td>\n",
       "<td>\n",
       "1333\n",
       "</td>\n",
       "<td>\n",
       "3150.0\n",
       "</td>\n",
       "<td>\n",
       "3210.0\n",
       "</td>\n",
       "<td>\n",
       "3140.0\n",
       "</td>\n",
       "<td>\n",
       "3210.0\n",
       "</td>\n",
       "<td>\n",
       "270800\n",
       "</td>\n",
       "<td>\n",
       "1.0\n",
       "</td>\n",
       "<td>\n",
       "null\n",
       "</td>\n",
       "<td>\n",
       "false\n",
       "</td>\n",
       "<td>\n",
       "0.006154\n",
       "</td>\n",
       "</tr>\n",
       "<tr>\n",
       "<td>\n",
       "\"20170104_1376\"\n",
       "</td>\n",
       "<td>\n",
       "2017-01-04\n",
       "</td>\n",
       "<td>\n",
       "1376\n",
       "</td>\n",
       "<td>\n",
       "1510.0\n",
       "</td>\n",
       "<td>\n",
       "1550.0\n",
       "</td>\n",
       "<td>\n",
       "1510.0\n",
       "</td>\n",
       "<td>\n",
       "1550.0\n",
       "</td>\n",
       "<td>\n",
       "11300\n",
       "</td>\n",
       "<td>\n",
       "1.0\n",
       "</td>\n",
       "<td>\n",
       "null\n",
       "</td>\n",
       "<td>\n",
       "false\n",
       "</td>\n",
       "<td>\n",
       "0.011053\n",
       "</td>\n",
       "</tr>\n",
       "<tr>\n",
       "<td>\n",
       "\"20170104_1377\"\n",
       "</td>\n",
       "<td>\n",
       "2017-01-04\n",
       "</td>\n",
       "<td>\n",
       "1377\n",
       "</td>\n",
       "<td>\n",
       "3270.0\n",
       "</td>\n",
       "<td>\n",
       "3350.0\n",
       "</td>\n",
       "<td>\n",
       "3270.0\n",
       "</td>\n",
       "<td>\n",
       "3330.0\n",
       "</td>\n",
       "<td>\n",
       "150800\n",
       "</td>\n",
       "<td>\n",
       "1.0\n",
       "</td>\n",
       "<td>\n",
       "null\n",
       "</td>\n",
       "<td>\n",
       "false\n",
       "</td>\n",
       "<td>\n",
       "0.003026\n",
       "</td>\n",
       "</tr>\n",
       "<tr>\n",
       "<td>\n",
       "\"20170104_1379\"\n",
       "</td>\n",
       "<td>\n",
       "2017-01-04\n",
       "</td>\n",
       "<td>\n",
       "1379\n",
       "</td>\n",
       "<td>\n",
       "2105.0\n",
       "</td>\n",
       "<td>\n",
       "2147.0\n",
       "</td>\n",
       "<td>\n",
       "2101.0\n",
       "</td>\n",
       "<td>\n",
       "2143.0\n",
       "</td>\n",
       "<td>\n",
       "77300\n",
       "</td>\n",
       "<td>\n",
       "1.0\n",
       "</td>\n",
       "<td>\n",
       "null\n",
       "</td>\n",
       "<td>\n",
       "false\n",
       "</td>\n",
       "<td>\n",
       "0.005169\n",
       "</td>\n",
       "</tr>\n",
       "<tr>\n",
       "<td>\n",
       "\"20170104_1381\"\n",
       "</td>\n",
       "<td>\n",
       "2017-01-04\n",
       "</td>\n",
       "<td>\n",
       "1381\n",
       "</td>\n",
       "<td>\n",
       "1950.0\n",
       "</td>\n",
       "<td>\n",
       "1960.0\n",
       "</td>\n",
       "<td>\n",
       "1949.0\n",
       "</td>\n",
       "<td>\n",
       "1960.0\n",
       "</td>\n",
       "<td>\n",
       "1300\n",
       "</td>\n",
       "<td>\n",
       "1.0\n",
       "</td>\n",
       "<td>\n",
       "null\n",
       "</td>\n",
       "<td>\n",
       "false\n",
       "</td>\n",
       "<td>\n",
       "-0.009326\n",
       "</td>\n",
       "</tr>\n",
       "<tr>\n",
       "<td>\n",
       "\"20170104_1407\"\n",
       "</td>\n",
       "<td>\n",
       "2017-01-04\n",
       "</td>\n",
       "<td>\n",
       "1407\n",
       "</td>\n",
       "<td>\n",
       "857.0\n",
       "</td>\n",
       "<td>\n",
       "877.0\n",
       "</td>\n",
       "<td>\n",
       "851.0\n",
       "</td>\n",
       "<td>\n",
       "866.0\n",
       "</td>\n",
       "<td>\n",
       "147000\n",
       "</td>\n",
       "<td>\n",
       "1.0\n",
       "</td>\n",
       "<td>\n",
       "null\n",
       "</td>\n",
       "<td>\n",
       "false\n",
       "</td>\n",
       "<td>\n",
       "-0.003437\n",
       "</td>\n",
       "</tr>\n",
       "<tr>\n",
       "<td>\n",
       "\"20170104_1414\"\n",
       "</td>\n",
       "<td>\n",
       "2017-01-04\n",
       "</td>\n",
       "<td>\n",
       "1414\n",
       "</td>\n",
       "<td>\n",
       "4940.0\n",
       "</td>\n",
       "<td>\n",
       "5060.0\n",
       "</td>\n",
       "<td>\n",
       "4935.0\n",
       "</td>\n",
       "<td>\n",
       "5050.0\n",
       "</td>\n",
       "<td>\n",
       "119600\n",
       "</td>\n",
       "<td>\n",
       "1.0\n",
       "</td>\n",
       "<td>\n",
       "null\n",
       "</td>\n",
       "<td>\n",
       "false\n",
       "</td>\n",
       "<td>\n",
       "0.0\n",
       "</td>\n",
       "</tr>\n",
       "<tr>\n",
       "<td>\n",
       "\"20170104_1417\"\n",
       "</td>\n",
       "<td>\n",
       "2017-01-04\n",
       "</td>\n",
       "<td>\n",
       "1417\n",
       "</td>\n",
       "<td>\n",
       "1051.0\n",
       "</td>\n",
       "<td>\n",
       "1063.0\n",
       "</td>\n",
       "<td>\n",
       "1048.0\n",
       "</td>\n",
       "<td>\n",
       "1053.0\n",
       "</td>\n",
       "<td>\n",
       "347500\n",
       "</td>\n",
       "<td>\n",
       "1.0\n",
       "</td>\n",
       "<td>\n",
       "null\n",
       "</td>\n",
       "<td>\n",
       "false\n",
       "</td>\n",
       "<td>\n",
       "-0.007463\n",
       "</td>\n",
       "</tr>\n",
       "<tr>\n",
       "<td>\n",
       "\"20170104_1419\"\n",
       "</td>\n",
       "<td>\n",
       "2017-01-04\n",
       "</td>\n",
       "<td>\n",
       "1419\n",
       "</td>\n",
       "<td>\n",
       "526.0\n",
       "</td>\n",
       "<td>\n",
       "535.0\n",
       "</td>\n",
       "<td>\n",
       "526.0\n",
       "</td>\n",
       "<td>\n",
       "535.0\n",
       "</td>\n",
       "<td>\n",
       "51600\n",
       "</td>\n",
       "<td>\n",
       "1.0\n",
       "</td>\n",
       "<td>\n",
       "null\n",
       "</td>\n",
       "<td>\n",
       "false\n",
       "</td>\n",
       "<td>\n",
       "0.009259\n",
       "</td>\n",
       "</tr>\n",
       "<tr>\n",
       "<td>\n",
       "\"20170104_1429\"\n",
       "</td>\n",
       "<td>\n",
       "2017-01-04\n",
       "</td>\n",
       "<td>\n",
       "1429\n",
       "</td>\n",
       "<td>\n",
       "418.0\n",
       "</td>\n",
       "<td>\n",
       "420.0\n",
       "</td>\n",
       "<td>\n",
       "418.0\n",
       "</td>\n",
       "<td>\n",
       "418.0\n",
       "</td>\n",
       "<td>\n",
       "24900\n",
       "</td>\n",
       "<td>\n",
       "1.0\n",
       "</td>\n",
       "<td>\n",
       "null\n",
       "</td>\n",
       "<td>\n",
       "false\n",
       "</td>\n",
       "<td>\n",
       "0.0071\n",
       "</td>\n",
       "</tr>\n",
       "<tr>\n",
       "<td>\n",
       "...\n",
       "</td>\n",
       "<td>\n",
       "...\n",
       "</td>\n",
       "<td>\n",
       "...\n",
       "</td>\n",
       "<td>\n",
       "...\n",
       "</td>\n",
       "<td>\n",
       "...\n",
       "</td>\n",
       "<td>\n",
       "...\n",
       "</td>\n",
       "<td>\n",
       "...\n",
       "</td>\n",
       "<td>\n",
       "...\n",
       "</td>\n",
       "<td>\n",
       "...\n",
       "</td>\n",
       "<td>\n",
       "...\n",
       "</td>\n",
       "<td>\n",
       "...\n",
       "</td>\n",
       "<td>\n",
       "...\n",
       "</td>\n",
       "</tr>\n",
       "<tr>\n",
       "<td>\n",
       "\"20211203_9977\"\n",
       "</td>\n",
       "<td>\n",
       "2021-12-03\n",
       "</td>\n",
       "<td>\n",
       "9977\n",
       "</td>\n",
       "<td>\n",
       "2915.0\n",
       "</td>\n",
       "<td>\n",
       "2915.0\n",
       "</td>\n",
       "<td>\n",
       "2900.0\n",
       "</td>\n",
       "<td>\n",
       "2900.0\n",
       "</td>\n",
       "<td>\n",
       "900\n",
       "</td>\n",
       "<td>\n",
       "1.0\n",
       "</td>\n",
       "<td>\n",
       "null\n",
       "</td>\n",
       "<td>\n",
       "false\n",
       "</td>\n",
       "<td>\n",
       "-0.023264\n",
       "</td>\n",
       "</tr>\n",
       "<tr>\n",
       "<td>\n",
       "\"20211203_9979\"\n",
       "</td>\n",
       "<td>\n",
       "2021-12-03\n",
       "</td>\n",
       "<td>\n",
       "9979\n",
       "</td>\n",
       "<td>\n",
       "939.0\n",
       "</td>\n",
       "<td>\n",
       "958.0\n",
       "</td>\n",
       "<td>\n",
       "937.0\n",
       "</td>\n",
       "<td>\n",
       "955.0\n",
       "</td>\n",
       "<td>\n",
       "72000\n",
       "</td>\n",
       "<td>\n",
       "1.0\n",
       "</td>\n",
       "<td>\n",
       "null\n",
       "</td>\n",
       "<td>\n",
       "false\n",
       "</td>\n",
       "<td>\n",
       "0.0327\n",
       "</td>\n",
       "</tr>\n",
       "<tr>\n",
       "<td>\n",
       "\"20211203_9982\"\n",
       "</td>\n",
       "<td>\n",
       "2021-12-03\n",
       "</td>\n",
       "<td>\n",
       "9982\n",
       "</td>\n",
       "<td>\n",
       "1720.0\n",
       "</td>\n",
       "<td>\n",
       "1748.0\n",
       "</td>\n",
       "<td>\n",
       "1715.0\n",
       "</td>\n",
       "<td>\n",
       "1746.0\n",
       "</td>\n",
       "<td>\n",
       "8800\n",
       "</td>\n",
       "<td>\n",
       "1.0\n",
       "</td>\n",
       "<td>\n",
       "null\n",
       "</td>\n",
       "<td>\n",
       "false\n",
       "</td>\n",
       "<td>\n",
       "0.017065\n",
       "</td>\n",
       "</tr>\n",
       "<tr>\n",
       "<td>\n",
       "\"20211203_9983\"\n",
       "</td>\n",
       "<td>\n",
       "2021-12-03\n",
       "</td>\n",
       "<td>\n",
       "9983\n",
       "</td>\n",
       "<td>\n",
       "66010.0\n",
       "</td>\n",
       "<td>\n",
       "67000.0\n",
       "</td>\n",
       "<td>\n",
       "65380.0\n",
       "</td>\n",
       "<td>\n",
       "66650.0\n",
       "</td>\n",
       "<td>\n",
       "860900\n",
       "</td>\n",
       "<td>\n",
       "1.0\n",
       "</td>\n",
       "<td>\n",
       "null\n",
       "</td>\n",
       "<td>\n",
       "false\n",
       "</td>\n",
       "<td>\n",
       "0.000737\n",
       "</td>\n",
       "</tr>\n",
       "<tr>\n",
       "<td>\n",
       "\"20211203_9984\"\n",
       "</td>\n",
       "<td>\n",
       "2021-12-03\n",
       "</td>\n",
       "<td>\n",
       "9984\n",
       "</td>\n",
       "<td>\n",
       "5570.0\n",
       "</td>\n",
       "<td>\n",
       "5637.0\n",
       "</td>\n",
       "<td>\n",
       "5423.0\n",
       "</td>\n",
       "<td>\n",
       "5559.0\n",
       "</td>\n",
       "<td>\n",
       "25516400\n",
       "</td>\n",
       "<td>\n",
       "1.0\n",
       "</td>\n",
       "<td>\n",
       "null\n",
       "</td>\n",
       "<td>\n",
       "false\n",
       "</td>\n",
       "<td>\n",
       "0.079365\n",
       "</td>\n",
       "</tr>\n",
       "<tr>\n",
       "<td>\n",
       "\"20211203_9987\"\n",
       "</td>\n",
       "<td>\n",
       "2021-12-03\n",
       "</td>\n",
       "<td>\n",
       "9987\n",
       "</td>\n",
       "<td>\n",
       "3105.0\n",
       "</td>\n",
       "<td>\n",
       "3180.0\n",
       "</td>\n",
       "<td>\n",
       "3065.0\n",
       "</td>\n",
       "<td>\n",
       "3175.0\n",
       "</td>\n",
       "<td>\n",
       "214000\n",
       "</td>\n",
       "<td>\n",
       "1.0\n",
       "</td>\n",
       "<td>\n",
       "null\n",
       "</td>\n",
       "<td>\n",
       "false\n",
       "</td>\n",
       "<td>\n",
       "0.026856\n",
       "</td>\n",
       "</tr>\n",
       "<tr>\n",
       "<td>\n",
       "\"20211203_9989\"\n",
       "</td>\n",
       "<td>\n",
       "2021-12-03\n",
       "</td>\n",
       "<td>\n",
       "9989\n",
       "</td>\n",
       "<td>\n",
       "2969.0\n",
       "</td>\n",
       "<td>\n",
       "3040.0\n",
       "</td>\n",
       "<td>\n",
       "2958.0\n",
       "</td>\n",
       "<td>\n",
       "3015.0\n",
       "</td>\n",
       "<td>\n",
       "411100\n",
       "</td>\n",
       "<td>\n",
       "1.0\n",
       "</td>\n",
       "<td>\n",
       "null\n",
       "</td>\n",
       "<td>\n",
       "false\n",
       "</td>\n",
       "<td>\n",
       "0.012903\n",
       "</td>\n",
       "</tr>\n",
       "<tr>\n",
       "<td>\n",
       "\"20211203_9990\"\n",
       "</td>\n",
       "<td>\n",
       "2021-12-03\n",
       "</td>\n",
       "<td>\n",
       "9990\n",
       "</td>\n",
       "<td>\n",
       "514.0\n",
       "</td>\n",
       "<td>\n",
       "528.0\n",
       "</td>\n",
       "<td>\n",
       "513.0\n",
       "</td>\n",
       "<td>\n",
       "528.0\n",
       "</td>\n",
       "<td>\n",
       "44200\n",
       "</td>\n",
       "<td>\n",
       "1.0\n",
       "</td>\n",
       "<td>\n",
       "null\n",
       "</td>\n",
       "<td>\n",
       "false\n",
       "</td>\n",
       "<td>\n",
       "0.034816\n",
       "</td>\n",
       "</tr>\n",
       "<tr>\n",
       "<td>\n",
       "\"20211203_9991\"\n",
       "</td>\n",
       "<td>\n",
       "2021-12-03\n",
       "</td>\n",
       "<td>\n",
       "9991\n",
       "</td>\n",
       "<td>\n",
       "782.0\n",
       "</td>\n",
       "<td>\n",
       "794.0\n",
       "</td>\n",
       "<td>\n",
       "782.0\n",
       "</td>\n",
       "<td>\n",
       "794.0\n",
       "</td>\n",
       "<td>\n",
       "35900\n",
       "</td>\n",
       "<td>\n",
       "1.0\n",
       "</td>\n",
       "<td>\n",
       "null\n",
       "</td>\n",
       "<td>\n",
       "false\n",
       "</td>\n",
       "<td>\n",
       "0.025478\n",
       "</td>\n",
       "</tr>\n",
       "<tr>\n",
       "<td>\n",
       "\"20211203_9993\"\n",
       "</td>\n",
       "<td>\n",
       "2021-12-03\n",
       "</td>\n",
       "<td>\n",
       "9993\n",
       "</td>\n",
       "<td>\n",
       "1690.0\n",
       "</td>\n",
       "<td>\n",
       "1690.0\n",
       "</td>\n",
       "<td>\n",
       "1645.0\n",
       "</td>\n",
       "<td>\n",
       "1645.0\n",
       "</td>\n",
       "<td>\n",
       "7200\n",
       "</td>\n",
       "<td>\n",
       "1.0\n",
       "</td>\n",
       "<td>\n",
       "null\n",
       "</td>\n",
       "<td>\n",
       "false\n",
       "</td>\n",
       "<td>\n",
       "-0.004302\n",
       "</td>\n",
       "</tr>\n",
       "<tr>\n",
       "<td>\n",
       "\"20211203_9994\"\n",
       "</td>\n",
       "<td>\n",
       "2021-12-03\n",
       "</td>\n",
       "<td>\n",
       "9994\n",
       "</td>\n",
       "<td>\n",
       "2388.0\n",
       "</td>\n",
       "<td>\n",
       "2396.0\n",
       "</td>\n",
       "<td>\n",
       "2380.0\n",
       "</td>\n",
       "<td>\n",
       "2389.0\n",
       "</td>\n",
       "<td>\n",
       "6500\n",
       "</td>\n",
       "<td>\n",
       "1.0\n",
       "</td>\n",
       "<td>\n",
       "null\n",
       "</td>\n",
       "<td>\n",
       "false\n",
       "</td>\n",
       "<td>\n",
       "0.009098\n",
       "</td>\n",
       "</tr>\n",
       "<tr>\n",
       "<td>\n",
       "\"20211203_9997\"\n",
       "</td>\n",
       "<td>\n",
       "2021-12-03\n",
       "</td>\n",
       "<td>\n",
       "9997\n",
       "</td>\n",
       "<td>\n",
       "690.0\n",
       "</td>\n",
       "<td>\n",
       "711.0\n",
       "</td>\n",
       "<td>\n",
       "686.0\n",
       "</td>\n",
       "<td>\n",
       "696.0\n",
       "</td>\n",
       "<td>\n",
       "381100\n",
       "</td>\n",
       "<td>\n",
       "1.0\n",
       "</td>\n",
       "<td>\n",
       "null\n",
       "</td>\n",
       "<td>\n",
       "false\n",
       "</td>\n",
       "<td>\n",
       "0.018414\n",
       "</td>\n",
       "</tr>\n",
       "</tbody>\n",
       "</table>\n",
       "</div>"
      ],
      "text/plain": [
       "shape: (9299692, 12)\n",
       "┌──────────┬──────────┬────────────┬────────┬─────┬────────────┬────────────┬────────────┬─────────┐\n",
       "│ RowId    ┆ Date     ┆ Securities ┆ Open   ┆ ... ┆ Adjustment ┆ ExpectedDi ┆ Supervisio ┆ Target  │\n",
       "│ ---      ┆ ---      ┆ Code       ┆ ---    ┆     ┆ Factor     ┆ vidend     ┆ nFlag      ┆ ---     │\n",
       "│ str      ┆ date     ┆ ---        ┆ f64    ┆     ┆ ---        ┆ ---        ┆ ---        ┆ f64     │\n",
       "│          ┆          ┆ i64        ┆        ┆     ┆ f64        ┆ str        ┆ bool       ┆         │\n",
       "╞══════════╪══════════╪════════════╪════════╪═════╪════════════╪════════════╪════════════╪═════════╡\n",
       "│ 20170104 ┆ 2017-01- ┆ 1301       ┆ 2734.0 ┆ ... ┆ 1.0        ┆ null       ┆ false      ┆ 0.0007  │\n",
       "│ _1301    ┆ 04       ┆            ┆        ┆     ┆            ┆            ┆            ┆         │\n",
       "├╌╌╌╌╌╌╌╌╌╌┼╌╌╌╌╌╌╌╌╌╌┼╌╌╌╌╌╌╌╌╌╌╌╌┼╌╌╌╌╌╌╌╌┼╌╌╌╌╌┼╌╌╌╌╌╌╌╌╌╌╌╌┼╌╌╌╌╌╌╌╌╌╌╌╌┼╌╌╌╌╌╌╌╌╌╌╌╌┼╌╌╌╌╌╌╌╌╌┤\n",
       "│ 20170104 ┆ 2017-01- ┆ 1332       ┆ 568.0  ┆ ... ┆ 1.0        ┆ null       ┆ false      ┆ 0.01232 │\n",
       "│ _1332    ┆ 04       ┆            ┆        ┆     ┆            ┆            ┆            ┆ 4       │\n",
       "├╌╌╌╌╌╌╌╌╌╌┼╌╌╌╌╌╌╌╌╌╌┼╌╌╌╌╌╌╌╌╌╌╌╌┼╌╌╌╌╌╌╌╌┼╌╌╌╌╌┼╌╌╌╌╌╌╌╌╌╌╌╌┼╌╌╌╌╌╌╌╌╌╌╌╌┼╌╌╌╌╌╌╌╌╌╌╌╌┼╌╌╌╌╌╌╌╌╌┤\n",
       "│ 20170104 ┆ 2017-01- ┆ 1333       ┆ 3150.0 ┆ ... ┆ 1.0        ┆ null       ┆ false      ┆ 0.00615 │\n",
       "│ _1333    ┆ 04       ┆            ┆        ┆     ┆            ┆            ┆            ┆ 4       │\n",
       "├╌╌╌╌╌╌╌╌╌╌┼╌╌╌╌╌╌╌╌╌╌┼╌╌╌╌╌╌╌╌╌╌╌╌┼╌╌╌╌╌╌╌╌┼╌╌╌╌╌┼╌╌╌╌╌╌╌╌╌╌╌╌┼╌╌╌╌╌╌╌╌╌╌╌╌┼╌╌╌╌╌╌╌╌╌╌╌╌┼╌╌╌╌╌╌╌╌╌┤\n",
       "│ 20170104 ┆ 2017-01- ┆ 1376       ┆ 1510.0 ┆ ... ┆ 1.0        ┆ null       ┆ false      ┆ 0.01105 │\n",
       "│ _1376    ┆ 04       ┆            ┆        ┆     ┆            ┆            ┆            ┆ 3       │\n",
       "├╌╌╌╌╌╌╌╌╌╌┼╌╌╌╌╌╌╌╌╌╌┼╌╌╌╌╌╌╌╌╌╌╌╌┼╌╌╌╌╌╌╌╌┼╌╌╌╌╌┼╌╌╌╌╌╌╌╌╌╌╌╌┼╌╌╌╌╌╌╌╌╌╌╌╌┼╌╌╌╌╌╌╌╌╌╌╌╌┼╌╌╌╌╌╌╌╌╌┤\n",
       "│ ...      ┆ ...      ┆ ...        ┆ ...    ┆ ... ┆ ...        ┆ ...        ┆ ...        ┆ ...     │\n",
       "├╌╌╌╌╌╌╌╌╌╌┼╌╌╌╌╌╌╌╌╌╌┼╌╌╌╌╌╌╌╌╌╌╌╌┼╌╌╌╌╌╌╌╌┼╌╌╌╌╌┼╌╌╌╌╌╌╌╌╌╌╌╌┼╌╌╌╌╌╌╌╌╌╌╌╌┼╌╌╌╌╌╌╌╌╌╌╌╌┼╌╌╌╌╌╌╌╌╌┤\n",
       "│ 20211203 ┆ 2021-12- ┆ 9991       ┆ 782.0  ┆ ... ┆ 1.0        ┆ null       ┆ false      ┆ 0.02547 │\n",
       "│ _9991    ┆ 03       ┆            ┆        ┆     ┆            ┆            ┆            ┆ 8       │\n",
       "├╌╌╌╌╌╌╌╌╌╌┼╌╌╌╌╌╌╌╌╌╌┼╌╌╌╌╌╌╌╌╌╌╌╌┼╌╌╌╌╌╌╌╌┼╌╌╌╌╌┼╌╌╌╌╌╌╌╌╌╌╌╌┼╌╌╌╌╌╌╌╌╌╌╌╌┼╌╌╌╌╌╌╌╌╌╌╌╌┼╌╌╌╌╌╌╌╌╌┤\n",
       "│ 20211203 ┆ 2021-12- ┆ 9993       ┆ 1690.0 ┆ ... ┆ 1.0        ┆ null       ┆ false      ┆ -0.0043 │\n",
       "│ _9993    ┆ 03       ┆            ┆        ┆     ┆            ┆            ┆            ┆ 02      │\n",
       "├╌╌╌╌╌╌╌╌╌╌┼╌╌╌╌╌╌╌╌╌╌┼╌╌╌╌╌╌╌╌╌╌╌╌┼╌╌╌╌╌╌╌╌┼╌╌╌╌╌┼╌╌╌╌╌╌╌╌╌╌╌╌┼╌╌╌╌╌╌╌╌╌╌╌╌┼╌╌╌╌╌╌╌╌╌╌╌╌┼╌╌╌╌╌╌╌╌╌┤\n",
       "│ 20211203 ┆ 2021-12- ┆ 9994       ┆ 2388.0 ┆ ... ┆ 1.0        ┆ null       ┆ false      ┆ 0.00909 │\n",
       "│ _9994    ┆ 03       ┆            ┆        ┆     ┆            ┆            ┆            ┆ 8       │\n",
       "├╌╌╌╌╌╌╌╌╌╌┼╌╌╌╌╌╌╌╌╌╌┼╌╌╌╌╌╌╌╌╌╌╌╌┼╌╌╌╌╌╌╌╌┼╌╌╌╌╌┼╌╌╌╌╌╌╌╌╌╌╌╌┼╌╌╌╌╌╌╌╌╌╌╌╌┼╌╌╌╌╌╌╌╌╌╌╌╌┼╌╌╌╌╌╌╌╌╌┤\n",
       "│ 20211203 ┆ 2021-12- ┆ 9997       ┆ 690.0  ┆ ... ┆ 1.0        ┆ null       ┆ false      ┆ 0.01841 │\n",
       "│ _9997    ┆ 03       ┆            ┆        ┆     ┆            ┆            ┆            ┆ 4       │\n",
       "└──────────┴──────────┴────────────┴────────┴─────┴────────────┴────────────┴────────────┴─────────┘"
      ]
     },
     "execution_count": 58,
     "metadata": {},
     "output_type": "execute_result"
    }
   ],
   "source": [
    "polars_concatted = pl.concat([stock_prices_polars, stock_prices_polars])\n",
    "polars_concatted = pl.concat([polars_concatted, polars_concatted])\n",
    "polars_concatted"
   ]
  },
  {
   "cell_type": "code",
   "execution_count": 19,
   "id": "d0f5fa5d-df62-4910-b41a-96ea7b0fd6da",
   "metadata": {},
   "outputs": [
    {
     "data": {
      "text/plain": [
       "'862M'"
      ]
     },
     "execution_count": 19,
     "metadata": {},
     "output_type": "execute_result"
    }
   ],
   "source": [
    "size(polars_concatted.estimated_size())"
   ]
  },
  {
   "cell_type": "code",
   "execution_count": 7,
   "id": "e4eaeff0-3c21-42d1-a565-7b7095528e60",
   "metadata": {},
   "outputs": [
    {
     "data": {
      "text/plain": [
       "{'RowId': 0,\n",
       " 'Date': 1,\n",
       " 'SecuritiesCode': 2,\n",
       " 'Open': 3,\n",
       " 'High': 4,\n",
       " 'Low': 5,\n",
       " 'Close': 6,\n",
       " 'Volume': 7,\n",
       " 'AdjustmentFactor': 8,\n",
       " 'ExpectedDividend': 9,\n",
       " 'SupervisionFlag': 10,\n",
       " 'Target': 11}"
      ]
     },
     "execution_count": 7,
     "metadata": {},
     "output_type": "execute_result"
    }
   ],
   "source": [
    "cols = dict(zip(polars_concatted.columns, range(len(polars_concatted.columns))))\n",
    "cols"
   ]
  },
  {
   "cell_type": "code",
   "execution_count": 21,
   "id": "47909893-f514-480c-984b-36607fa73f3c",
   "metadata": {},
   "outputs": [],
   "source": [
    "def get_spread_ratio(\n",
    "    high: np.ndarray,\n",
    "    low: np.ndarray,\n",
    "    close: np.ndarray,\n",
    ") -> np.ndarray:\n",
    "    return (high - low) / close"
   ]
  },
  {
   "cell_type": "code",
   "execution_count": 22,
   "id": "d2cdb28b-8db4-4ccc-b58f-c9d24a735d77",
   "metadata": {},
   "outputs": [],
   "source": [
    "get_spread_ratio_numba = njit(get_spread_ratio)"
   ]
  },
  {
   "cell_type": "code",
   "execution_count": 8,
   "id": "9d8abf24-4985-4a6c-ac31-836e9721709b",
   "metadata": {},
   "outputs": [
    {
     "name": "stdout",
     "output_type": "stream",
     "text": [
      "1min 47s ± 312 ms per loop (mean ± std. dev. of 7 runs, 1 loop each)\n"
     ]
    }
   ],
   "source": [
    "%%timeit\n",
    "pd_concatted.apply(lambda x: (x['High'] - x['Low']) / x['Close'], axis=1)"
   ]
  },
  {
   "cell_type": "code",
   "execution_count": null,
   "id": "f3487a62-d220-4c6b-b0e7-b9effc52b85a",
   "metadata": {},
   "outputs": [],
   "source": [
    "%%timeit\n",
    "pd_concatted.swifter.apply(lambda x: (x['High'] - x['Low']) / x['Close'], axis=1)"
   ]
  },
  {
   "cell_type": "code",
   "execution_count": 23,
   "id": "ca63a144-678b-44d8-9807-ebc33de6e19b",
   "metadata": {},
   "outputs": [
    {
     "name": "stdout",
     "output_type": "stream",
     "text": [
      "12.3 s ± 80.7 ms per loop (mean ± std. dev. of 7 runs, 1 loop each)\n"
     ]
    }
   ],
   "source": [
    "%%timeit\n",
    "pd_concatted.parallel_apply(lambda x: (x['High'] - x['Low']) / x['Close'], axis=1)"
   ]
  },
  {
   "cell_type": "code",
   "execution_count": 24,
   "id": "b74ec990-c77c-454f-a3cb-bb038f02ce8b",
   "metadata": {},
   "outputs": [
    {
     "name": "stdout",
     "output_type": "stream",
     "text": [
      "9.58 s ± 301 ms per loop (mean ± std. dev. of 7 runs, 1 loop each)\n"
     ]
    }
   ],
   "source": [
    "%%timeit\n",
    "modin_concatted.apply(lambda x: (x['High'] - x['Low']) / x['Close'], axis=1)"
   ]
  },
  {
   "cell_type": "code",
   "execution_count": 25,
   "id": "5eb0537f-981a-45a6-ba72-f889640e9446",
   "metadata": {},
   "outputs": [
    {
     "name": "stdout",
     "output_type": "stream",
     "text": [
      "5.06 ms ± 391 µs per loop (mean ± std. dev. of 7 runs, 1 loop each)\n"
     ]
    }
   ],
   "source": [
    "%%timeit\n",
    "cudf_concatted.apply(lambda x: (x['High'] - x['Low']) / x['Close'], axis=1)"
   ]
  },
  {
   "cell_type": "code",
   "execution_count": 26,
   "id": "a6f401ee-1952-401e-8e57-d22582b869bd",
   "metadata": {},
   "outputs": [
    {
     "name": "stdout",
     "output_type": "stream",
     "text": [
      "44.2 ms ± 92.3 µs per loop (mean ± std. dev. of 7 runs, 10 loops each)\n"
     ]
    }
   ],
   "source": [
    "%%timeit\n",
    "polars_concatted.select((pl.col('High') - pl.col('Low')) / pl.col('Close'))"
   ]
  },
  {
   "cell_type": "code",
   "execution_count": 27,
   "id": "97ed7255-7ac9-43de-b909-9794219f58c8",
   "metadata": {},
   "outputs": [
    {
     "name": "stdout",
     "output_type": "stream",
     "text": [
      "21.3 s ± 141 ms per loop (mean ± std. dev. of 7 runs, 1 loop each)\n"
     ]
    }
   ],
   "source": [
    "%%timeit\n",
    "polars_concatted.apply(lambda x: (x[cols['High']] - x[cols['Low']]) / x[cols['Close']])"
   ]
  },
  {
   "cell_type": "code",
   "execution_count": 28,
   "id": "eb12228f-5cb4-477a-b918-8244d90603f8",
   "metadata": {},
   "outputs": [
    {
     "name": "stdout",
     "output_type": "stream",
     "text": [
      "20.2 ms ± 218 µs per loop (mean ± std. dev. of 7 runs, 10 loops each)\n"
     ]
    }
   ],
   "source": [
    "%%timeit\n",
    "(pd_concatted['High'] - pd_concatted['Low']).div(pd_concatted['Close'])"
   ]
  },
  {
   "cell_type": "code",
   "execution_count": 30,
   "id": "2f638a4c-dccc-461b-9e3c-81205929475b",
   "metadata": {},
   "outputs": [
    {
     "name": "stdout",
     "output_type": "stream",
     "text": [
      "20.3 ms ± 187 µs per loop (mean ± std. dev. of 7 runs, 10 loops each)\n"
     ]
    }
   ],
   "source": [
    "%%timeit\n",
    "get_spread_ratio(pd_concatted['High'], pd_concatted['Low'], pd_concatted['Close'])"
   ]
  },
  {
   "cell_type": "code",
   "execution_count": 33,
   "id": "69d36cc7-e41e-484d-b1a0-163dce4ff688",
   "metadata": {},
   "outputs": [
    {
     "name": "stdout",
     "output_type": "stream",
     "text": [
      "27.1 ms ± 145 µs per loop (mean ± std. dev. of 7 runs, 10 loops each)\n"
     ]
    }
   ],
   "source": [
    "%%timeit\n",
    "get_spread_ratio_numba(pd_concatted['High'].to_numpy(), pd_concatted['Low'].to_numpy(), pd_concatted['Close'].to_numpy())"
   ]
  },
  {
   "cell_type": "code",
   "execution_count": 34,
   "id": "ebe98d10-a5c3-46ad-9e20-f397fb9d499d",
   "metadata": {},
   "outputs": [
    {
     "name": "stdout",
     "output_type": "stream",
     "text": [
      "36.5 s ± 430 ms per loop (mean ± std. dev. of 7 runs, 1 loop each)\n"
     ]
    }
   ],
   "source": [
    "%%timeit\n",
    "(modin_concatted['High'] - modin_concatted['Low']).div(modin_concatted['Close'])"
   ]
  },
  {
   "cell_type": "code",
   "execution_count": 35,
   "id": "938789f6-a61d-4bb9-b0b0-f1105fa0ebe0",
   "metadata": {},
   "outputs": [
    {
     "name": "stdout",
     "output_type": "stream",
     "text": [
      "5.62 ms ± 2.46 ms per loop (mean ± std. dev. of 7 runs, 100 loops each)\n"
     ]
    }
   ],
   "source": [
    "%%timeit\n",
    "(cudf_concatted['High'] - cudf_concatted['Low']).div(cudf_concatted['Close'])"
   ]
  },
  {
   "cell_type": "code",
   "execution_count": 36,
   "id": "55718ed4-59f7-49c6-8500-34d7ccf60c9c",
   "metadata": {},
   "outputs": [
    {
     "name": "stdout",
     "output_type": "stream",
     "text": [
      "46.6 ms ± 474 µs per loop (mean ± std. dev. of 7 runs, 10 loops each)\n"
     ]
    }
   ],
   "source": [
    "%%timeit\n",
    "(polars_concatted['High'] - polars_concatted['Low']) / polars_concatted['Close']"
   ]
  },
  {
   "cell_type": "code",
   "execution_count": 37,
   "id": "5fcc8eb9-7420-461b-aae1-ced417f28bf7",
   "metadata": {},
   "outputs": [
    {
     "name": "stdout",
     "output_type": "stream",
     "text": [
      "1.51 s ± 8.44 ms per loop (mean ± std. dev. of 7 runs, 1 loop each)\n"
     ]
    }
   ],
   "source": [
    "%%timeit\n",
    "pd_concatted['High'].apply(lambda x: x ** 2)"
   ]
  },
  {
   "cell_type": "code",
   "execution_count": 38,
   "id": "b0da44de-edea-45cd-8e33-9e852f49f74f",
   "metadata": {},
   "outputs": [
    {
     "name": "stdout",
     "output_type": "stream",
     "text": [
      "8.86 ms ± 151 µs per loop (mean ± std. dev. of 7 runs, 1 loop each)\n"
     ]
    },
    {
     "name": "stderr",
     "output_type": "stream",
     "text": [
      "UserWarning: This pandas object has duplicate indices, and swifter may not be able to improve performance. Consider resetting the indices with `df.reset_index(drop=True)`.\n"
     ]
    }
   ],
   "source": [
    "%%timeit\n",
    "pd_concatted['High'].swifter.apply(lambda x: x ** 2)"
   ]
  },
  {
   "cell_type": "code",
   "execution_count": 39,
   "id": "5beedadd-09e5-4f06-a5a3-9edb9ad5421b",
   "metadata": {},
   "outputs": [
    {
     "name": "stdout",
     "output_type": "stream",
     "text": [
      "2.15 s ± 24.7 ms per loop (mean ± std. dev. of 7 runs, 1 loop each)\n"
     ]
    }
   ],
   "source": [
    "%%timeit\n",
    "pd_concatted['High'].parallel_apply(lambda x: x ** 2)"
   ]
  },
  {
   "cell_type": "code",
   "execution_count": 40,
   "id": "28690a2e-f577-4329-8b88-993680980c7e",
   "metadata": {},
   "outputs": [
    {
     "name": "stdout",
     "output_type": "stream",
     "text": [
      "3.94 s ± 28 ms per loop (mean ± std. dev. of 7 runs, 1 loop each)\n"
     ]
    }
   ],
   "source": [
    "%%timeit\n",
    "modin_concatted['High'].apply(lambda x: x ** 2)"
   ]
  },
  {
   "cell_type": "code",
   "execution_count": 41,
   "id": "15dc2a7b-d578-4958-b809-e8eed2dcbb29",
   "metadata": {},
   "outputs": [
    {
     "name": "stdout",
     "output_type": "stream",
     "text": [
      "3.87 ms ± 55.1 µs per loop (mean ± std. dev. of 7 runs, 100 loops each)\n"
     ]
    }
   ],
   "source": [
    "%%timeit\n",
    "cudf_concatted['High'].apply(lambda x: x ** 2)"
   ]
  },
  {
   "cell_type": "code",
   "execution_count": 42,
   "id": "b03fcb86-dd96-445d-8831-e8d2df5069d4",
   "metadata": {},
   "outputs": [
    {
     "name": "stdout",
     "output_type": "stream",
     "text": [
      "1.57 s ± 9.19 ms per loop (mean ± std. dev. of 7 runs, 1 loop each)\n"
     ]
    }
   ],
   "source": [
    "%%timeit\n",
    "polars_concatted['High'].apply(lambda x: x ** 2)"
   ]
  },
  {
   "cell_type": "code",
   "execution_count": 43,
   "id": "0b95be6d-f991-43d6-b513-398db13b19ef",
   "metadata": {},
   "outputs": [
    {
     "name": "stdout",
     "output_type": "stream",
     "text": [
      "7.62 ms ± 121 µs per loop (mean ± std. dev. of 7 runs, 100 loops each)\n"
     ]
    }
   ],
   "source": [
    "%%timeit\n",
    "pd_concatted['High'] ** 2"
   ]
  },
  {
   "cell_type": "code",
   "execution_count": 44,
   "id": "efec9b23-4152-4013-918a-3bb6aba43de2",
   "metadata": {},
   "outputs": [
    {
     "name": "stdout",
     "output_type": "stream",
     "text": [
      "3 s ± 13 ms per loop (mean ± std. dev. of 7 runs, 1 loop each)\n"
     ]
    }
   ],
   "source": [
    "%%timeit\n",
    "modin_concatted['High'] ** 2"
   ]
  },
  {
   "cell_type": "code",
   "execution_count": 45,
   "id": "56374082-b58e-4f1b-8a7b-490bb2144788",
   "metadata": {},
   "outputs": [
    {
     "name": "stdout",
     "output_type": "stream",
     "text": [
      "4.84 ms ± 104 µs per loop (mean ± std. dev. of 7 runs, 100 loops each)\n"
     ]
    }
   ],
   "source": [
    "%%timeit\n",
    "cudf_concatted['High'] ** 2"
   ]
  },
  {
   "cell_type": "code",
   "execution_count": 46,
   "id": "83d14f6c-d080-4e6e-be53-5213ab084462",
   "metadata": {},
   "outputs": [
    {
     "name": "stdout",
     "output_type": "stream",
     "text": [
      "22.5 ms ± 234 µs per loop (mean ± std. dev. of 7 runs, 10 loops each)\n"
     ]
    }
   ],
   "source": [
    "%%timeit\n",
    "polars_concatted['High'] ** 2"
   ]
  },
  {
   "cell_type": "code",
   "execution_count": 47,
   "id": "4fd2fac9-7c80-4d96-a456-2099cdec51ed",
   "metadata": {},
   "outputs": [
    {
     "name": "stdout",
     "output_type": "stream",
     "text": [
      "961 ms ± 6.03 ms per loop (mean ± std. dev. of 7 runs, 1 loop each)\n"
     ]
    }
   ],
   "source": [
    "%%timeit\n",
    "pd_concatted.groupby(['Date', 'SecuritiesCode']).mean()"
   ]
  },
  {
   "cell_type": "code",
   "execution_count": 48,
   "id": "1e2cefe7-5b91-4aa1-ae57-dc838d159254",
   "metadata": {},
   "outputs": [
    {
     "name": "stderr",
     "output_type": "stream",
     "text": [
      "2022-07-12 01:53:13,581 - distributed.worker_memory - WARNING - Worker is at 87% memory usage. Pausing worker.  Process memory: 3.44 GiB -- Worker memory limit: 3.93 GiB\n",
      "2022-07-12 01:53:13,625 - distributed.worker_memory - WARNING - Worker is at 76% memory usage. Resuming worker. Process memory: 3.01 GiB -- Worker memory limit: 3.93 GiB\n",
      "2022-07-12 01:53:13,726 - distributed.worker_memory - WARNING - Worker is at 86% memory usage. Pausing worker.  Process memory: 3.39 GiB -- Worker memory limit: 3.93 GiB\n",
      "2022-07-12 01:53:14,666 - distributed.worker_memory - WARNING - Worker is at 54% memory usage. Resuming worker. Process memory: 2.12 GiB -- Worker memory limit: 3.93 GiB\n",
      "2022-07-12 01:53:20,190 - distributed.worker_memory - WARNING - Worker is at 90% memory usage. Pausing worker.  Process memory: 3.54 GiB -- Worker memory limit: 3.93 GiB\n",
      "2022-07-12 01:53:20,252 - distributed.worker_memory - WARNING - Worker is at 79% memory usage. Resuming worker. Process memory: 3.13 GiB -- Worker memory limit: 3.93 GiB\n",
      "2022-07-12 01:53:20,353 - distributed.worker_memory - WARNING - Worker is at 83% memory usage. Pausing worker.  Process memory: 3.27 GiB -- Worker memory limit: 3.93 GiB\n",
      "2022-07-12 01:53:21,180 - distributed.worker_memory - WARNING - Worker is at 53% memory usage. Resuming worker. Process memory: 2.10 GiB -- Worker memory limit: 3.93 GiB\n",
      "2022-07-12 01:53:26,605 - distributed.worker_memory - WARNING - Worker is at 86% memory usage. Pausing worker.  Process memory: 3.42 GiB -- Worker memory limit: 3.93 GiB\n",
      "2022-07-12 01:53:26,707 - distributed.worker_memory - WARNING - Worker is at 79% memory usage. Resuming worker. Process memory: 3.13 GiB -- Worker memory limit: 3.93 GiB\n",
      "2022-07-12 01:53:26,808 - distributed.worker_memory - WARNING - Worker is at 83% memory usage. Pausing worker.  Process memory: 3.28 GiB -- Worker memory limit: 3.93 GiB\n",
      "2022-07-12 01:53:27,664 - distributed.worker_memory - WARNING - Worker is at 53% memory usage. Resuming worker. Process memory: 2.10 GiB -- Worker memory limit: 3.93 GiB\n",
      "2022-07-12 01:53:33,089 - distributed.worker_memory - WARNING - Worker is at 84% memory usage. Pausing worker.  Process memory: 3.30 GiB -- Worker memory limit: 3.93 GiB\n",
      "2022-07-12 01:53:33,129 - distributed.worker_memory - WARNING - Worker is at 72% memory usage. Resuming worker. Process memory: 2.86 GiB -- Worker memory limit: 3.93 GiB\n",
      "2022-07-12 01:53:33,234 - distributed.worker_memory - WARNING - Worker is at 81% memory usage. Pausing worker.  Process memory: 3.22 GiB -- Worker memory limit: 3.93 GiB\n",
      "2022-07-12 01:53:34,110 - distributed.worker_memory - WARNING - Worker is at 53% memory usage. Resuming worker. Process memory: 2.11 GiB -- Worker memory limit: 3.93 GiB\n",
      "2022-07-12 01:53:39,446 - distributed.worker_memory - WARNING - Worker tcp://127.0.0.1:33293 (pid=3153) exceeded 95% memory budget. Restarting...\n",
      "2022-07-12 01:53:39,620 - distributed.nanny - WARNING - Restarting worker\n"
     ]
    },
    {
     "ename": "CancelledError",
     "evalue": "lambda-320b353f341d6f7dd900099bdf61142a",
     "output_type": "error",
     "traceback": [
      "\u001b[0;31m---------------------------------------------------------------------------\u001b[0m",
      "\u001b[0;31mCancelledError\u001b[0m                            Traceback (most recent call last)",
      "\u001b[0;32m/tmp/ipykernel_2958/1734890989.py\u001b[0m in \u001b[0;36m<module>\u001b[0;34m\u001b[0m\n\u001b[0;32m----> 1\u001b[0;31m \u001b[0mget_ipython\u001b[0m\u001b[0;34m(\u001b[0m\u001b[0;34m)\u001b[0m\u001b[0;34m.\u001b[0m\u001b[0mrun_cell_magic\u001b[0m\u001b[0;34m(\u001b[0m\u001b[0;34m'timeit'\u001b[0m\u001b[0;34m,\u001b[0m \u001b[0;34m''\u001b[0m\u001b[0;34m,\u001b[0m \u001b[0;34m\"modin_concatted.groupby(['Date', 'SecuritiesCode']).mean()\\n\"\u001b[0m\u001b[0;34m)\u001b[0m\u001b[0;34m\u001b[0m\u001b[0;34m\u001b[0m\u001b[0m\n\u001b[0m",
      "\u001b[0;32m/opt/conda/envs/rapids/lib/python3.9/site-packages/IPython/core/interactiveshell.py\u001b[0m in \u001b[0;36mrun_cell_magic\u001b[0;34m(self, magic_name, line, cell)\u001b[0m\n\u001b[1;32m   2417\u001b[0m             \u001b[0;32mwith\u001b[0m \u001b[0mself\u001b[0m\u001b[0;34m.\u001b[0m\u001b[0mbuiltin_trap\u001b[0m\u001b[0;34m:\u001b[0m\u001b[0;34m\u001b[0m\u001b[0;34m\u001b[0m\u001b[0m\n\u001b[1;32m   2418\u001b[0m                 \u001b[0margs\u001b[0m \u001b[0;34m=\u001b[0m \u001b[0;34m(\u001b[0m\u001b[0mmagic_arg_s\u001b[0m\u001b[0;34m,\u001b[0m \u001b[0mcell\u001b[0m\u001b[0;34m)\u001b[0m\u001b[0;34m\u001b[0m\u001b[0;34m\u001b[0m\u001b[0m\n\u001b[0;32m-> 2419\u001b[0;31m                 \u001b[0mresult\u001b[0m \u001b[0;34m=\u001b[0m \u001b[0mfn\u001b[0m\u001b[0;34m(\u001b[0m\u001b[0;34m*\u001b[0m\u001b[0margs\u001b[0m\u001b[0;34m,\u001b[0m \u001b[0;34m**\u001b[0m\u001b[0mkwargs\u001b[0m\u001b[0;34m)\u001b[0m\u001b[0;34m\u001b[0m\u001b[0;34m\u001b[0m\u001b[0m\n\u001b[0m\u001b[1;32m   2420\u001b[0m             \u001b[0;32mreturn\u001b[0m \u001b[0mresult\u001b[0m\u001b[0;34m\u001b[0m\u001b[0;34m\u001b[0m\u001b[0m\n\u001b[1;32m   2421\u001b[0m \u001b[0;34m\u001b[0m\u001b[0m\n",
      "\u001b[0;32m/opt/conda/envs/rapids/lib/python3.9/site-packages/decorator.py\u001b[0m in \u001b[0;36mfun\u001b[0;34m(*args, **kw)\u001b[0m\n\u001b[1;32m    230\u001b[0m             \u001b[0;32mif\u001b[0m \u001b[0;32mnot\u001b[0m \u001b[0mkwsyntax\u001b[0m\u001b[0;34m:\u001b[0m\u001b[0;34m\u001b[0m\u001b[0;34m\u001b[0m\u001b[0m\n\u001b[1;32m    231\u001b[0m                 \u001b[0margs\u001b[0m\u001b[0;34m,\u001b[0m \u001b[0mkw\u001b[0m \u001b[0;34m=\u001b[0m \u001b[0mfix\u001b[0m\u001b[0;34m(\u001b[0m\u001b[0margs\u001b[0m\u001b[0;34m,\u001b[0m \u001b[0mkw\u001b[0m\u001b[0;34m,\u001b[0m \u001b[0msig\u001b[0m\u001b[0;34m)\u001b[0m\u001b[0;34m\u001b[0m\u001b[0;34m\u001b[0m\u001b[0m\n\u001b[0;32m--> 232\u001b[0;31m             \u001b[0;32mreturn\u001b[0m \u001b[0mcaller\u001b[0m\u001b[0;34m(\u001b[0m\u001b[0mfunc\u001b[0m\u001b[0;34m,\u001b[0m \u001b[0;34m*\u001b[0m\u001b[0;34m(\u001b[0m\u001b[0mextras\u001b[0m \u001b[0;34m+\u001b[0m \u001b[0margs\u001b[0m\u001b[0;34m)\u001b[0m\u001b[0;34m,\u001b[0m \u001b[0;34m**\u001b[0m\u001b[0mkw\u001b[0m\u001b[0;34m)\u001b[0m\u001b[0;34m\u001b[0m\u001b[0;34m\u001b[0m\u001b[0m\n\u001b[0m\u001b[1;32m    233\u001b[0m     \u001b[0mfun\u001b[0m\u001b[0;34m.\u001b[0m\u001b[0m__name__\u001b[0m \u001b[0;34m=\u001b[0m \u001b[0mfunc\u001b[0m\u001b[0;34m.\u001b[0m\u001b[0m__name__\u001b[0m\u001b[0;34m\u001b[0m\u001b[0;34m\u001b[0m\u001b[0m\n\u001b[1;32m    234\u001b[0m     \u001b[0mfun\u001b[0m\u001b[0;34m.\u001b[0m\u001b[0m__doc__\u001b[0m \u001b[0;34m=\u001b[0m \u001b[0mfunc\u001b[0m\u001b[0;34m.\u001b[0m\u001b[0m__doc__\u001b[0m\u001b[0;34m\u001b[0m\u001b[0;34m\u001b[0m\u001b[0m\n",
      "\u001b[0;32m/opt/conda/envs/rapids/lib/python3.9/site-packages/IPython/core/magic.py\u001b[0m in \u001b[0;36m<lambda>\u001b[0;34m(f, *a, **k)\u001b[0m\n\u001b[1;32m    185\u001b[0m     \u001b[0;31m# but it's overkill for just that one bit of state.\u001b[0m\u001b[0;34m\u001b[0m\u001b[0;34m\u001b[0m\u001b[0m\n\u001b[1;32m    186\u001b[0m     \u001b[0;32mdef\u001b[0m \u001b[0mmagic_deco\u001b[0m\u001b[0;34m(\u001b[0m\u001b[0marg\u001b[0m\u001b[0;34m)\u001b[0m\u001b[0;34m:\u001b[0m\u001b[0;34m\u001b[0m\u001b[0;34m\u001b[0m\u001b[0m\n\u001b[0;32m--> 187\u001b[0;31m         \u001b[0mcall\u001b[0m \u001b[0;34m=\u001b[0m \u001b[0;32mlambda\u001b[0m \u001b[0mf\u001b[0m\u001b[0;34m,\u001b[0m \u001b[0;34m*\u001b[0m\u001b[0ma\u001b[0m\u001b[0;34m,\u001b[0m \u001b[0;34m**\u001b[0m\u001b[0mk\u001b[0m\u001b[0;34m:\u001b[0m \u001b[0mf\u001b[0m\u001b[0;34m(\u001b[0m\u001b[0;34m*\u001b[0m\u001b[0ma\u001b[0m\u001b[0;34m,\u001b[0m \u001b[0;34m**\u001b[0m\u001b[0mk\u001b[0m\u001b[0;34m)\u001b[0m\u001b[0;34m\u001b[0m\u001b[0;34m\u001b[0m\u001b[0m\n\u001b[0m\u001b[1;32m    188\u001b[0m \u001b[0;34m\u001b[0m\u001b[0m\n\u001b[1;32m    189\u001b[0m         \u001b[0;32mif\u001b[0m \u001b[0mcallable\u001b[0m\u001b[0;34m(\u001b[0m\u001b[0marg\u001b[0m\u001b[0;34m)\u001b[0m\u001b[0;34m:\u001b[0m\u001b[0;34m\u001b[0m\u001b[0;34m\u001b[0m\u001b[0m\n",
      "\u001b[0;32m/opt/conda/envs/rapids/lib/python3.9/site-packages/IPython/core/magics/execution.py\u001b[0m in \u001b[0;36mtimeit\u001b[0;34m(self, line, cell, local_ns)\u001b[0m\n\u001b[1;32m   1182\u001b[0m                     \u001b[0;32mbreak\u001b[0m\u001b[0;34m\u001b[0m\u001b[0;34m\u001b[0m\u001b[0m\n\u001b[1;32m   1183\u001b[0m \u001b[0;34m\u001b[0m\u001b[0m\n\u001b[0;32m-> 1184\u001b[0;31m         \u001b[0mall_runs\u001b[0m \u001b[0;34m=\u001b[0m \u001b[0mtimer\u001b[0m\u001b[0;34m.\u001b[0m\u001b[0mrepeat\u001b[0m\u001b[0;34m(\u001b[0m\u001b[0mrepeat\u001b[0m\u001b[0;34m,\u001b[0m \u001b[0mnumber\u001b[0m\u001b[0;34m)\u001b[0m\u001b[0;34m\u001b[0m\u001b[0;34m\u001b[0m\u001b[0m\n\u001b[0m\u001b[1;32m   1185\u001b[0m         \u001b[0mbest\u001b[0m \u001b[0;34m=\u001b[0m \u001b[0mmin\u001b[0m\u001b[0;34m(\u001b[0m\u001b[0mall_runs\u001b[0m\u001b[0;34m)\u001b[0m \u001b[0;34m/\u001b[0m \u001b[0mnumber\u001b[0m\u001b[0;34m\u001b[0m\u001b[0;34m\u001b[0m\u001b[0m\n\u001b[1;32m   1186\u001b[0m         \u001b[0mworst\u001b[0m \u001b[0;34m=\u001b[0m \u001b[0mmax\u001b[0m\u001b[0;34m(\u001b[0m\u001b[0mall_runs\u001b[0m\u001b[0;34m)\u001b[0m \u001b[0;34m/\u001b[0m \u001b[0mnumber\u001b[0m\u001b[0;34m\u001b[0m\u001b[0;34m\u001b[0m\u001b[0m\n",
      "\u001b[0;32m/opt/conda/envs/rapids/lib/python3.9/timeit.py\u001b[0m in \u001b[0;36mrepeat\u001b[0;34m(self, repeat, number)\u001b[0m\n\u001b[1;32m    203\u001b[0m         \u001b[0mr\u001b[0m \u001b[0;34m=\u001b[0m \u001b[0;34m[\u001b[0m\u001b[0;34m]\u001b[0m\u001b[0;34m\u001b[0m\u001b[0;34m\u001b[0m\u001b[0m\n\u001b[1;32m    204\u001b[0m         \u001b[0;32mfor\u001b[0m \u001b[0mi\u001b[0m \u001b[0;32min\u001b[0m \u001b[0mrange\u001b[0m\u001b[0;34m(\u001b[0m\u001b[0mrepeat\u001b[0m\u001b[0;34m)\u001b[0m\u001b[0;34m:\u001b[0m\u001b[0;34m\u001b[0m\u001b[0;34m\u001b[0m\u001b[0m\n\u001b[0;32m--> 205\u001b[0;31m             \u001b[0mt\u001b[0m \u001b[0;34m=\u001b[0m \u001b[0mself\u001b[0m\u001b[0;34m.\u001b[0m\u001b[0mtimeit\u001b[0m\u001b[0;34m(\u001b[0m\u001b[0mnumber\u001b[0m\u001b[0;34m)\u001b[0m\u001b[0;34m\u001b[0m\u001b[0;34m\u001b[0m\u001b[0m\n\u001b[0m\u001b[1;32m    206\u001b[0m             \u001b[0mr\u001b[0m\u001b[0;34m.\u001b[0m\u001b[0mappend\u001b[0m\u001b[0;34m(\u001b[0m\u001b[0mt\u001b[0m\u001b[0;34m)\u001b[0m\u001b[0;34m\u001b[0m\u001b[0;34m\u001b[0m\u001b[0m\n\u001b[1;32m    207\u001b[0m         \u001b[0;32mreturn\u001b[0m \u001b[0mr\u001b[0m\u001b[0;34m\u001b[0m\u001b[0;34m\u001b[0m\u001b[0m\n",
      "\u001b[0;32m/opt/conda/envs/rapids/lib/python3.9/site-packages/IPython/core/magics/execution.py\u001b[0m in \u001b[0;36mtimeit\u001b[0;34m(self, number)\u001b[0m\n\u001b[1;32m    167\u001b[0m         \u001b[0mgc\u001b[0m\u001b[0;34m.\u001b[0m\u001b[0mdisable\u001b[0m\u001b[0;34m(\u001b[0m\u001b[0;34m)\u001b[0m\u001b[0;34m\u001b[0m\u001b[0;34m\u001b[0m\u001b[0m\n\u001b[1;32m    168\u001b[0m         \u001b[0;32mtry\u001b[0m\u001b[0;34m:\u001b[0m\u001b[0;34m\u001b[0m\u001b[0;34m\u001b[0m\u001b[0m\n\u001b[0;32m--> 169\u001b[0;31m             \u001b[0mtiming\u001b[0m \u001b[0;34m=\u001b[0m \u001b[0mself\u001b[0m\u001b[0;34m.\u001b[0m\u001b[0minner\u001b[0m\u001b[0;34m(\u001b[0m\u001b[0mit\u001b[0m\u001b[0;34m,\u001b[0m \u001b[0mself\u001b[0m\u001b[0;34m.\u001b[0m\u001b[0mtimer\u001b[0m\u001b[0;34m)\u001b[0m\u001b[0;34m\u001b[0m\u001b[0;34m\u001b[0m\u001b[0m\n\u001b[0m\u001b[1;32m    170\u001b[0m         \u001b[0;32mfinally\u001b[0m\u001b[0;34m:\u001b[0m\u001b[0;34m\u001b[0m\u001b[0;34m\u001b[0m\u001b[0m\n\u001b[1;32m    171\u001b[0m             \u001b[0;32mif\u001b[0m \u001b[0mgcold\u001b[0m\u001b[0;34m:\u001b[0m\u001b[0;34m\u001b[0m\u001b[0;34m\u001b[0m\u001b[0m\n",
      "\u001b[0;32m<magic-timeit>\u001b[0m in \u001b[0;36minner\u001b[0;34m(_it, _timer)\u001b[0m\n",
      "\u001b[0;32m/opt/conda/envs/rapids/lib/python3.9/site-packages/modin/logging/logger_metaclass.py\u001b[0m in \u001b[0;36mlog_wrap\u001b[0;34m(*args, **kwargs)\u001b[0m\n\u001b[1;32m     66\u001b[0m             \u001b[0mlogger\u001b[0m\u001b[0;34m.\u001b[0m\u001b[0minfo\u001b[0m\u001b[0;34m(\u001b[0m\u001b[0;34mf\"END::PANDAS-API::{class_name}.{method_name}\"\u001b[0m\u001b[0;34m)\u001b[0m\u001b[0;34m\u001b[0m\u001b[0;34m\u001b[0m\u001b[0m\n\u001b[1;32m     67\u001b[0m             \u001b[0;32mreturn\u001b[0m \u001b[0mresult\u001b[0m\u001b[0;34m\u001b[0m\u001b[0;34m\u001b[0m\u001b[0m\n\u001b[0;32m---> 68\u001b[0;31m         \u001b[0;32mreturn\u001b[0m \u001b[0mmethod\u001b[0m\u001b[0;34m(\u001b[0m\u001b[0;34m*\u001b[0m\u001b[0margs\u001b[0m\u001b[0;34m,\u001b[0m \u001b[0;34m**\u001b[0m\u001b[0mkwargs\u001b[0m\u001b[0;34m)\u001b[0m\u001b[0;34m\u001b[0m\u001b[0;34m\u001b[0m\u001b[0m\n\u001b[0m\u001b[1;32m     69\u001b[0m \u001b[0;34m\u001b[0m\u001b[0m\n\u001b[1;32m     70\u001b[0m     \u001b[0;32mreturn\u001b[0m \u001b[0mlog_wrap\u001b[0m\u001b[0;34m\u001b[0m\u001b[0;34m\u001b[0m\u001b[0m\n",
      "\u001b[0;32m/opt/conda/envs/rapids/lib/python3.9/site-packages/modin/pandas/groupby.py\u001b[0m in \u001b[0;36mmean\u001b[0;34m(self, numeric_only)\u001b[0m\n\u001b[1;32m    134\u001b[0m     \u001b[0;32mdef\u001b[0m \u001b[0mmean\u001b[0m\u001b[0;34m(\u001b[0m\u001b[0mself\u001b[0m\u001b[0;34m,\u001b[0m \u001b[0mnumeric_only\u001b[0m\u001b[0;34m=\u001b[0m\u001b[0;32mNone\u001b[0m\u001b[0;34m)\u001b[0m\u001b[0;34m:\u001b[0m\u001b[0;34m\u001b[0m\u001b[0;34m\u001b[0m\u001b[0m\n\u001b[1;32m    135\u001b[0m         return self._check_index(\n\u001b[0;32m--> 136\u001b[0;31m             self._wrap_aggregation(\n\u001b[0m\u001b[1;32m    137\u001b[0m                 \u001b[0mtype\u001b[0m\u001b[0;34m(\u001b[0m\u001b[0mself\u001b[0m\u001b[0;34m.\u001b[0m\u001b[0m_query_compiler\u001b[0m\u001b[0;34m)\u001b[0m\u001b[0;34m.\u001b[0m\u001b[0mgroupby_mean\u001b[0m\u001b[0;34m,\u001b[0m\u001b[0;34m\u001b[0m\u001b[0;34m\u001b[0m\u001b[0m\n\u001b[1;32m    138\u001b[0m                 \u001b[0mnumeric_only\u001b[0m\u001b[0;34m=\u001b[0m\u001b[0mnumeric_only\u001b[0m\u001b[0;34m,\u001b[0m\u001b[0;34m\u001b[0m\u001b[0;34m\u001b[0m\u001b[0m\n",
      "\u001b[0;32m/opt/conda/envs/rapids/lib/python3.9/site-packages/modin/logging/logger_metaclass.py\u001b[0m in \u001b[0;36mlog_wrap\u001b[0;34m(*args, **kwargs)\u001b[0m\n\u001b[1;32m     66\u001b[0m             \u001b[0mlogger\u001b[0m\u001b[0;34m.\u001b[0m\u001b[0minfo\u001b[0m\u001b[0;34m(\u001b[0m\u001b[0;34mf\"END::PANDAS-API::{class_name}.{method_name}\"\u001b[0m\u001b[0;34m)\u001b[0m\u001b[0;34m\u001b[0m\u001b[0;34m\u001b[0m\u001b[0m\n\u001b[1;32m     67\u001b[0m             \u001b[0;32mreturn\u001b[0m \u001b[0mresult\u001b[0m\u001b[0;34m\u001b[0m\u001b[0;34m\u001b[0m\u001b[0m\n\u001b[0;32m---> 68\u001b[0;31m         \u001b[0;32mreturn\u001b[0m \u001b[0mmethod\u001b[0m\u001b[0;34m(\u001b[0m\u001b[0;34m*\u001b[0m\u001b[0margs\u001b[0m\u001b[0;34m,\u001b[0m \u001b[0;34m**\u001b[0m\u001b[0mkwargs\u001b[0m\u001b[0;34m)\u001b[0m\u001b[0;34m\u001b[0m\u001b[0;34m\u001b[0m\u001b[0m\n\u001b[0m\u001b[1;32m     69\u001b[0m \u001b[0;34m\u001b[0m\u001b[0m\n\u001b[1;32m     70\u001b[0m     \u001b[0;32mreturn\u001b[0m \u001b[0mlog_wrap\u001b[0m\u001b[0;34m\u001b[0m\u001b[0;34m\u001b[0m\u001b[0m\n",
      "\u001b[0;32m/opt/conda/envs/rapids/lib/python3.9/site-packages/modin/pandas/groupby.py\u001b[0m in \u001b[0;36m_wrap_aggregation\u001b[0;34m(self, qc_method, numeric_only, agg_args, agg_kwargs, **kwargs)\u001b[0m\n\u001b[1;32m   1080\u001b[0m \u001b[0;34m\u001b[0m\u001b[0m\n\u001b[1;32m   1081\u001b[0m         result = type(self._df)(\n\u001b[0;32m-> 1082\u001b[0;31m             query_compiler=qc_method(\n\u001b[0m\u001b[1;32m   1083\u001b[0m                 \u001b[0mgroupby_qc\u001b[0m\u001b[0;34m,\u001b[0m\u001b[0;34m\u001b[0m\u001b[0;34m\u001b[0m\u001b[0m\n\u001b[1;32m   1084\u001b[0m                 \u001b[0mby\u001b[0m\u001b[0;34m=\u001b[0m\u001b[0mself\u001b[0m\u001b[0;34m.\u001b[0m\u001b[0m_by\u001b[0m\u001b[0;34m,\u001b[0m\u001b[0;34m\u001b[0m\u001b[0;34m\u001b[0m\u001b[0m\n",
      "\u001b[0;32m/opt/conda/envs/rapids/lib/python3.9/site-packages/modin/logging/logger_metaclass.py\u001b[0m in \u001b[0;36mlog_wrap\u001b[0;34m(*args, **kwargs)\u001b[0m\n\u001b[1;32m     66\u001b[0m             \u001b[0mlogger\u001b[0m\u001b[0;34m.\u001b[0m\u001b[0minfo\u001b[0m\u001b[0;34m(\u001b[0m\u001b[0;34mf\"END::PANDAS-API::{class_name}.{method_name}\"\u001b[0m\u001b[0;34m)\u001b[0m\u001b[0;34m\u001b[0m\u001b[0;34m\u001b[0m\u001b[0m\n\u001b[1;32m     67\u001b[0m             \u001b[0;32mreturn\u001b[0m \u001b[0mresult\u001b[0m\u001b[0;34m\u001b[0m\u001b[0;34m\u001b[0m\u001b[0m\n\u001b[0;32m---> 68\u001b[0;31m         \u001b[0;32mreturn\u001b[0m \u001b[0mmethod\u001b[0m\u001b[0;34m(\u001b[0m\u001b[0;34m*\u001b[0m\u001b[0margs\u001b[0m\u001b[0;34m,\u001b[0m \u001b[0;34m**\u001b[0m\u001b[0mkwargs\u001b[0m\u001b[0;34m)\u001b[0m\u001b[0;34m\u001b[0m\u001b[0;34m\u001b[0m\u001b[0m\n\u001b[0m\u001b[1;32m     69\u001b[0m \u001b[0;34m\u001b[0m\u001b[0m\n\u001b[1;32m     70\u001b[0m     \u001b[0;32mreturn\u001b[0m \u001b[0mlog_wrap\u001b[0m\u001b[0;34m\u001b[0m\u001b[0;34m\u001b[0m\u001b[0m\n",
      "\u001b[0;32m/opt/conda/envs/rapids/lib/python3.9/site-packages/modin/core/storage_formats/base/query_compiler.py\u001b[0m in \u001b[0;36mgroupby_mean\u001b[0;34m(self, by, axis, groupby_kwargs, agg_args, agg_kwargs, drop)\u001b[0m\n\u001b[1;32m   2479\u001b[0m         \u001b[0mdrop\u001b[0m\u001b[0;34m=\u001b[0m\u001b[0;32mFalse\u001b[0m\u001b[0;34m,\u001b[0m\u001b[0;34m\u001b[0m\u001b[0;34m\u001b[0m\u001b[0m\n\u001b[1;32m   2480\u001b[0m     ):\n\u001b[0;32m-> 2481\u001b[0;31m         return self.groupby_agg(\n\u001b[0m\u001b[1;32m   2482\u001b[0m             \u001b[0mby\u001b[0m\u001b[0;34m=\u001b[0m\u001b[0mby\u001b[0m\u001b[0;34m,\u001b[0m\u001b[0;34m\u001b[0m\u001b[0;34m\u001b[0m\u001b[0m\n\u001b[1;32m   2483\u001b[0m             \u001b[0magg_func\u001b[0m\u001b[0;34m=\u001b[0m\u001b[0;34m\"mean\"\u001b[0m\u001b[0;34m,\u001b[0m\u001b[0;34m\u001b[0m\u001b[0;34m\u001b[0m\u001b[0m\n",
      "\u001b[0;32m/opt/conda/envs/rapids/lib/python3.9/site-packages/modin/logging/logger_metaclass.py\u001b[0m in \u001b[0;36mlog_wrap\u001b[0;34m(*args, **kwargs)\u001b[0m\n\u001b[1;32m     66\u001b[0m             \u001b[0mlogger\u001b[0m\u001b[0;34m.\u001b[0m\u001b[0minfo\u001b[0m\u001b[0;34m(\u001b[0m\u001b[0;34mf\"END::PANDAS-API::{class_name}.{method_name}\"\u001b[0m\u001b[0;34m)\u001b[0m\u001b[0;34m\u001b[0m\u001b[0;34m\u001b[0m\u001b[0m\n\u001b[1;32m     67\u001b[0m             \u001b[0;32mreturn\u001b[0m \u001b[0mresult\u001b[0m\u001b[0;34m\u001b[0m\u001b[0;34m\u001b[0m\u001b[0m\n\u001b[0;32m---> 68\u001b[0;31m         \u001b[0;32mreturn\u001b[0m \u001b[0mmethod\u001b[0m\u001b[0;34m(\u001b[0m\u001b[0;34m*\u001b[0m\u001b[0margs\u001b[0m\u001b[0;34m,\u001b[0m \u001b[0;34m**\u001b[0m\u001b[0mkwargs\u001b[0m\u001b[0;34m)\u001b[0m\u001b[0;34m\u001b[0m\u001b[0;34m\u001b[0m\u001b[0m\n\u001b[0m\u001b[1;32m     69\u001b[0m \u001b[0;34m\u001b[0m\u001b[0m\n\u001b[1;32m     70\u001b[0m     \u001b[0;32mreturn\u001b[0m \u001b[0mlog_wrap\u001b[0m\u001b[0;34m\u001b[0m\u001b[0;34m\u001b[0m\u001b[0m\n",
      "\u001b[0;32m/opt/conda/envs/rapids/lib/python3.9/site-packages/modin/core/storage_formats/pandas/query_compiler.py\u001b[0m in \u001b[0;36mgroupby_agg\u001b[0;34m(self, by, agg_func, axis, groupby_kwargs, agg_args, agg_kwargs, how, drop)\u001b[0m\n\u001b[1;32m   2811\u001b[0m         \u001b[0mapply_indices\u001b[0m \u001b[0;34m=\u001b[0m \u001b[0mlist\u001b[0m\u001b[0;34m(\u001b[0m\u001b[0magg_func\u001b[0m\u001b[0;34m.\u001b[0m\u001b[0mkeys\u001b[0m\u001b[0;34m(\u001b[0m\u001b[0;34m)\u001b[0m\u001b[0;34m)\u001b[0m \u001b[0;32mif\u001b[0m \u001b[0misinstance\u001b[0m\u001b[0;34m(\u001b[0m\u001b[0magg_func\u001b[0m\u001b[0;34m,\u001b[0m \u001b[0mdict\u001b[0m\u001b[0;34m)\u001b[0m \u001b[0;32melse\u001b[0m \u001b[0;32mNone\u001b[0m\u001b[0;34m\u001b[0m\u001b[0;34m\u001b[0m\u001b[0m\n\u001b[1;32m   2812\u001b[0m \u001b[0;34m\u001b[0m\u001b[0m\n\u001b[0;32m-> 2813\u001b[0;31m         new_modin_frame = self._modin_frame.broadcast_apply_full_axis(\n\u001b[0m\u001b[1;32m   2814\u001b[0m             \u001b[0maxis\u001b[0m\u001b[0;34m=\u001b[0m\u001b[0maxis\u001b[0m\u001b[0;34m,\u001b[0m\u001b[0;34m\u001b[0m\u001b[0;34m\u001b[0m\u001b[0m\n\u001b[1;32m   2815\u001b[0m             func=lambda df, by=None, partition_idx=None: groupby_agg_builder(\n",
      "\u001b[0;32m/opt/conda/envs/rapids/lib/python3.9/site-packages/modin/logging/logger_metaclass.py\u001b[0m in \u001b[0;36mlog_wrap\u001b[0;34m(*args, **kwargs)\u001b[0m\n\u001b[1;32m     66\u001b[0m             \u001b[0mlogger\u001b[0m\u001b[0;34m.\u001b[0m\u001b[0minfo\u001b[0m\u001b[0;34m(\u001b[0m\u001b[0;34mf\"END::PANDAS-API::{class_name}.{method_name}\"\u001b[0m\u001b[0;34m)\u001b[0m\u001b[0;34m\u001b[0m\u001b[0;34m\u001b[0m\u001b[0m\n\u001b[1;32m     67\u001b[0m             \u001b[0;32mreturn\u001b[0m \u001b[0mresult\u001b[0m\u001b[0;34m\u001b[0m\u001b[0;34m\u001b[0m\u001b[0m\n\u001b[0;32m---> 68\u001b[0;31m         \u001b[0;32mreturn\u001b[0m \u001b[0mmethod\u001b[0m\u001b[0;34m(\u001b[0m\u001b[0;34m*\u001b[0m\u001b[0margs\u001b[0m\u001b[0;34m,\u001b[0m \u001b[0;34m**\u001b[0m\u001b[0mkwargs\u001b[0m\u001b[0;34m)\u001b[0m\u001b[0;34m\u001b[0m\u001b[0;34m\u001b[0m\u001b[0m\n\u001b[0m\u001b[1;32m     69\u001b[0m \u001b[0;34m\u001b[0m\u001b[0m\n\u001b[1;32m     70\u001b[0m     \u001b[0;32mreturn\u001b[0m \u001b[0mlog_wrap\u001b[0m\u001b[0;34m\u001b[0m\u001b[0;34m\u001b[0m\u001b[0m\n",
      "\u001b[0;32m/opt/conda/envs/rapids/lib/python3.9/site-packages/modin/core/dataframe/pandas/dataframe/dataframe.py\u001b[0m in \u001b[0;36mrun_f_on_minimally_updated_metadata\u001b[0;34m(self, *args, **kwargs)\u001b[0m\n\u001b[1;32m    113\u001b[0m                 \u001b[0;32melif\u001b[0m \u001b[0mapply_axis\u001b[0m \u001b[0;34m==\u001b[0m \u001b[0;34m\"rows\"\u001b[0m\u001b[0;34m:\u001b[0m\u001b[0;34m\u001b[0m\u001b[0;34m\u001b[0m\u001b[0m\n\u001b[1;32m    114\u001b[0m                     \u001b[0mobj\u001b[0m\u001b[0;34m.\u001b[0m\u001b[0m_propagate_index_objs\u001b[0m\u001b[0;34m(\u001b[0m\u001b[0maxis\u001b[0m\u001b[0;34m=\u001b[0m\u001b[0;36m0\u001b[0m\u001b[0;34m)\u001b[0m\u001b[0;34m\u001b[0m\u001b[0;34m\u001b[0m\u001b[0m\n\u001b[0;32m--> 115\u001b[0;31m             \u001b[0mresult\u001b[0m \u001b[0;34m=\u001b[0m \u001b[0mf\u001b[0m\u001b[0;34m(\u001b[0m\u001b[0mself\u001b[0m\u001b[0;34m,\u001b[0m \u001b[0;34m*\u001b[0m\u001b[0margs\u001b[0m\u001b[0;34m,\u001b[0m \u001b[0;34m**\u001b[0m\u001b[0mkwargs\u001b[0m\u001b[0;34m)\u001b[0m\u001b[0;34m\u001b[0m\u001b[0;34m\u001b[0m\u001b[0m\n\u001b[0m\u001b[1;32m    116\u001b[0m             \u001b[0;32mif\u001b[0m \u001b[0mapply_axis\u001b[0m \u001b[0;32mis\u001b[0m \u001b[0;32mNone\u001b[0m \u001b[0;32mand\u001b[0m \u001b[0;32mnot\u001b[0m \u001b[0mtranspose\u001b[0m\u001b[0;34m:\u001b[0m\u001b[0;34m\u001b[0m\u001b[0;34m\u001b[0m\u001b[0m\n\u001b[1;32m    117\u001b[0m                 \u001b[0mresult\u001b[0m\u001b[0;34m.\u001b[0m\u001b[0m_deferred_index\u001b[0m \u001b[0;34m=\u001b[0m \u001b[0mself\u001b[0m\u001b[0;34m.\u001b[0m\u001b[0m_deferred_index\u001b[0m\u001b[0;34m\u001b[0m\u001b[0;34m\u001b[0m\u001b[0m\n",
      "\u001b[0;32m/opt/conda/envs/rapids/lib/python3.9/site-packages/modin/core/dataframe/pandas/dataframe/dataframe.py\u001b[0m in \u001b[0;36mbroadcast_apply_full_axis\u001b[0;34m(self, axis, func, other, new_index, new_columns, apply_indices, enumerate_partitions, dtypes)\u001b[0m\n\u001b[1;32m   2338\u001b[0m         )\n\u001b[1;32m   2339\u001b[0m         \u001b[0;31m# Index objects for new object creation. This is shorter than if..else\u001b[0m\u001b[0;34m\u001b[0m\u001b[0;34m\u001b[0m\u001b[0m\n\u001b[0;32m-> 2340\u001b[0;31m         new_axes = [\n\u001b[0m\u001b[1;32m   2341\u001b[0m             \u001b[0mself\u001b[0m\u001b[0;34m.\u001b[0m\u001b[0m_compute_axis_labels\u001b[0m\u001b[0;34m(\u001b[0m\u001b[0mi\u001b[0m\u001b[0;34m,\u001b[0m \u001b[0mnew_partitions\u001b[0m\u001b[0;34m)\u001b[0m\u001b[0;34m\u001b[0m\u001b[0;34m\u001b[0m\u001b[0m\n\u001b[1;32m   2342\u001b[0m             \u001b[0;32mif\u001b[0m \u001b[0mnew_axis\u001b[0m \u001b[0;32mis\u001b[0m \u001b[0;32mNone\u001b[0m\u001b[0;34m\u001b[0m\u001b[0;34m\u001b[0m\u001b[0m\n",
      "\u001b[0;32m/opt/conda/envs/rapids/lib/python3.9/site-packages/modin/core/dataframe/pandas/dataframe/dataframe.py\u001b[0m in \u001b[0;36m<listcomp>\u001b[0;34m(.0)\u001b[0m\n\u001b[1;32m   2339\u001b[0m         \u001b[0;31m# Index objects for new object creation. This is shorter than if..else\u001b[0m\u001b[0;34m\u001b[0m\u001b[0;34m\u001b[0m\u001b[0m\n\u001b[1;32m   2340\u001b[0m         new_axes = [\n\u001b[0;32m-> 2341\u001b[0;31m             \u001b[0mself\u001b[0m\u001b[0;34m.\u001b[0m\u001b[0m_compute_axis_labels\u001b[0m\u001b[0;34m(\u001b[0m\u001b[0mi\u001b[0m\u001b[0;34m,\u001b[0m \u001b[0mnew_partitions\u001b[0m\u001b[0;34m)\u001b[0m\u001b[0;34m\u001b[0m\u001b[0;34m\u001b[0m\u001b[0m\n\u001b[0m\u001b[1;32m   2342\u001b[0m             \u001b[0;32mif\u001b[0m \u001b[0mnew_axis\u001b[0m \u001b[0;32mis\u001b[0m \u001b[0;32mNone\u001b[0m\u001b[0;34m\u001b[0m\u001b[0;34m\u001b[0m\u001b[0m\n\u001b[1;32m   2343\u001b[0m             \u001b[0;32melse\u001b[0m \u001b[0mnew_axis\u001b[0m\u001b[0;34m\u001b[0m\u001b[0;34m\u001b[0m\u001b[0m\n",
      "\u001b[0;32m/opt/conda/envs/rapids/lib/python3.9/site-packages/modin/logging/logger_metaclass.py\u001b[0m in \u001b[0;36mlog_wrap\u001b[0;34m(*args, **kwargs)\u001b[0m\n\u001b[1;32m     66\u001b[0m             \u001b[0mlogger\u001b[0m\u001b[0;34m.\u001b[0m\u001b[0minfo\u001b[0m\u001b[0;34m(\u001b[0m\u001b[0;34mf\"END::PANDAS-API::{class_name}.{method_name}\"\u001b[0m\u001b[0;34m)\u001b[0m\u001b[0;34m\u001b[0m\u001b[0;34m\u001b[0m\u001b[0m\n\u001b[1;32m     67\u001b[0m             \u001b[0;32mreturn\u001b[0m \u001b[0mresult\u001b[0m\u001b[0;34m\u001b[0m\u001b[0;34m\u001b[0m\u001b[0m\n\u001b[0;32m---> 68\u001b[0;31m         \u001b[0;32mreturn\u001b[0m \u001b[0mmethod\u001b[0m\u001b[0;34m(\u001b[0m\u001b[0;34m*\u001b[0m\u001b[0margs\u001b[0m\u001b[0;34m,\u001b[0m \u001b[0;34m**\u001b[0m\u001b[0mkwargs\u001b[0m\u001b[0;34m)\u001b[0m\u001b[0;34m\u001b[0m\u001b[0;34m\u001b[0m\u001b[0m\n\u001b[0m\u001b[1;32m     69\u001b[0m \u001b[0;34m\u001b[0m\u001b[0m\n\u001b[1;32m     70\u001b[0m     \u001b[0;32mreturn\u001b[0m \u001b[0mlog_wrap\u001b[0m\u001b[0;34m\u001b[0m\u001b[0;34m\u001b[0m\u001b[0m\n",
      "\u001b[0;32m/opt/conda/envs/rapids/lib/python3.9/site-packages/modin/core/dataframe/pandas/dataframe/dataframe.py\u001b[0m in \u001b[0;36m_compute_axis_labels\u001b[0;34m(self, axis, partitions)\u001b[0m\n\u001b[1;32m    427\u001b[0m         \u001b[0;32mif\u001b[0m \u001b[0mpartitions\u001b[0m \u001b[0;32mis\u001b[0m \u001b[0;32mNone\u001b[0m\u001b[0;34m:\u001b[0m\u001b[0;34m\u001b[0m\u001b[0;34m\u001b[0m\u001b[0m\n\u001b[1;32m    428\u001b[0m             \u001b[0mpartitions\u001b[0m \u001b[0;34m=\u001b[0m \u001b[0mself\u001b[0m\u001b[0;34m.\u001b[0m\u001b[0m_partitions\u001b[0m\u001b[0;34m\u001b[0m\u001b[0;34m\u001b[0m\u001b[0m\n\u001b[0;32m--> 429\u001b[0;31m         return self._partition_mgr_cls.get_indices(\n\u001b[0m\u001b[1;32m    430\u001b[0m             \u001b[0maxis\u001b[0m\u001b[0;34m,\u001b[0m \u001b[0mpartitions\u001b[0m\u001b[0;34m,\u001b[0m \u001b[0;32mlambda\u001b[0m \u001b[0mdf\u001b[0m\u001b[0;34m:\u001b[0m \u001b[0mdf\u001b[0m\u001b[0;34m.\u001b[0m\u001b[0maxes\u001b[0m\u001b[0;34m[\u001b[0m\u001b[0maxis\u001b[0m\u001b[0;34m]\u001b[0m\u001b[0;34m\u001b[0m\u001b[0;34m\u001b[0m\u001b[0m\n\u001b[1;32m    431\u001b[0m         )\n",
      "\u001b[0;32m/opt/conda/envs/rapids/lib/python3.9/site-packages/modin/core/dataframe/pandas/partitioning/partition_manager.py\u001b[0m in \u001b[0;36mget_indices\u001b[0;34m(cls, axis, partitions, index_func)\u001b[0m\n\u001b[1;32m    844\u001b[0m                 \u001b[0;34m[\u001b[0m\u001b[0midx\u001b[0m\u001b[0;34m.\u001b[0m\u001b[0mapply\u001b[0m\u001b[0;34m(\u001b[0m\u001b[0mfunc\u001b[0m\u001b[0;34m)\u001b[0m \u001b[0;32mfor\u001b[0m \u001b[0midx\u001b[0m \u001b[0;32min\u001b[0m \u001b[0mpartitions\u001b[0m\u001b[0;34m[\u001b[0m\u001b[0;36m0\u001b[0m\u001b[0;34m]\u001b[0m\u001b[0;34m]\u001b[0m \u001b[0;32mif\u001b[0m \u001b[0mlen\u001b[0m\u001b[0;34m(\u001b[0m\u001b[0mpartitions\u001b[0m\u001b[0;34m)\u001b[0m \u001b[0;32melse\u001b[0m \u001b[0;34m[\u001b[0m\u001b[0;34m]\u001b[0m\u001b[0;34m\u001b[0m\u001b[0;34m\u001b[0m\u001b[0m\n\u001b[1;32m    845\u001b[0m             )\n\u001b[0;32m--> 846\u001b[0;31m         \u001b[0mnew_idx\u001b[0m \u001b[0;34m=\u001b[0m \u001b[0mcls\u001b[0m\u001b[0;34m.\u001b[0m\u001b[0mget_objects_from_partitions\u001b[0m\u001b[0;34m(\u001b[0m\u001b[0mnew_idx\u001b[0m\u001b[0;34m)\u001b[0m\u001b[0;34m\u001b[0m\u001b[0;34m\u001b[0m\u001b[0m\n\u001b[0m\u001b[1;32m    847\u001b[0m         \u001b[0;31m# TODO FIX INFORMATION LEAK!!!!1!!1!!\u001b[0m\u001b[0;34m\u001b[0m\u001b[0;34m\u001b[0m\u001b[0m\n\u001b[1;32m    848\u001b[0m         \u001b[0;32mreturn\u001b[0m \u001b[0mnew_idx\u001b[0m\u001b[0;34m[\u001b[0m\u001b[0;36m0\u001b[0m\u001b[0;34m]\u001b[0m\u001b[0;34m.\u001b[0m\u001b[0mappend\u001b[0m\u001b[0;34m(\u001b[0m\u001b[0mnew_idx\u001b[0m\u001b[0;34m[\u001b[0m\u001b[0;36m1\u001b[0m\u001b[0;34m:\u001b[0m\u001b[0;34m]\u001b[0m\u001b[0;34m)\u001b[0m \u001b[0;32mif\u001b[0m \u001b[0mlen\u001b[0m\u001b[0;34m(\u001b[0m\u001b[0mnew_idx\u001b[0m\u001b[0;34m)\u001b[0m \u001b[0;32melse\u001b[0m \u001b[0mnew_idx\u001b[0m\u001b[0;34m\u001b[0m\u001b[0;34m\u001b[0m\u001b[0m\n",
      "\u001b[0;32m/opt/conda/envs/rapids/lib/python3.9/site-packages/modin/core/execution/dask/implementations/pandas_on_dask/partitioning/partition_manager.py\u001b[0m in \u001b[0;36mget_objects_from_partitions\u001b[0;34m(cls, partitions)\u001b[0m\n\u001b[1;32m     48\u001b[0m             \u001b[0mThe\u001b[0m \u001b[0mobjects\u001b[0m \u001b[0mwrapped\u001b[0m \u001b[0mby\u001b[0m\u001b[0;31m \u001b[0m\u001b[0;31m`\u001b[0m\u001b[0mpartitions\u001b[0m\u001b[0;31m`\u001b[0m\u001b[0;34m.\u001b[0m\u001b[0;34m\u001b[0m\u001b[0;34m\u001b[0m\u001b[0m\n\u001b[1;32m     49\u001b[0m         \"\"\"\n\u001b[0;32m---> 50\u001b[0;31m         \u001b[0;32mreturn\u001b[0m \u001b[0mDaskWrapper\u001b[0m\u001b[0;34m.\u001b[0m\u001b[0mmaterialize\u001b[0m\u001b[0;34m(\u001b[0m\u001b[0;34m[\u001b[0m\u001b[0mpartition\u001b[0m\u001b[0;34m.\u001b[0m\u001b[0mfuture\u001b[0m \u001b[0;32mfor\u001b[0m \u001b[0mpartition\u001b[0m \u001b[0;32min\u001b[0m \u001b[0mpartitions\u001b[0m\u001b[0;34m]\u001b[0m\u001b[0;34m)\u001b[0m\u001b[0;34m\u001b[0m\u001b[0;34m\u001b[0m\u001b[0m\n\u001b[0m",
      "\u001b[0;32m/opt/conda/envs/rapids/lib/python3.9/site-packages/modin/core/execution/dask/common/engine_wrapper.py\u001b[0m in \u001b[0;36mmaterialize\u001b[0;34m(cls, future)\u001b[0m\n\u001b[1;32m     68\u001b[0m         \"\"\"\n\u001b[1;32m     69\u001b[0m         \u001b[0mclient\u001b[0m \u001b[0;34m=\u001b[0m \u001b[0mdefault_client\u001b[0m\u001b[0;34m(\u001b[0m\u001b[0;34m)\u001b[0m\u001b[0;34m\u001b[0m\u001b[0;34m\u001b[0m\u001b[0m\n\u001b[0;32m---> 70\u001b[0;31m         \u001b[0;32mreturn\u001b[0m \u001b[0mclient\u001b[0m\u001b[0;34m.\u001b[0m\u001b[0mgather\u001b[0m\u001b[0;34m(\u001b[0m\u001b[0mfuture\u001b[0m\u001b[0;34m)\u001b[0m\u001b[0;34m\u001b[0m\u001b[0;34m\u001b[0m\u001b[0m\n\u001b[0m\u001b[1;32m     71\u001b[0m \u001b[0;34m\u001b[0m\u001b[0m\n\u001b[1;32m     72\u001b[0m     \u001b[0;34m@\u001b[0m\u001b[0mclassmethod\u001b[0m\u001b[0;34m\u001b[0m\u001b[0;34m\u001b[0m\u001b[0m\n",
      "\u001b[0;32m/opt/conda/envs/rapids/lib/python3.9/site-packages/distributed/client.py\u001b[0m in \u001b[0;36mgather\u001b[0;34m(self, futures, errors, direct, asynchronous)\u001b[0m\n\u001b[1;32m   2186\u001b[0m             \u001b[0;32melse\u001b[0m\u001b[0;34m:\u001b[0m\u001b[0;34m\u001b[0m\u001b[0;34m\u001b[0m\u001b[0m\n\u001b[1;32m   2187\u001b[0m                 \u001b[0mlocal_worker\u001b[0m \u001b[0;34m=\u001b[0m \u001b[0;32mNone\u001b[0m\u001b[0;34m\u001b[0m\u001b[0;34m\u001b[0m\u001b[0m\n\u001b[0;32m-> 2188\u001b[0;31m             return self.sync(\n\u001b[0m\u001b[1;32m   2189\u001b[0m                 \u001b[0mself\u001b[0m\u001b[0;34m.\u001b[0m\u001b[0m_gather\u001b[0m\u001b[0;34m,\u001b[0m\u001b[0;34m\u001b[0m\u001b[0;34m\u001b[0m\u001b[0m\n\u001b[1;32m   2190\u001b[0m                 \u001b[0mfutures\u001b[0m\u001b[0;34m,\u001b[0m\u001b[0;34m\u001b[0m\u001b[0;34m\u001b[0m\u001b[0m\n",
      "\u001b[0;32m/opt/conda/envs/rapids/lib/python3.9/site-packages/distributed/utils.py\u001b[0m in \u001b[0;36msync\u001b[0;34m(self, func, asynchronous, callback_timeout, *args, **kwargs)\u001b[0m\n\u001b[1;32m    318\u001b[0m             \u001b[0;32mreturn\u001b[0m \u001b[0mfuture\u001b[0m\u001b[0;34m\u001b[0m\u001b[0;34m\u001b[0m\u001b[0m\n\u001b[1;32m    319\u001b[0m         \u001b[0;32melse\u001b[0m\u001b[0;34m:\u001b[0m\u001b[0;34m\u001b[0m\u001b[0;34m\u001b[0m\u001b[0m\n\u001b[0;32m--> 320\u001b[0;31m             return sync(\n\u001b[0m\u001b[1;32m    321\u001b[0m                 \u001b[0mself\u001b[0m\u001b[0;34m.\u001b[0m\u001b[0mloop\u001b[0m\u001b[0;34m,\u001b[0m \u001b[0mfunc\u001b[0m\u001b[0;34m,\u001b[0m \u001b[0;34m*\u001b[0m\u001b[0margs\u001b[0m\u001b[0;34m,\u001b[0m \u001b[0mcallback_timeout\u001b[0m\u001b[0;34m=\u001b[0m\u001b[0mcallback_timeout\u001b[0m\u001b[0;34m,\u001b[0m \u001b[0;34m**\u001b[0m\u001b[0mkwargs\u001b[0m\u001b[0;34m\u001b[0m\u001b[0;34m\u001b[0m\u001b[0m\n\u001b[1;32m    322\u001b[0m             )\n",
      "\u001b[0;32m/opt/conda/envs/rapids/lib/python3.9/site-packages/distributed/utils.py\u001b[0m in \u001b[0;36msync\u001b[0;34m(loop, func, callback_timeout, *args, **kwargs)\u001b[0m\n\u001b[1;32m    385\u001b[0m     \u001b[0;32mif\u001b[0m \u001b[0merror\u001b[0m\u001b[0;34m:\u001b[0m\u001b[0;34m\u001b[0m\u001b[0;34m\u001b[0m\u001b[0m\n\u001b[1;32m    386\u001b[0m         \u001b[0mtyp\u001b[0m\u001b[0;34m,\u001b[0m \u001b[0mexc\u001b[0m\u001b[0;34m,\u001b[0m \u001b[0mtb\u001b[0m \u001b[0;34m=\u001b[0m \u001b[0merror\u001b[0m\u001b[0;34m\u001b[0m\u001b[0;34m\u001b[0m\u001b[0m\n\u001b[0;32m--> 387\u001b[0;31m         \u001b[0;32mraise\u001b[0m \u001b[0mexc\u001b[0m\u001b[0;34m.\u001b[0m\u001b[0mwith_traceback\u001b[0m\u001b[0;34m(\u001b[0m\u001b[0mtb\u001b[0m\u001b[0;34m)\u001b[0m\u001b[0;34m\u001b[0m\u001b[0;34m\u001b[0m\u001b[0m\n\u001b[0m\u001b[1;32m    388\u001b[0m     \u001b[0;32melse\u001b[0m\u001b[0;34m:\u001b[0m\u001b[0;34m\u001b[0m\u001b[0;34m\u001b[0m\u001b[0m\n\u001b[1;32m    389\u001b[0m         \u001b[0;32mreturn\u001b[0m \u001b[0mresult\u001b[0m\u001b[0;34m\u001b[0m\u001b[0;34m\u001b[0m\u001b[0m\n",
      "\u001b[0;32m/opt/conda/envs/rapids/lib/python3.9/site-packages/distributed/utils.py\u001b[0m in \u001b[0;36mf\u001b[0;34m()\u001b[0m\n\u001b[1;32m    358\u001b[0m                 \u001b[0mfuture\u001b[0m \u001b[0;34m=\u001b[0m \u001b[0masyncio\u001b[0m\u001b[0;34m.\u001b[0m\u001b[0mwait_for\u001b[0m\u001b[0;34m(\u001b[0m\u001b[0mfuture\u001b[0m\u001b[0;34m,\u001b[0m \u001b[0mcallback_timeout\u001b[0m\u001b[0;34m)\u001b[0m\u001b[0;34m\u001b[0m\u001b[0;34m\u001b[0m\u001b[0m\n\u001b[1;32m    359\u001b[0m             \u001b[0mfuture\u001b[0m \u001b[0;34m=\u001b[0m \u001b[0masyncio\u001b[0m\u001b[0;34m.\u001b[0m\u001b[0mensure_future\u001b[0m\u001b[0;34m(\u001b[0m\u001b[0mfuture\u001b[0m\u001b[0;34m)\u001b[0m\u001b[0;34m\u001b[0m\u001b[0;34m\u001b[0m\u001b[0m\n\u001b[0;32m--> 360\u001b[0;31m             \u001b[0mresult\u001b[0m \u001b[0;34m=\u001b[0m \u001b[0;32myield\u001b[0m \u001b[0mfuture\u001b[0m\u001b[0;34m\u001b[0m\u001b[0;34m\u001b[0m\u001b[0m\n\u001b[0m\u001b[1;32m    361\u001b[0m         \u001b[0;32mexcept\u001b[0m \u001b[0mException\u001b[0m\u001b[0;34m:\u001b[0m\u001b[0;34m\u001b[0m\u001b[0;34m\u001b[0m\u001b[0m\n\u001b[1;32m    362\u001b[0m             \u001b[0merror\u001b[0m \u001b[0;34m=\u001b[0m \u001b[0msys\u001b[0m\u001b[0;34m.\u001b[0m\u001b[0mexc_info\u001b[0m\u001b[0;34m(\u001b[0m\u001b[0;34m)\u001b[0m\u001b[0;34m\u001b[0m\u001b[0;34m\u001b[0m\u001b[0m\n",
      "\u001b[0;32m/opt/conda/envs/rapids/lib/python3.9/site-packages/tornado/gen.py\u001b[0m in \u001b[0;36mrun\u001b[0;34m(self)\u001b[0m\n\u001b[1;32m    760\u001b[0m \u001b[0;34m\u001b[0m\u001b[0m\n\u001b[1;32m    761\u001b[0m                     \u001b[0;32mtry\u001b[0m\u001b[0;34m:\u001b[0m\u001b[0;34m\u001b[0m\u001b[0;34m\u001b[0m\u001b[0m\n\u001b[0;32m--> 762\u001b[0;31m                         \u001b[0mvalue\u001b[0m \u001b[0;34m=\u001b[0m \u001b[0mfuture\u001b[0m\u001b[0;34m.\u001b[0m\u001b[0mresult\u001b[0m\u001b[0;34m(\u001b[0m\u001b[0;34m)\u001b[0m\u001b[0;34m\u001b[0m\u001b[0;34m\u001b[0m\u001b[0m\n\u001b[0m\u001b[1;32m    763\u001b[0m                     \u001b[0;32mexcept\u001b[0m \u001b[0mException\u001b[0m\u001b[0;34m:\u001b[0m\u001b[0;34m\u001b[0m\u001b[0;34m\u001b[0m\u001b[0m\n\u001b[1;32m    764\u001b[0m                         \u001b[0mexc_info\u001b[0m \u001b[0;34m=\u001b[0m \u001b[0msys\u001b[0m\u001b[0;34m.\u001b[0m\u001b[0mexc_info\u001b[0m\u001b[0;34m(\u001b[0m\u001b[0;34m)\u001b[0m\u001b[0;34m\u001b[0m\u001b[0;34m\u001b[0m\u001b[0m\n",
      "\u001b[0;32m/opt/conda/envs/rapids/lib/python3.9/site-packages/distributed/client.py\u001b[0m in \u001b[0;36m_gather\u001b[0;34m(self, futures, errors, direct, local_worker)\u001b[0m\n\u001b[1;32m   2050\u001b[0m                         \u001b[0;32melse\u001b[0m\u001b[0;34m:\u001b[0m\u001b[0;34m\u001b[0m\u001b[0;34m\u001b[0m\u001b[0m\n\u001b[1;32m   2051\u001b[0m                             \u001b[0;32mraise\u001b[0m \u001b[0mexception\u001b[0m\u001b[0;34m.\u001b[0m\u001b[0mwith_traceback\u001b[0m\u001b[0;34m(\u001b[0m\u001b[0mtraceback\u001b[0m\u001b[0;34m)\u001b[0m\u001b[0;34m\u001b[0m\u001b[0;34m\u001b[0m\u001b[0m\n\u001b[0;32m-> 2052\u001b[0;31m                         \u001b[0;32mraise\u001b[0m \u001b[0mexc\u001b[0m\u001b[0;34m\u001b[0m\u001b[0;34m\u001b[0m\u001b[0m\n\u001b[0m\u001b[1;32m   2053\u001b[0m                     \u001b[0;32mif\u001b[0m \u001b[0merrors\u001b[0m \u001b[0;34m==\u001b[0m \u001b[0;34m\"skip\"\u001b[0m\u001b[0;34m:\u001b[0m\u001b[0;34m\u001b[0m\u001b[0;34m\u001b[0m\u001b[0m\n\u001b[1;32m   2054\u001b[0m                         \u001b[0mbad_keys\u001b[0m\u001b[0;34m.\u001b[0m\u001b[0madd\u001b[0m\u001b[0;34m(\u001b[0m\u001b[0mkey\u001b[0m\u001b[0;34m)\u001b[0m\u001b[0;34m\u001b[0m\u001b[0;34m\u001b[0m\u001b[0m\n",
      "\u001b[0;31mCancelledError\u001b[0m: lambda-320b353f341d6f7dd900099bdf61142a"
     ]
    }
   ],
   "source": [
    "%%timeit\n",
    "modin_concatted.groupby(['Date', 'SecuritiesCode']).mean()"
   ]
  },
  {
   "cell_type": "code",
   "execution_count": 49,
   "id": "fd505279-3186-4da8-8f47-20e36ec37592",
   "metadata": {},
   "outputs": [
    {
     "name": "stdout",
     "output_type": "stream",
     "text": [
      "62.7 ms ± 588 µs per loop (mean ± std. dev. of 7 runs, 10 loops each)\n"
     ]
    }
   ],
   "source": [
    "%%timeit\n",
    "cudf_concatted.groupby(['Date', 'SecuritiesCode']).mean()"
   ]
  },
  {
   "cell_type": "code",
   "execution_count": 50,
   "id": "38b8ae8d-6966-4943-b4e4-470dbe903e5e",
   "metadata": {},
   "outputs": [
    {
     "name": "stdout",
     "output_type": "stream",
     "text": [
      "488 ms ± 9.95 ms per loop (mean ± std. dev. of 7 runs, 1 loop each)\n"
     ]
    }
   ],
   "source": [
    "%%timeit\n",
    "polars_concatted.groupby(['Date', 'SecuritiesCode']).mean()"
   ]
  },
  {
   "cell_type": "code",
   "execution_count": 110,
   "id": "7a0aa50a-f75f-4cd0-b704-fb79c0b882b8",
   "metadata": {},
   "outputs": [],
   "source": [
    "trades_path = data_root / 'trades.csv'\n",
    "\n",
    "trades_pd = pd.read_csv(trades_path, parse_dates=['Date']).dropna(subset=['TotalSales'])\n",
    "trades_pd = pd.concat([trades_pd, trades_pd])\n",
    "trades_pd = pd.concat([trades_pd, trades_pd])\n",
    "\n",
    "trades_modin = mp.read_csv(trades_path, parse_dates=['Date']).dropna(subset=['TotalSales'])\n",
    "trades_modin = mp.concat([trades_modin, trades_modin])\n",
    "trades_modin = mp.concat([trades_modin, trades_modin])\n",
    "\n",
    "trades_cudf = cudf.read_csv(trades_path, parse_dates=['Date']).dropna(subset=['TotalSales'])\n",
    "trades_cudf = cudf.concat([trades_cudf, trades_cudf])\n",
    "trades_cudf = cudf.concat([trades_cudf, trades_cudf])\n",
    "\n",
    "trades_polars = pl.read_csv(trades_path, parse_dates=True).drop_nulls(subset=['TotalSales'])\n",
    "trades_polars = pl.concat([trades_polars, trades_polars])\n",
    "trades_polars = pl.concat([trades_polars, trades_polars])"
   ]
  },
  {
   "cell_type": "code",
   "execution_count": 97,
   "id": "0bebc782-1ac5-4b72-ac98-633ac7d606db",
   "metadata": {},
   "outputs": [],
   "source": [
    "def join_dataframes(df1, df2):\n",
    "    return (df1\n",
    "            .groupby(['Date', 'SecuritiesCode'])\n",
    "            .mean()\n",
    "            .merge(df2.groupby(['Date']).mean(), how='left', on='Date')\n",
    "            .fillna(method='ffill')\n",
    "            )\n",
    "\n",
    "def join_dataframes_polars(df1, df2):\n",
    "    return (df1\n",
    "            .groupby(['Date', 'SecuritiesCode'])\n",
    "            .mean()\n",
    "            .join(df2.groupby(['Date']).mean(), how='left', on='Date')\n",
    "            .fill_null(\"forward\")\n",
    "            )"
   ]
  },
  {
   "cell_type": "code",
   "execution_count": 102,
   "id": "7082531f-7f31-4d1f-b6d5-809acb0ebadb",
   "metadata": {},
   "outputs": [
    {
     "name": "stdout",
     "output_type": "stream",
     "text": [
      "7.02 ms ± 158 µs per loop (mean ± std. dev. of 7 runs, 100 loops each)\n"
     ]
    }
   ],
   "source": [
    "%%timeit\n",
    "join_dataframes(pd_concatted.iloc[:10_000], trades_pd)"
   ]
  },
  {
   "cell_type": "code",
   "execution_count": 103,
   "id": "74fa5984-1868-4a80-b556-7948cb3da3d3",
   "metadata": {},
   "outputs": [
    {
     "name": "stdout",
     "output_type": "stream",
     "text": [
      "50 ms ± 469 µs per loop (mean ± std. dev. of 7 runs, 10 loops each)\n"
     ]
    }
   ],
   "source": [
    "%%timeit\n",
    "join_dataframes(pd_concatted.iloc[:100_000], trades_pd)"
   ]
  },
  {
   "cell_type": "code",
   "execution_count": 104,
   "id": "00beef1c-2c07-4285-b174-4199854612cc",
   "metadata": {},
   "outputs": [
    {
     "name": "stdout",
     "output_type": "stream",
     "text": [
      "495 ms ± 4.13 ms per loop (mean ± std. dev. of 7 runs, 1 loop each)\n"
     ]
    }
   ],
   "source": [
    "%%timeit\n",
    "join_dataframes(pd_concatted.iloc[:1_000_000], trades_pd)"
   ]
  },
  {
   "cell_type": "code",
   "execution_count": 98,
   "id": "188d3bd2-330a-4a22-8558-ad6d757688b9",
   "metadata": {},
   "outputs": [
    {
     "name": "stdout",
     "output_type": "stream",
     "text": [
      "1.62 s ± 15.1 ms per loop (mean ± std. dev. of 7 runs, 1 loop each)\n"
     ]
    }
   ],
   "source": [
    "%%timeit\n",
    "join_dataframes(pd_concatted, trades_pd)"
   ]
  },
  {
   "cell_type": "code",
   "execution_count": 111,
   "id": "e4ddbab6-f804-466a-93c2-d97e5d0a4a8e",
   "metadata": {},
   "outputs": [
    {
     "name": "stdout",
     "output_type": "stream",
     "text": [
      "4.17 s ± 83.9 ms per loop (mean ± std. dev. of 7 runs, 1 loop each)\n"
     ]
    }
   ],
   "source": [
    "%%timeit\n",
    "join_dataframes(modin_concatted.iloc[:10_000], trades_modin)"
   ]
  },
  {
   "cell_type": "code",
   "execution_count": 112,
   "id": "57feb317-f877-433a-8371-01b7d2ddd243",
   "metadata": {},
   "outputs": [
    {
     "name": "stdout",
     "output_type": "stream",
     "text": [
      "4.37 s ± 118 ms per loop (mean ± std. dev. of 7 runs, 1 loop each)\n"
     ]
    }
   ],
   "source": [
    "%%timeit\n",
    "join_dataframes(modin_concatted.iloc[:100_000], trades_modin)"
   ]
  },
  {
   "cell_type": "code",
   "execution_count": 113,
   "id": "6ecbc291-f0f6-4b37-9ab6-715fb11bcec4",
   "metadata": {},
   "outputs": [
    {
     "name": "stdout",
     "output_type": "stream",
     "text": [
      "5.91 s ± 254 ms per loop (mean ± std. dev. of 7 runs, 1 loop each)\n"
     ]
    }
   ],
   "source": [
    "%%timeit\n",
    "join_dataframes(modin_concatted.iloc[:1_000_000], trades_modin)"
   ]
  },
  {
   "cell_type": "code",
   "execution_count": 114,
   "id": "364d17fe-0d8c-4614-954c-b0ff0a8fff97",
   "metadata": {},
   "outputs": [
    {
     "name": "stderr",
     "output_type": "stream",
     "text": [
      "2022-07-12 02:30:03,333 - distributed.worker_memory - WARNING - Worker is at 89% memory usage. Pausing worker.  Process memory: 3.51 GiB -- Worker memory limit: 3.93 GiB\n",
      "2022-07-12 02:30:03,445 - distributed.worker_memory - WARNING - Worker is at 76% memory usage. Resuming worker. Process memory: 3.01 GiB -- Worker memory limit: 3.93 GiB\n",
      "2022-07-12 02:30:03,674 - distributed.worker_memory - WARNING - Worker is at 83% memory usage. Pausing worker.  Process memory: 3.30 GiB -- Worker memory limit: 3.93 GiB\n",
      "2022-07-12 02:30:04,408 - distributed.worker_memory - WARNING - Worker is at 50% memory usage. Resuming worker. Process memory: 1.97 GiB -- Worker memory limit: 3.93 GiB\n",
      "2022-07-12 02:30:16,427 - distributed.worker_memory - WARNING - Worker is at 80% memory usage. Pausing worker.  Process memory: 3.15 GiB -- Worker memory limit: 3.93 GiB\n",
      "2022-07-12 02:30:16,536 - distributed.worker_memory - WARNING - Worker is at 77% memory usage. Resuming worker. Process memory: 3.03 GiB -- Worker memory limit: 3.93 GiB\n",
      "2022-07-12 02:30:16,637 - distributed.worker_memory - WARNING - Worker is at 80% memory usage. Pausing worker.  Process memory: 3.18 GiB -- Worker memory limit: 3.93 GiB\n",
      "2022-07-12 02:30:17,463 - distributed.worker_memory - WARNING - Worker is at 49% memory usage. Resuming worker. Process memory: 1.96 GiB -- Worker memory limit: 3.93 GiB\n",
      "2022-07-12 02:30:25,822 - distributed.worker_memory - WARNING - Worker is at 86% memory usage. Pausing worker.  Process memory: 3.41 GiB -- Worker memory limit: 3.93 GiB\n",
      "2022-07-12 02:30:26,026 - distributed.worker_memory - WARNING - Worker is at 75% memory usage. Resuming worker. Process memory: 2.97 GiB -- Worker memory limit: 3.93 GiB\n",
      "2022-07-12 02:30:26,129 - distributed.worker_memory - WARNING - Worker is at 90% memory usage. Pausing worker.  Process memory: 3.57 GiB -- Worker memory limit: 3.93 GiB\n",
      "2022-07-12 02:30:26,264 - distributed.worker_memory - WARNING - Worker is at 61% memory usage. Resuming worker. Process memory: 2.41 GiB -- Worker memory limit: 3.93 GiB\n",
      "2022-07-12 02:30:26,490 - distributed.worker_memory - WARNING - Unmanaged memory use is high. This may indicate a memory leak or the memory may not be released to the OS; see https://distributed.dask.org/en/latest/worker-memory.html#memory-not-released-back-to-the-os for more information. -- Unmanaged memory: 2.41 GiB -- Worker memory limit: 3.93 GiB\n",
      "2022-07-12 02:30:29,341 - distributed.worker_memory - WARNING - Worker is at 83% memory usage. Pausing worker.  Process memory: 3.28 GiB -- Worker memory limit: 3.93 GiB\n",
      "2022-07-12 02:30:29,443 - distributed.worker_memory - WARNING - Worker is at 76% memory usage. Resuming worker. Process memory: 3.01 GiB -- Worker memory limit: 3.93 GiB\n",
      "2022-07-12 02:30:29,664 - distributed.worker_memory - WARNING - Worker is at 83% memory usage. Pausing worker.  Process memory: 3.29 GiB -- Worker memory limit: 3.93 GiB\n",
      "2022-07-12 02:30:30,403 - distributed.worker_memory - WARNING - Worker is at 49% memory usage. Resuming worker. Process memory: 1.96 GiB -- Worker memory limit: 3.93 GiB\n",
      "2022-07-12 02:30:39,242 - distributed.worker_memory - WARNING - Worker is at 95% memory usage. Pausing worker.  Process memory: 3.77 GiB -- Worker memory limit: 3.93 GiB\n",
      "2022-07-12 02:30:39,246 - distributed.worker_memory - WARNING - Worker is at 62% memory usage. Resuming worker. Process memory: 2.46 GiB -- Worker memory limit: 3.93 GiB\n",
      "2022-07-12 02:30:39,347 - distributed.worker_memory - WARNING - Worker is at 84% memory usage. Pausing worker.  Process memory: 3.33 GiB -- Worker memory limit: 3.93 GiB\n",
      "2022-07-12 02:30:39,545 - distributed.worker_memory - WARNING - Worker is at 61% memory usage. Resuming worker. Process memory: 2.42 GiB -- Worker memory limit: 3.93 GiB\n",
      "2022-07-12 02:30:39,791 - distributed.worker_memory - WARNING - Unmanaged memory use is high. This may indicate a memory leak or the memory may not be released to the OS; see https://distributed.dask.org/en/latest/worker-memory.html#memory-not-released-back-to-the-os for more information. -- Unmanaged memory: 2.42 GiB -- Worker memory limit: 3.93 GiB\n",
      "2022-07-12 02:30:42,639 - distributed.worker_memory - WARNING - Worker is at 81% memory usage. Pausing worker.  Process memory: 3.18 GiB -- Worker memory limit: 3.93 GiB\n",
      "2022-07-12 02:30:42,740 - distributed.worker_memory - WARNING - Worker is at 76% memory usage. Resuming worker. Process memory: 3.02 GiB -- Worker memory limit: 3.93 GiB\n",
      "2022-07-12 02:30:42,846 - distributed.worker_memory - WARNING - Worker is at 80% memory usage. Pausing worker.  Process memory: 3.16 GiB -- Worker memory limit: 3.93 GiB\n",
      "2022-07-12 02:30:43,701 - distributed.worker_memory - WARNING - Worker is at 50% memory usage. Resuming worker. Process memory: 1.97 GiB -- Worker memory limit: 3.93 GiB\n",
      "2022-07-12 02:30:52,048 - distributed.worker_memory - WARNING - Worker is at 84% memory usage. Pausing worker.  Process memory: 3.33 GiB -- Worker memory limit: 3.93 GiB\n",
      "2022-07-12 02:30:52,249 - distributed.worker_memory - WARNING - Worker is at 75% memory usage. Resuming worker. Process memory: 2.97 GiB -- Worker memory limit: 3.93 GiB\n",
      "2022-07-12 02:30:52,351 - distributed.worker_memory - WARNING - Worker is at 91% memory usage. Pausing worker.  Process memory: 3.58 GiB -- Worker memory limit: 3.93 GiB\n",
      "2022-07-12 02:30:52,478 - distributed.worker_memory - WARNING - Worker is at 61% memory usage. Resuming worker. Process memory: 2.40 GiB -- Worker memory limit: 3.93 GiB\n",
      "2022-07-12 02:30:52,690 - distributed.worker_memory - WARNING - Unmanaged memory use is high. This may indicate a memory leak or the memory may not be released to the OS; see https://distributed.dask.org/en/latest/worker-memory.html#memory-not-released-back-to-the-os for more information. -- Unmanaged memory: 2.40 GiB -- Worker memory limit: 3.93 GiB\n",
      "2022-07-12 02:30:55,538 - distributed.worker_memory - WARNING - Worker is at 92% memory usage. Pausing worker.  Process memory: 3.62 GiB -- Worker memory limit: 3.93 GiB\n",
      "2022-07-12 02:30:55,640 - distributed.worker_memory - WARNING - Worker is at 77% memory usage. Resuming worker. Process memory: 3.03 GiB -- Worker memory limit: 3.93 GiB\n",
      "2022-07-12 02:30:55,742 - distributed.worker_memory - WARNING - Worker is at 80% memory usage. Pausing worker.  Process memory: 3.15 GiB -- Worker memory limit: 3.93 GiB\n",
      "2022-07-12 02:30:56,583 - distributed.worker_memory - WARNING - Worker is at 50% memory usage. Resuming worker. Process memory: 1.97 GiB -- Worker memory limit: 3.93 GiB\n",
      "2022-07-12 02:31:08,443 - distributed.worker_memory - WARNING - Worker is at 84% memory usage. Pausing worker.  Process memory: 3.31 GiB -- Worker memory limit: 3.93 GiB\n",
      "2022-07-12 02:31:08,458 - distributed.worker_memory - WARNING - Worker is at 69% memory usage. Resuming worker. Process memory: 2.72 GiB -- Worker memory limit: 3.93 GiB\n",
      "2022-07-12 02:31:08,666 - distributed.worker_memory - WARNING - Worker is at 82% memory usage. Pausing worker.  Process memory: 3.22 GiB -- Worker memory limit: 3.93 GiB\n",
      "2022-07-12 02:31:09,475 - distributed.worker_memory - WARNING - Worker is at 50% memory usage. Resuming worker. Process memory: 1.97 GiB -- Worker memory limit: 3.93 GiB\n",
      "2022-07-12 02:31:17,963 - distributed.worker_memory - WARNING - Worker is at 90% memory usage. Pausing worker.  Process memory: 3.55 GiB -- Worker memory limit: 3.93 GiB\n",
      "2022-07-12 02:31:18,156 - distributed.worker_memory - WARNING - Worker tcp://127.0.0.1:35819 (pid=3104) exceeded 95% memory budget. Restarting...\n",
      "2022-07-12 02:31:18,387 - distributed.nanny - WARNING - Restarting worker\n"
     ]
    },
    {
     "ename": "CancelledError",
     "evalue": "lambda-d367b2fbf633f0c8ed06b76cfa1a2b20",
     "output_type": "error",
     "traceback": [
      "\u001b[0;31m---------------------------------------------------------------------------\u001b[0m",
      "\u001b[0;31mCancelledError\u001b[0m                            Traceback (most recent call last)",
      "\u001b[0;32m/tmp/ipykernel_2958/2442481438.py\u001b[0m in \u001b[0;36m<module>\u001b[0;34m\u001b[0m\n\u001b[0;32m----> 1\u001b[0;31m \u001b[0mget_ipython\u001b[0m\u001b[0;34m(\u001b[0m\u001b[0;34m)\u001b[0m\u001b[0;34m.\u001b[0m\u001b[0mrun_cell_magic\u001b[0m\u001b[0;34m(\u001b[0m\u001b[0;34m'timeit'\u001b[0m\u001b[0;34m,\u001b[0m \u001b[0;34m''\u001b[0m\u001b[0;34m,\u001b[0m \u001b[0;34m'join_dataframes(modin_concatted, trades_modin)\\n'\u001b[0m\u001b[0;34m)\u001b[0m\u001b[0;34m\u001b[0m\u001b[0;34m\u001b[0m\u001b[0m\n\u001b[0m",
      "\u001b[0;32m/opt/conda/envs/rapids/lib/python3.9/site-packages/IPython/core/interactiveshell.py\u001b[0m in \u001b[0;36mrun_cell_magic\u001b[0;34m(self, magic_name, line, cell)\u001b[0m\n\u001b[1;32m   2417\u001b[0m             \u001b[0;32mwith\u001b[0m \u001b[0mself\u001b[0m\u001b[0;34m.\u001b[0m\u001b[0mbuiltin_trap\u001b[0m\u001b[0;34m:\u001b[0m\u001b[0;34m\u001b[0m\u001b[0;34m\u001b[0m\u001b[0m\n\u001b[1;32m   2418\u001b[0m                 \u001b[0margs\u001b[0m \u001b[0;34m=\u001b[0m \u001b[0;34m(\u001b[0m\u001b[0mmagic_arg_s\u001b[0m\u001b[0;34m,\u001b[0m \u001b[0mcell\u001b[0m\u001b[0;34m)\u001b[0m\u001b[0;34m\u001b[0m\u001b[0;34m\u001b[0m\u001b[0m\n\u001b[0;32m-> 2419\u001b[0;31m                 \u001b[0mresult\u001b[0m \u001b[0;34m=\u001b[0m \u001b[0mfn\u001b[0m\u001b[0;34m(\u001b[0m\u001b[0;34m*\u001b[0m\u001b[0margs\u001b[0m\u001b[0;34m,\u001b[0m \u001b[0;34m**\u001b[0m\u001b[0mkwargs\u001b[0m\u001b[0;34m)\u001b[0m\u001b[0;34m\u001b[0m\u001b[0;34m\u001b[0m\u001b[0m\n\u001b[0m\u001b[1;32m   2420\u001b[0m             \u001b[0;32mreturn\u001b[0m \u001b[0mresult\u001b[0m\u001b[0;34m\u001b[0m\u001b[0;34m\u001b[0m\u001b[0m\n\u001b[1;32m   2421\u001b[0m \u001b[0;34m\u001b[0m\u001b[0m\n",
      "\u001b[0;32m/opt/conda/envs/rapids/lib/python3.9/site-packages/decorator.py\u001b[0m in \u001b[0;36mfun\u001b[0;34m(*args, **kw)\u001b[0m\n\u001b[1;32m    230\u001b[0m             \u001b[0;32mif\u001b[0m \u001b[0;32mnot\u001b[0m \u001b[0mkwsyntax\u001b[0m\u001b[0;34m:\u001b[0m\u001b[0;34m\u001b[0m\u001b[0;34m\u001b[0m\u001b[0m\n\u001b[1;32m    231\u001b[0m                 \u001b[0margs\u001b[0m\u001b[0;34m,\u001b[0m \u001b[0mkw\u001b[0m \u001b[0;34m=\u001b[0m \u001b[0mfix\u001b[0m\u001b[0;34m(\u001b[0m\u001b[0margs\u001b[0m\u001b[0;34m,\u001b[0m \u001b[0mkw\u001b[0m\u001b[0;34m,\u001b[0m \u001b[0msig\u001b[0m\u001b[0;34m)\u001b[0m\u001b[0;34m\u001b[0m\u001b[0;34m\u001b[0m\u001b[0m\n\u001b[0;32m--> 232\u001b[0;31m             \u001b[0;32mreturn\u001b[0m \u001b[0mcaller\u001b[0m\u001b[0;34m(\u001b[0m\u001b[0mfunc\u001b[0m\u001b[0;34m,\u001b[0m \u001b[0;34m*\u001b[0m\u001b[0;34m(\u001b[0m\u001b[0mextras\u001b[0m \u001b[0;34m+\u001b[0m \u001b[0margs\u001b[0m\u001b[0;34m)\u001b[0m\u001b[0;34m,\u001b[0m \u001b[0;34m**\u001b[0m\u001b[0mkw\u001b[0m\u001b[0;34m)\u001b[0m\u001b[0;34m\u001b[0m\u001b[0;34m\u001b[0m\u001b[0m\n\u001b[0m\u001b[1;32m    233\u001b[0m     \u001b[0mfun\u001b[0m\u001b[0;34m.\u001b[0m\u001b[0m__name__\u001b[0m \u001b[0;34m=\u001b[0m \u001b[0mfunc\u001b[0m\u001b[0;34m.\u001b[0m\u001b[0m__name__\u001b[0m\u001b[0;34m\u001b[0m\u001b[0;34m\u001b[0m\u001b[0m\n\u001b[1;32m    234\u001b[0m     \u001b[0mfun\u001b[0m\u001b[0;34m.\u001b[0m\u001b[0m__doc__\u001b[0m \u001b[0;34m=\u001b[0m \u001b[0mfunc\u001b[0m\u001b[0;34m.\u001b[0m\u001b[0m__doc__\u001b[0m\u001b[0;34m\u001b[0m\u001b[0;34m\u001b[0m\u001b[0m\n",
      "\u001b[0;32m/opt/conda/envs/rapids/lib/python3.9/site-packages/IPython/core/magic.py\u001b[0m in \u001b[0;36m<lambda>\u001b[0;34m(f, *a, **k)\u001b[0m\n\u001b[1;32m    185\u001b[0m     \u001b[0;31m# but it's overkill for just that one bit of state.\u001b[0m\u001b[0;34m\u001b[0m\u001b[0;34m\u001b[0m\u001b[0m\n\u001b[1;32m    186\u001b[0m     \u001b[0;32mdef\u001b[0m \u001b[0mmagic_deco\u001b[0m\u001b[0;34m(\u001b[0m\u001b[0marg\u001b[0m\u001b[0;34m)\u001b[0m\u001b[0;34m:\u001b[0m\u001b[0;34m\u001b[0m\u001b[0;34m\u001b[0m\u001b[0m\n\u001b[0;32m--> 187\u001b[0;31m         \u001b[0mcall\u001b[0m \u001b[0;34m=\u001b[0m \u001b[0;32mlambda\u001b[0m \u001b[0mf\u001b[0m\u001b[0;34m,\u001b[0m \u001b[0;34m*\u001b[0m\u001b[0ma\u001b[0m\u001b[0;34m,\u001b[0m \u001b[0;34m**\u001b[0m\u001b[0mk\u001b[0m\u001b[0;34m:\u001b[0m \u001b[0mf\u001b[0m\u001b[0;34m(\u001b[0m\u001b[0;34m*\u001b[0m\u001b[0ma\u001b[0m\u001b[0;34m,\u001b[0m \u001b[0;34m**\u001b[0m\u001b[0mk\u001b[0m\u001b[0;34m)\u001b[0m\u001b[0;34m\u001b[0m\u001b[0;34m\u001b[0m\u001b[0m\n\u001b[0m\u001b[1;32m    188\u001b[0m \u001b[0;34m\u001b[0m\u001b[0m\n\u001b[1;32m    189\u001b[0m         \u001b[0;32mif\u001b[0m \u001b[0mcallable\u001b[0m\u001b[0;34m(\u001b[0m\u001b[0marg\u001b[0m\u001b[0;34m)\u001b[0m\u001b[0;34m:\u001b[0m\u001b[0;34m\u001b[0m\u001b[0;34m\u001b[0m\u001b[0m\n",
      "\u001b[0;32m/opt/conda/envs/rapids/lib/python3.9/site-packages/IPython/core/magics/execution.py\u001b[0m in \u001b[0;36mtimeit\u001b[0;34m(self, line, cell, local_ns)\u001b[0m\n\u001b[1;32m   1182\u001b[0m                     \u001b[0;32mbreak\u001b[0m\u001b[0;34m\u001b[0m\u001b[0;34m\u001b[0m\u001b[0m\n\u001b[1;32m   1183\u001b[0m \u001b[0;34m\u001b[0m\u001b[0m\n\u001b[0;32m-> 1184\u001b[0;31m         \u001b[0mall_runs\u001b[0m \u001b[0;34m=\u001b[0m \u001b[0mtimer\u001b[0m\u001b[0;34m.\u001b[0m\u001b[0mrepeat\u001b[0m\u001b[0;34m(\u001b[0m\u001b[0mrepeat\u001b[0m\u001b[0;34m,\u001b[0m \u001b[0mnumber\u001b[0m\u001b[0;34m)\u001b[0m\u001b[0;34m\u001b[0m\u001b[0;34m\u001b[0m\u001b[0m\n\u001b[0m\u001b[1;32m   1185\u001b[0m         \u001b[0mbest\u001b[0m \u001b[0;34m=\u001b[0m \u001b[0mmin\u001b[0m\u001b[0;34m(\u001b[0m\u001b[0mall_runs\u001b[0m\u001b[0;34m)\u001b[0m \u001b[0;34m/\u001b[0m \u001b[0mnumber\u001b[0m\u001b[0;34m\u001b[0m\u001b[0;34m\u001b[0m\u001b[0m\n\u001b[1;32m   1186\u001b[0m         \u001b[0mworst\u001b[0m \u001b[0;34m=\u001b[0m \u001b[0mmax\u001b[0m\u001b[0;34m(\u001b[0m\u001b[0mall_runs\u001b[0m\u001b[0;34m)\u001b[0m \u001b[0;34m/\u001b[0m \u001b[0mnumber\u001b[0m\u001b[0;34m\u001b[0m\u001b[0;34m\u001b[0m\u001b[0m\n",
      "\u001b[0;32m/opt/conda/envs/rapids/lib/python3.9/timeit.py\u001b[0m in \u001b[0;36mrepeat\u001b[0;34m(self, repeat, number)\u001b[0m\n\u001b[1;32m    203\u001b[0m         \u001b[0mr\u001b[0m \u001b[0;34m=\u001b[0m \u001b[0;34m[\u001b[0m\u001b[0;34m]\u001b[0m\u001b[0;34m\u001b[0m\u001b[0;34m\u001b[0m\u001b[0m\n\u001b[1;32m    204\u001b[0m         \u001b[0;32mfor\u001b[0m \u001b[0mi\u001b[0m \u001b[0;32min\u001b[0m \u001b[0mrange\u001b[0m\u001b[0;34m(\u001b[0m\u001b[0mrepeat\u001b[0m\u001b[0;34m)\u001b[0m\u001b[0;34m:\u001b[0m\u001b[0;34m\u001b[0m\u001b[0;34m\u001b[0m\u001b[0m\n\u001b[0;32m--> 205\u001b[0;31m             \u001b[0mt\u001b[0m \u001b[0;34m=\u001b[0m \u001b[0mself\u001b[0m\u001b[0;34m.\u001b[0m\u001b[0mtimeit\u001b[0m\u001b[0;34m(\u001b[0m\u001b[0mnumber\u001b[0m\u001b[0;34m)\u001b[0m\u001b[0;34m\u001b[0m\u001b[0;34m\u001b[0m\u001b[0m\n\u001b[0m\u001b[1;32m    206\u001b[0m             \u001b[0mr\u001b[0m\u001b[0;34m.\u001b[0m\u001b[0mappend\u001b[0m\u001b[0;34m(\u001b[0m\u001b[0mt\u001b[0m\u001b[0;34m)\u001b[0m\u001b[0;34m\u001b[0m\u001b[0;34m\u001b[0m\u001b[0m\n\u001b[1;32m    207\u001b[0m         \u001b[0;32mreturn\u001b[0m \u001b[0mr\u001b[0m\u001b[0;34m\u001b[0m\u001b[0;34m\u001b[0m\u001b[0m\n",
      "\u001b[0;32m/opt/conda/envs/rapids/lib/python3.9/site-packages/IPython/core/magics/execution.py\u001b[0m in \u001b[0;36mtimeit\u001b[0;34m(self, number)\u001b[0m\n\u001b[1;32m    167\u001b[0m         \u001b[0mgc\u001b[0m\u001b[0;34m.\u001b[0m\u001b[0mdisable\u001b[0m\u001b[0;34m(\u001b[0m\u001b[0;34m)\u001b[0m\u001b[0;34m\u001b[0m\u001b[0;34m\u001b[0m\u001b[0m\n\u001b[1;32m    168\u001b[0m         \u001b[0;32mtry\u001b[0m\u001b[0;34m:\u001b[0m\u001b[0;34m\u001b[0m\u001b[0;34m\u001b[0m\u001b[0m\n\u001b[0;32m--> 169\u001b[0;31m             \u001b[0mtiming\u001b[0m \u001b[0;34m=\u001b[0m \u001b[0mself\u001b[0m\u001b[0;34m.\u001b[0m\u001b[0minner\u001b[0m\u001b[0;34m(\u001b[0m\u001b[0mit\u001b[0m\u001b[0;34m,\u001b[0m \u001b[0mself\u001b[0m\u001b[0;34m.\u001b[0m\u001b[0mtimer\u001b[0m\u001b[0;34m)\u001b[0m\u001b[0;34m\u001b[0m\u001b[0;34m\u001b[0m\u001b[0m\n\u001b[0m\u001b[1;32m    170\u001b[0m         \u001b[0;32mfinally\u001b[0m\u001b[0;34m:\u001b[0m\u001b[0;34m\u001b[0m\u001b[0;34m\u001b[0m\u001b[0m\n\u001b[1;32m    171\u001b[0m             \u001b[0;32mif\u001b[0m \u001b[0mgcold\u001b[0m\u001b[0;34m:\u001b[0m\u001b[0;34m\u001b[0m\u001b[0;34m\u001b[0m\u001b[0m\n",
      "\u001b[0;32m<magic-timeit>\u001b[0m in \u001b[0;36minner\u001b[0;34m(_it, _timer)\u001b[0m\n",
      "\u001b[0;32m/tmp/ipykernel_2958/3848147516.py\u001b[0m in \u001b[0;36mjoin_dataframes\u001b[0;34m(df1, df2)\u001b[0m\n\u001b[1;32m      1\u001b[0m \u001b[0;32mdef\u001b[0m \u001b[0mjoin_dataframes\u001b[0m\u001b[0;34m(\u001b[0m\u001b[0mdf1\u001b[0m\u001b[0;34m,\u001b[0m \u001b[0mdf2\u001b[0m\u001b[0;34m)\u001b[0m\u001b[0;34m:\u001b[0m\u001b[0;34m\u001b[0m\u001b[0;34m\u001b[0m\u001b[0m\n\u001b[0;32m----> 2\u001b[0;31m     return (df1\n\u001b[0m\u001b[1;32m      3\u001b[0m             \u001b[0;34m.\u001b[0m\u001b[0mgroupby\u001b[0m\u001b[0;34m(\u001b[0m\u001b[0;34m[\u001b[0m\u001b[0;34m'Date'\u001b[0m\u001b[0;34m,\u001b[0m \u001b[0;34m'SecuritiesCode'\u001b[0m\u001b[0;34m]\u001b[0m\u001b[0;34m)\u001b[0m\u001b[0;34m\u001b[0m\u001b[0;34m\u001b[0m\u001b[0m\n\u001b[1;32m      4\u001b[0m             \u001b[0;34m.\u001b[0m\u001b[0mmean\u001b[0m\u001b[0;34m(\u001b[0m\u001b[0;34m)\u001b[0m\u001b[0;34m\u001b[0m\u001b[0;34m\u001b[0m\u001b[0m\n\u001b[1;32m      5\u001b[0m             \u001b[0;34m.\u001b[0m\u001b[0mmerge\u001b[0m\u001b[0;34m(\u001b[0m\u001b[0mdf2\u001b[0m\u001b[0;34m.\u001b[0m\u001b[0mgroupby\u001b[0m\u001b[0;34m(\u001b[0m\u001b[0;34m[\u001b[0m\u001b[0;34m'Date'\u001b[0m\u001b[0;34m]\u001b[0m\u001b[0;34m)\u001b[0m\u001b[0;34m.\u001b[0m\u001b[0mmean\u001b[0m\u001b[0;34m(\u001b[0m\u001b[0;34m)\u001b[0m\u001b[0;34m,\u001b[0m \u001b[0mhow\u001b[0m\u001b[0;34m=\u001b[0m\u001b[0;34m'left'\u001b[0m\u001b[0;34m,\u001b[0m \u001b[0mon\u001b[0m\u001b[0;34m=\u001b[0m\u001b[0;34m'Date'\u001b[0m\u001b[0;34m)\u001b[0m\u001b[0;34m\u001b[0m\u001b[0;34m\u001b[0m\u001b[0m\n",
      "\u001b[0;32m/opt/conda/envs/rapids/lib/python3.9/site-packages/modin/logging/logger_metaclass.py\u001b[0m in \u001b[0;36mlog_wrap\u001b[0;34m(*args, **kwargs)\u001b[0m\n\u001b[1;32m     66\u001b[0m             \u001b[0mlogger\u001b[0m\u001b[0;34m.\u001b[0m\u001b[0minfo\u001b[0m\u001b[0;34m(\u001b[0m\u001b[0;34mf\"END::PANDAS-API::{class_name}.{method_name}\"\u001b[0m\u001b[0;34m)\u001b[0m\u001b[0;34m\u001b[0m\u001b[0;34m\u001b[0m\u001b[0m\n\u001b[1;32m     67\u001b[0m             \u001b[0;32mreturn\u001b[0m \u001b[0mresult\u001b[0m\u001b[0;34m\u001b[0m\u001b[0;34m\u001b[0m\u001b[0m\n\u001b[0;32m---> 68\u001b[0;31m         \u001b[0;32mreturn\u001b[0m \u001b[0mmethod\u001b[0m\u001b[0;34m(\u001b[0m\u001b[0;34m*\u001b[0m\u001b[0margs\u001b[0m\u001b[0;34m,\u001b[0m \u001b[0;34m**\u001b[0m\u001b[0mkwargs\u001b[0m\u001b[0;34m)\u001b[0m\u001b[0;34m\u001b[0m\u001b[0;34m\u001b[0m\u001b[0m\n\u001b[0m\u001b[1;32m     69\u001b[0m \u001b[0;34m\u001b[0m\u001b[0m\n\u001b[1;32m     70\u001b[0m     \u001b[0;32mreturn\u001b[0m \u001b[0mlog_wrap\u001b[0m\u001b[0;34m\u001b[0m\u001b[0;34m\u001b[0m\u001b[0m\n",
      "\u001b[0;32m/opt/conda/envs/rapids/lib/python3.9/site-packages/modin/pandas/groupby.py\u001b[0m in \u001b[0;36mmean\u001b[0;34m(self, numeric_only)\u001b[0m\n\u001b[1;32m    134\u001b[0m     \u001b[0;32mdef\u001b[0m \u001b[0mmean\u001b[0m\u001b[0;34m(\u001b[0m\u001b[0mself\u001b[0m\u001b[0;34m,\u001b[0m \u001b[0mnumeric_only\u001b[0m\u001b[0;34m=\u001b[0m\u001b[0;32mNone\u001b[0m\u001b[0;34m)\u001b[0m\u001b[0;34m:\u001b[0m\u001b[0;34m\u001b[0m\u001b[0;34m\u001b[0m\u001b[0m\n\u001b[1;32m    135\u001b[0m         return self._check_index(\n\u001b[0;32m--> 136\u001b[0;31m             self._wrap_aggregation(\n\u001b[0m\u001b[1;32m    137\u001b[0m                 \u001b[0mtype\u001b[0m\u001b[0;34m(\u001b[0m\u001b[0mself\u001b[0m\u001b[0;34m.\u001b[0m\u001b[0m_query_compiler\u001b[0m\u001b[0;34m)\u001b[0m\u001b[0;34m.\u001b[0m\u001b[0mgroupby_mean\u001b[0m\u001b[0;34m,\u001b[0m\u001b[0;34m\u001b[0m\u001b[0;34m\u001b[0m\u001b[0m\n\u001b[1;32m    138\u001b[0m                 \u001b[0mnumeric_only\u001b[0m\u001b[0;34m=\u001b[0m\u001b[0mnumeric_only\u001b[0m\u001b[0;34m,\u001b[0m\u001b[0;34m\u001b[0m\u001b[0;34m\u001b[0m\u001b[0m\n",
      "\u001b[0;32m/opt/conda/envs/rapids/lib/python3.9/site-packages/modin/logging/logger_metaclass.py\u001b[0m in \u001b[0;36mlog_wrap\u001b[0;34m(*args, **kwargs)\u001b[0m\n\u001b[1;32m     66\u001b[0m             \u001b[0mlogger\u001b[0m\u001b[0;34m.\u001b[0m\u001b[0minfo\u001b[0m\u001b[0;34m(\u001b[0m\u001b[0;34mf\"END::PANDAS-API::{class_name}.{method_name}\"\u001b[0m\u001b[0;34m)\u001b[0m\u001b[0;34m\u001b[0m\u001b[0;34m\u001b[0m\u001b[0m\n\u001b[1;32m     67\u001b[0m             \u001b[0;32mreturn\u001b[0m \u001b[0mresult\u001b[0m\u001b[0;34m\u001b[0m\u001b[0;34m\u001b[0m\u001b[0m\n\u001b[0;32m---> 68\u001b[0;31m         \u001b[0;32mreturn\u001b[0m \u001b[0mmethod\u001b[0m\u001b[0;34m(\u001b[0m\u001b[0;34m*\u001b[0m\u001b[0margs\u001b[0m\u001b[0;34m,\u001b[0m \u001b[0;34m**\u001b[0m\u001b[0mkwargs\u001b[0m\u001b[0;34m)\u001b[0m\u001b[0;34m\u001b[0m\u001b[0;34m\u001b[0m\u001b[0m\n\u001b[0m\u001b[1;32m     69\u001b[0m \u001b[0;34m\u001b[0m\u001b[0m\n\u001b[1;32m     70\u001b[0m     \u001b[0;32mreturn\u001b[0m \u001b[0mlog_wrap\u001b[0m\u001b[0;34m\u001b[0m\u001b[0;34m\u001b[0m\u001b[0m\n",
      "\u001b[0;32m/opt/conda/envs/rapids/lib/python3.9/site-packages/modin/pandas/groupby.py\u001b[0m in \u001b[0;36m_wrap_aggregation\u001b[0;34m(self, qc_method, numeric_only, agg_args, agg_kwargs, **kwargs)\u001b[0m\n\u001b[1;32m   1080\u001b[0m \u001b[0;34m\u001b[0m\u001b[0m\n\u001b[1;32m   1081\u001b[0m         result = type(self._df)(\n\u001b[0;32m-> 1082\u001b[0;31m             query_compiler=qc_method(\n\u001b[0m\u001b[1;32m   1083\u001b[0m                 \u001b[0mgroupby_qc\u001b[0m\u001b[0;34m,\u001b[0m\u001b[0;34m\u001b[0m\u001b[0;34m\u001b[0m\u001b[0m\n\u001b[1;32m   1084\u001b[0m                 \u001b[0mby\u001b[0m\u001b[0;34m=\u001b[0m\u001b[0mself\u001b[0m\u001b[0;34m.\u001b[0m\u001b[0m_by\u001b[0m\u001b[0;34m,\u001b[0m\u001b[0;34m\u001b[0m\u001b[0;34m\u001b[0m\u001b[0m\n",
      "\u001b[0;32m/opt/conda/envs/rapids/lib/python3.9/site-packages/modin/logging/logger_metaclass.py\u001b[0m in \u001b[0;36mlog_wrap\u001b[0;34m(*args, **kwargs)\u001b[0m\n\u001b[1;32m     66\u001b[0m             \u001b[0mlogger\u001b[0m\u001b[0;34m.\u001b[0m\u001b[0minfo\u001b[0m\u001b[0;34m(\u001b[0m\u001b[0;34mf\"END::PANDAS-API::{class_name}.{method_name}\"\u001b[0m\u001b[0;34m)\u001b[0m\u001b[0;34m\u001b[0m\u001b[0;34m\u001b[0m\u001b[0m\n\u001b[1;32m     67\u001b[0m             \u001b[0;32mreturn\u001b[0m \u001b[0mresult\u001b[0m\u001b[0;34m\u001b[0m\u001b[0;34m\u001b[0m\u001b[0m\n\u001b[0;32m---> 68\u001b[0;31m         \u001b[0;32mreturn\u001b[0m \u001b[0mmethod\u001b[0m\u001b[0;34m(\u001b[0m\u001b[0;34m*\u001b[0m\u001b[0margs\u001b[0m\u001b[0;34m,\u001b[0m \u001b[0;34m**\u001b[0m\u001b[0mkwargs\u001b[0m\u001b[0;34m)\u001b[0m\u001b[0;34m\u001b[0m\u001b[0;34m\u001b[0m\u001b[0m\n\u001b[0m\u001b[1;32m     69\u001b[0m \u001b[0;34m\u001b[0m\u001b[0m\n\u001b[1;32m     70\u001b[0m     \u001b[0;32mreturn\u001b[0m \u001b[0mlog_wrap\u001b[0m\u001b[0;34m\u001b[0m\u001b[0;34m\u001b[0m\u001b[0m\n",
      "\u001b[0;32m/opt/conda/envs/rapids/lib/python3.9/site-packages/modin/core/storage_formats/base/query_compiler.py\u001b[0m in \u001b[0;36mgroupby_mean\u001b[0;34m(self, by, axis, groupby_kwargs, agg_args, agg_kwargs, drop)\u001b[0m\n\u001b[1;32m   2479\u001b[0m         \u001b[0mdrop\u001b[0m\u001b[0;34m=\u001b[0m\u001b[0;32mFalse\u001b[0m\u001b[0;34m,\u001b[0m\u001b[0;34m\u001b[0m\u001b[0;34m\u001b[0m\u001b[0m\n\u001b[1;32m   2480\u001b[0m     ):\n\u001b[0;32m-> 2481\u001b[0;31m         return self.groupby_agg(\n\u001b[0m\u001b[1;32m   2482\u001b[0m             \u001b[0mby\u001b[0m\u001b[0;34m=\u001b[0m\u001b[0mby\u001b[0m\u001b[0;34m,\u001b[0m\u001b[0;34m\u001b[0m\u001b[0;34m\u001b[0m\u001b[0m\n\u001b[1;32m   2483\u001b[0m             \u001b[0magg_func\u001b[0m\u001b[0;34m=\u001b[0m\u001b[0;34m\"mean\"\u001b[0m\u001b[0;34m,\u001b[0m\u001b[0;34m\u001b[0m\u001b[0;34m\u001b[0m\u001b[0m\n",
      "\u001b[0;32m/opt/conda/envs/rapids/lib/python3.9/site-packages/modin/logging/logger_metaclass.py\u001b[0m in \u001b[0;36mlog_wrap\u001b[0;34m(*args, **kwargs)\u001b[0m\n\u001b[1;32m     66\u001b[0m             \u001b[0mlogger\u001b[0m\u001b[0;34m.\u001b[0m\u001b[0minfo\u001b[0m\u001b[0;34m(\u001b[0m\u001b[0;34mf\"END::PANDAS-API::{class_name}.{method_name}\"\u001b[0m\u001b[0;34m)\u001b[0m\u001b[0;34m\u001b[0m\u001b[0;34m\u001b[0m\u001b[0m\n\u001b[1;32m     67\u001b[0m             \u001b[0;32mreturn\u001b[0m \u001b[0mresult\u001b[0m\u001b[0;34m\u001b[0m\u001b[0;34m\u001b[0m\u001b[0m\n\u001b[0;32m---> 68\u001b[0;31m         \u001b[0;32mreturn\u001b[0m \u001b[0mmethod\u001b[0m\u001b[0;34m(\u001b[0m\u001b[0;34m*\u001b[0m\u001b[0margs\u001b[0m\u001b[0;34m,\u001b[0m \u001b[0;34m**\u001b[0m\u001b[0mkwargs\u001b[0m\u001b[0;34m)\u001b[0m\u001b[0;34m\u001b[0m\u001b[0;34m\u001b[0m\u001b[0m\n\u001b[0m\u001b[1;32m     69\u001b[0m \u001b[0;34m\u001b[0m\u001b[0m\n\u001b[1;32m     70\u001b[0m     \u001b[0;32mreturn\u001b[0m \u001b[0mlog_wrap\u001b[0m\u001b[0;34m\u001b[0m\u001b[0;34m\u001b[0m\u001b[0m\n",
      "\u001b[0;32m/opt/conda/envs/rapids/lib/python3.9/site-packages/modin/core/storage_formats/pandas/query_compiler.py\u001b[0m in \u001b[0;36mgroupby_agg\u001b[0;34m(self, by, agg_func, axis, groupby_kwargs, agg_args, agg_kwargs, how, drop)\u001b[0m\n\u001b[1;32m   2811\u001b[0m         \u001b[0mapply_indices\u001b[0m \u001b[0;34m=\u001b[0m \u001b[0mlist\u001b[0m\u001b[0;34m(\u001b[0m\u001b[0magg_func\u001b[0m\u001b[0;34m.\u001b[0m\u001b[0mkeys\u001b[0m\u001b[0;34m(\u001b[0m\u001b[0;34m)\u001b[0m\u001b[0;34m)\u001b[0m \u001b[0;32mif\u001b[0m \u001b[0misinstance\u001b[0m\u001b[0;34m(\u001b[0m\u001b[0magg_func\u001b[0m\u001b[0;34m,\u001b[0m \u001b[0mdict\u001b[0m\u001b[0;34m)\u001b[0m \u001b[0;32melse\u001b[0m \u001b[0;32mNone\u001b[0m\u001b[0;34m\u001b[0m\u001b[0;34m\u001b[0m\u001b[0m\n\u001b[1;32m   2812\u001b[0m \u001b[0;34m\u001b[0m\u001b[0m\n\u001b[0;32m-> 2813\u001b[0;31m         new_modin_frame = self._modin_frame.broadcast_apply_full_axis(\n\u001b[0m\u001b[1;32m   2814\u001b[0m             \u001b[0maxis\u001b[0m\u001b[0;34m=\u001b[0m\u001b[0maxis\u001b[0m\u001b[0;34m,\u001b[0m\u001b[0;34m\u001b[0m\u001b[0;34m\u001b[0m\u001b[0m\n\u001b[1;32m   2815\u001b[0m             func=lambda df, by=None, partition_idx=None: groupby_agg_builder(\n",
      "\u001b[0;32m/opt/conda/envs/rapids/lib/python3.9/site-packages/modin/logging/logger_metaclass.py\u001b[0m in \u001b[0;36mlog_wrap\u001b[0;34m(*args, **kwargs)\u001b[0m\n\u001b[1;32m     66\u001b[0m             \u001b[0mlogger\u001b[0m\u001b[0;34m.\u001b[0m\u001b[0minfo\u001b[0m\u001b[0;34m(\u001b[0m\u001b[0;34mf\"END::PANDAS-API::{class_name}.{method_name}\"\u001b[0m\u001b[0;34m)\u001b[0m\u001b[0;34m\u001b[0m\u001b[0;34m\u001b[0m\u001b[0m\n\u001b[1;32m     67\u001b[0m             \u001b[0;32mreturn\u001b[0m \u001b[0mresult\u001b[0m\u001b[0;34m\u001b[0m\u001b[0;34m\u001b[0m\u001b[0m\n\u001b[0;32m---> 68\u001b[0;31m         \u001b[0;32mreturn\u001b[0m \u001b[0mmethod\u001b[0m\u001b[0;34m(\u001b[0m\u001b[0;34m*\u001b[0m\u001b[0margs\u001b[0m\u001b[0;34m,\u001b[0m \u001b[0;34m**\u001b[0m\u001b[0mkwargs\u001b[0m\u001b[0;34m)\u001b[0m\u001b[0;34m\u001b[0m\u001b[0;34m\u001b[0m\u001b[0m\n\u001b[0m\u001b[1;32m     69\u001b[0m \u001b[0;34m\u001b[0m\u001b[0m\n\u001b[1;32m     70\u001b[0m     \u001b[0;32mreturn\u001b[0m \u001b[0mlog_wrap\u001b[0m\u001b[0;34m\u001b[0m\u001b[0;34m\u001b[0m\u001b[0m\n",
      "\u001b[0;32m/opt/conda/envs/rapids/lib/python3.9/site-packages/modin/core/dataframe/pandas/dataframe/dataframe.py\u001b[0m in \u001b[0;36mrun_f_on_minimally_updated_metadata\u001b[0;34m(self, *args, **kwargs)\u001b[0m\n\u001b[1;32m    113\u001b[0m                 \u001b[0;32melif\u001b[0m \u001b[0mapply_axis\u001b[0m \u001b[0;34m==\u001b[0m \u001b[0;34m\"rows\"\u001b[0m\u001b[0;34m:\u001b[0m\u001b[0;34m\u001b[0m\u001b[0;34m\u001b[0m\u001b[0m\n\u001b[1;32m    114\u001b[0m                     \u001b[0mobj\u001b[0m\u001b[0;34m.\u001b[0m\u001b[0m_propagate_index_objs\u001b[0m\u001b[0;34m(\u001b[0m\u001b[0maxis\u001b[0m\u001b[0;34m=\u001b[0m\u001b[0;36m0\u001b[0m\u001b[0;34m)\u001b[0m\u001b[0;34m\u001b[0m\u001b[0;34m\u001b[0m\u001b[0m\n\u001b[0;32m--> 115\u001b[0;31m             \u001b[0mresult\u001b[0m \u001b[0;34m=\u001b[0m \u001b[0mf\u001b[0m\u001b[0;34m(\u001b[0m\u001b[0mself\u001b[0m\u001b[0;34m,\u001b[0m \u001b[0;34m*\u001b[0m\u001b[0margs\u001b[0m\u001b[0;34m,\u001b[0m \u001b[0;34m**\u001b[0m\u001b[0mkwargs\u001b[0m\u001b[0;34m)\u001b[0m\u001b[0;34m\u001b[0m\u001b[0;34m\u001b[0m\u001b[0m\n\u001b[0m\u001b[1;32m    116\u001b[0m             \u001b[0;32mif\u001b[0m \u001b[0mapply_axis\u001b[0m \u001b[0;32mis\u001b[0m \u001b[0;32mNone\u001b[0m \u001b[0;32mand\u001b[0m \u001b[0;32mnot\u001b[0m \u001b[0mtranspose\u001b[0m\u001b[0;34m:\u001b[0m\u001b[0;34m\u001b[0m\u001b[0;34m\u001b[0m\u001b[0m\n\u001b[1;32m    117\u001b[0m                 \u001b[0mresult\u001b[0m\u001b[0;34m.\u001b[0m\u001b[0m_deferred_index\u001b[0m \u001b[0;34m=\u001b[0m \u001b[0mself\u001b[0m\u001b[0;34m.\u001b[0m\u001b[0m_deferred_index\u001b[0m\u001b[0;34m\u001b[0m\u001b[0;34m\u001b[0m\u001b[0m\n",
      "\u001b[0;32m/opt/conda/envs/rapids/lib/python3.9/site-packages/modin/core/dataframe/pandas/dataframe/dataframe.py\u001b[0m in \u001b[0;36mbroadcast_apply_full_axis\u001b[0;34m(self, axis, func, other, new_index, new_columns, apply_indices, enumerate_partitions, dtypes)\u001b[0m\n\u001b[1;32m   2338\u001b[0m         )\n\u001b[1;32m   2339\u001b[0m         \u001b[0;31m# Index objects for new object creation. This is shorter than if..else\u001b[0m\u001b[0;34m\u001b[0m\u001b[0;34m\u001b[0m\u001b[0m\n\u001b[0;32m-> 2340\u001b[0;31m         new_axes = [\n\u001b[0m\u001b[1;32m   2341\u001b[0m             \u001b[0mself\u001b[0m\u001b[0;34m.\u001b[0m\u001b[0m_compute_axis_labels\u001b[0m\u001b[0;34m(\u001b[0m\u001b[0mi\u001b[0m\u001b[0;34m,\u001b[0m \u001b[0mnew_partitions\u001b[0m\u001b[0;34m)\u001b[0m\u001b[0;34m\u001b[0m\u001b[0;34m\u001b[0m\u001b[0m\n\u001b[1;32m   2342\u001b[0m             \u001b[0;32mif\u001b[0m \u001b[0mnew_axis\u001b[0m \u001b[0;32mis\u001b[0m \u001b[0;32mNone\u001b[0m\u001b[0;34m\u001b[0m\u001b[0;34m\u001b[0m\u001b[0m\n",
      "\u001b[0;32m/opt/conda/envs/rapids/lib/python3.9/site-packages/modin/core/dataframe/pandas/dataframe/dataframe.py\u001b[0m in \u001b[0;36m<listcomp>\u001b[0;34m(.0)\u001b[0m\n\u001b[1;32m   2339\u001b[0m         \u001b[0;31m# Index objects for new object creation. This is shorter than if..else\u001b[0m\u001b[0;34m\u001b[0m\u001b[0;34m\u001b[0m\u001b[0m\n\u001b[1;32m   2340\u001b[0m         new_axes = [\n\u001b[0;32m-> 2341\u001b[0;31m             \u001b[0mself\u001b[0m\u001b[0;34m.\u001b[0m\u001b[0m_compute_axis_labels\u001b[0m\u001b[0;34m(\u001b[0m\u001b[0mi\u001b[0m\u001b[0;34m,\u001b[0m \u001b[0mnew_partitions\u001b[0m\u001b[0;34m)\u001b[0m\u001b[0;34m\u001b[0m\u001b[0;34m\u001b[0m\u001b[0m\n\u001b[0m\u001b[1;32m   2342\u001b[0m             \u001b[0;32mif\u001b[0m \u001b[0mnew_axis\u001b[0m \u001b[0;32mis\u001b[0m \u001b[0;32mNone\u001b[0m\u001b[0;34m\u001b[0m\u001b[0;34m\u001b[0m\u001b[0m\n\u001b[1;32m   2343\u001b[0m             \u001b[0;32melse\u001b[0m \u001b[0mnew_axis\u001b[0m\u001b[0;34m\u001b[0m\u001b[0;34m\u001b[0m\u001b[0m\n",
      "\u001b[0;32m/opt/conda/envs/rapids/lib/python3.9/site-packages/modin/logging/logger_metaclass.py\u001b[0m in \u001b[0;36mlog_wrap\u001b[0;34m(*args, **kwargs)\u001b[0m\n\u001b[1;32m     66\u001b[0m             \u001b[0mlogger\u001b[0m\u001b[0;34m.\u001b[0m\u001b[0minfo\u001b[0m\u001b[0;34m(\u001b[0m\u001b[0;34mf\"END::PANDAS-API::{class_name}.{method_name}\"\u001b[0m\u001b[0;34m)\u001b[0m\u001b[0;34m\u001b[0m\u001b[0;34m\u001b[0m\u001b[0m\n\u001b[1;32m     67\u001b[0m             \u001b[0;32mreturn\u001b[0m \u001b[0mresult\u001b[0m\u001b[0;34m\u001b[0m\u001b[0;34m\u001b[0m\u001b[0m\n\u001b[0;32m---> 68\u001b[0;31m         \u001b[0;32mreturn\u001b[0m \u001b[0mmethod\u001b[0m\u001b[0;34m(\u001b[0m\u001b[0;34m*\u001b[0m\u001b[0margs\u001b[0m\u001b[0;34m,\u001b[0m \u001b[0;34m**\u001b[0m\u001b[0mkwargs\u001b[0m\u001b[0;34m)\u001b[0m\u001b[0;34m\u001b[0m\u001b[0;34m\u001b[0m\u001b[0m\n\u001b[0m\u001b[1;32m     69\u001b[0m \u001b[0;34m\u001b[0m\u001b[0m\n\u001b[1;32m     70\u001b[0m     \u001b[0;32mreturn\u001b[0m \u001b[0mlog_wrap\u001b[0m\u001b[0;34m\u001b[0m\u001b[0;34m\u001b[0m\u001b[0m\n",
      "\u001b[0;32m/opt/conda/envs/rapids/lib/python3.9/site-packages/modin/core/dataframe/pandas/dataframe/dataframe.py\u001b[0m in \u001b[0;36m_compute_axis_labels\u001b[0;34m(self, axis, partitions)\u001b[0m\n\u001b[1;32m    427\u001b[0m         \u001b[0;32mif\u001b[0m \u001b[0mpartitions\u001b[0m \u001b[0;32mis\u001b[0m \u001b[0;32mNone\u001b[0m\u001b[0;34m:\u001b[0m\u001b[0;34m\u001b[0m\u001b[0;34m\u001b[0m\u001b[0m\n\u001b[1;32m    428\u001b[0m             \u001b[0mpartitions\u001b[0m \u001b[0;34m=\u001b[0m \u001b[0mself\u001b[0m\u001b[0;34m.\u001b[0m\u001b[0m_partitions\u001b[0m\u001b[0;34m\u001b[0m\u001b[0;34m\u001b[0m\u001b[0m\n\u001b[0;32m--> 429\u001b[0;31m         return self._partition_mgr_cls.get_indices(\n\u001b[0m\u001b[1;32m    430\u001b[0m             \u001b[0maxis\u001b[0m\u001b[0;34m,\u001b[0m \u001b[0mpartitions\u001b[0m\u001b[0;34m,\u001b[0m \u001b[0;32mlambda\u001b[0m \u001b[0mdf\u001b[0m\u001b[0;34m:\u001b[0m \u001b[0mdf\u001b[0m\u001b[0;34m.\u001b[0m\u001b[0maxes\u001b[0m\u001b[0;34m[\u001b[0m\u001b[0maxis\u001b[0m\u001b[0;34m]\u001b[0m\u001b[0;34m\u001b[0m\u001b[0;34m\u001b[0m\u001b[0m\n\u001b[1;32m    431\u001b[0m         )\n",
      "\u001b[0;32m/opt/conda/envs/rapids/lib/python3.9/site-packages/modin/core/dataframe/pandas/partitioning/partition_manager.py\u001b[0m in \u001b[0;36mget_indices\u001b[0;34m(cls, axis, partitions, index_func)\u001b[0m\n\u001b[1;32m    844\u001b[0m                 \u001b[0;34m[\u001b[0m\u001b[0midx\u001b[0m\u001b[0;34m.\u001b[0m\u001b[0mapply\u001b[0m\u001b[0;34m(\u001b[0m\u001b[0mfunc\u001b[0m\u001b[0;34m)\u001b[0m \u001b[0;32mfor\u001b[0m \u001b[0midx\u001b[0m \u001b[0;32min\u001b[0m \u001b[0mpartitions\u001b[0m\u001b[0;34m[\u001b[0m\u001b[0;36m0\u001b[0m\u001b[0;34m]\u001b[0m\u001b[0;34m]\u001b[0m \u001b[0;32mif\u001b[0m \u001b[0mlen\u001b[0m\u001b[0;34m(\u001b[0m\u001b[0mpartitions\u001b[0m\u001b[0;34m)\u001b[0m \u001b[0;32melse\u001b[0m \u001b[0;34m[\u001b[0m\u001b[0;34m]\u001b[0m\u001b[0;34m\u001b[0m\u001b[0;34m\u001b[0m\u001b[0m\n\u001b[1;32m    845\u001b[0m             )\n\u001b[0;32m--> 846\u001b[0;31m         \u001b[0mnew_idx\u001b[0m \u001b[0;34m=\u001b[0m \u001b[0mcls\u001b[0m\u001b[0;34m.\u001b[0m\u001b[0mget_objects_from_partitions\u001b[0m\u001b[0;34m(\u001b[0m\u001b[0mnew_idx\u001b[0m\u001b[0;34m)\u001b[0m\u001b[0;34m\u001b[0m\u001b[0;34m\u001b[0m\u001b[0m\n\u001b[0m\u001b[1;32m    847\u001b[0m         \u001b[0;31m# TODO FIX INFORMATION LEAK!!!!1!!1!!\u001b[0m\u001b[0;34m\u001b[0m\u001b[0;34m\u001b[0m\u001b[0m\n\u001b[1;32m    848\u001b[0m         \u001b[0;32mreturn\u001b[0m \u001b[0mnew_idx\u001b[0m\u001b[0;34m[\u001b[0m\u001b[0;36m0\u001b[0m\u001b[0;34m]\u001b[0m\u001b[0;34m.\u001b[0m\u001b[0mappend\u001b[0m\u001b[0;34m(\u001b[0m\u001b[0mnew_idx\u001b[0m\u001b[0;34m[\u001b[0m\u001b[0;36m1\u001b[0m\u001b[0;34m:\u001b[0m\u001b[0;34m]\u001b[0m\u001b[0;34m)\u001b[0m \u001b[0;32mif\u001b[0m \u001b[0mlen\u001b[0m\u001b[0;34m(\u001b[0m\u001b[0mnew_idx\u001b[0m\u001b[0;34m)\u001b[0m \u001b[0;32melse\u001b[0m \u001b[0mnew_idx\u001b[0m\u001b[0;34m\u001b[0m\u001b[0;34m\u001b[0m\u001b[0m\n",
      "\u001b[0;32m/opt/conda/envs/rapids/lib/python3.9/site-packages/modin/core/execution/dask/implementations/pandas_on_dask/partitioning/partition_manager.py\u001b[0m in \u001b[0;36mget_objects_from_partitions\u001b[0;34m(cls, partitions)\u001b[0m\n\u001b[1;32m     48\u001b[0m             \u001b[0mThe\u001b[0m \u001b[0mobjects\u001b[0m \u001b[0mwrapped\u001b[0m \u001b[0mby\u001b[0m\u001b[0;31m \u001b[0m\u001b[0;31m`\u001b[0m\u001b[0mpartitions\u001b[0m\u001b[0;31m`\u001b[0m\u001b[0;34m.\u001b[0m\u001b[0;34m\u001b[0m\u001b[0;34m\u001b[0m\u001b[0m\n\u001b[1;32m     49\u001b[0m         \"\"\"\n\u001b[0;32m---> 50\u001b[0;31m         \u001b[0;32mreturn\u001b[0m \u001b[0mDaskWrapper\u001b[0m\u001b[0;34m.\u001b[0m\u001b[0mmaterialize\u001b[0m\u001b[0;34m(\u001b[0m\u001b[0;34m[\u001b[0m\u001b[0mpartition\u001b[0m\u001b[0;34m.\u001b[0m\u001b[0mfuture\u001b[0m \u001b[0;32mfor\u001b[0m \u001b[0mpartition\u001b[0m \u001b[0;32min\u001b[0m \u001b[0mpartitions\u001b[0m\u001b[0;34m]\u001b[0m\u001b[0;34m)\u001b[0m\u001b[0;34m\u001b[0m\u001b[0;34m\u001b[0m\u001b[0m\n\u001b[0m",
      "\u001b[0;32m/opt/conda/envs/rapids/lib/python3.9/site-packages/modin/core/execution/dask/common/engine_wrapper.py\u001b[0m in \u001b[0;36mmaterialize\u001b[0;34m(cls, future)\u001b[0m\n\u001b[1;32m     68\u001b[0m         \"\"\"\n\u001b[1;32m     69\u001b[0m         \u001b[0mclient\u001b[0m \u001b[0;34m=\u001b[0m \u001b[0mdefault_client\u001b[0m\u001b[0;34m(\u001b[0m\u001b[0;34m)\u001b[0m\u001b[0;34m\u001b[0m\u001b[0;34m\u001b[0m\u001b[0m\n\u001b[0;32m---> 70\u001b[0;31m         \u001b[0;32mreturn\u001b[0m \u001b[0mclient\u001b[0m\u001b[0;34m.\u001b[0m\u001b[0mgather\u001b[0m\u001b[0;34m(\u001b[0m\u001b[0mfuture\u001b[0m\u001b[0;34m)\u001b[0m\u001b[0;34m\u001b[0m\u001b[0;34m\u001b[0m\u001b[0m\n\u001b[0m\u001b[1;32m     71\u001b[0m \u001b[0;34m\u001b[0m\u001b[0m\n\u001b[1;32m     72\u001b[0m     \u001b[0;34m@\u001b[0m\u001b[0mclassmethod\u001b[0m\u001b[0;34m\u001b[0m\u001b[0;34m\u001b[0m\u001b[0m\n",
      "\u001b[0;32m/opt/conda/envs/rapids/lib/python3.9/site-packages/distributed/client.py\u001b[0m in \u001b[0;36mgather\u001b[0;34m(self, futures, errors, direct, asynchronous)\u001b[0m\n\u001b[1;32m   2186\u001b[0m             \u001b[0;32melse\u001b[0m\u001b[0;34m:\u001b[0m\u001b[0;34m\u001b[0m\u001b[0;34m\u001b[0m\u001b[0m\n\u001b[1;32m   2187\u001b[0m                 \u001b[0mlocal_worker\u001b[0m \u001b[0;34m=\u001b[0m \u001b[0;32mNone\u001b[0m\u001b[0;34m\u001b[0m\u001b[0;34m\u001b[0m\u001b[0m\n\u001b[0;32m-> 2188\u001b[0;31m             return self.sync(\n\u001b[0m\u001b[1;32m   2189\u001b[0m                 \u001b[0mself\u001b[0m\u001b[0;34m.\u001b[0m\u001b[0m_gather\u001b[0m\u001b[0;34m,\u001b[0m\u001b[0;34m\u001b[0m\u001b[0;34m\u001b[0m\u001b[0m\n\u001b[1;32m   2190\u001b[0m                 \u001b[0mfutures\u001b[0m\u001b[0;34m,\u001b[0m\u001b[0;34m\u001b[0m\u001b[0;34m\u001b[0m\u001b[0m\n",
      "\u001b[0;32m/opt/conda/envs/rapids/lib/python3.9/site-packages/distributed/utils.py\u001b[0m in \u001b[0;36msync\u001b[0;34m(self, func, asynchronous, callback_timeout, *args, **kwargs)\u001b[0m\n\u001b[1;32m    318\u001b[0m             \u001b[0;32mreturn\u001b[0m \u001b[0mfuture\u001b[0m\u001b[0;34m\u001b[0m\u001b[0;34m\u001b[0m\u001b[0m\n\u001b[1;32m    319\u001b[0m         \u001b[0;32melse\u001b[0m\u001b[0;34m:\u001b[0m\u001b[0;34m\u001b[0m\u001b[0;34m\u001b[0m\u001b[0m\n\u001b[0;32m--> 320\u001b[0;31m             return sync(\n\u001b[0m\u001b[1;32m    321\u001b[0m                 \u001b[0mself\u001b[0m\u001b[0;34m.\u001b[0m\u001b[0mloop\u001b[0m\u001b[0;34m,\u001b[0m \u001b[0mfunc\u001b[0m\u001b[0;34m,\u001b[0m \u001b[0;34m*\u001b[0m\u001b[0margs\u001b[0m\u001b[0;34m,\u001b[0m \u001b[0mcallback_timeout\u001b[0m\u001b[0;34m=\u001b[0m\u001b[0mcallback_timeout\u001b[0m\u001b[0;34m,\u001b[0m \u001b[0;34m**\u001b[0m\u001b[0mkwargs\u001b[0m\u001b[0;34m\u001b[0m\u001b[0;34m\u001b[0m\u001b[0m\n\u001b[1;32m    322\u001b[0m             )\n",
      "\u001b[0;32m/opt/conda/envs/rapids/lib/python3.9/site-packages/distributed/utils.py\u001b[0m in \u001b[0;36msync\u001b[0;34m(loop, func, callback_timeout, *args, **kwargs)\u001b[0m\n\u001b[1;32m    385\u001b[0m     \u001b[0;32mif\u001b[0m \u001b[0merror\u001b[0m\u001b[0;34m:\u001b[0m\u001b[0;34m\u001b[0m\u001b[0;34m\u001b[0m\u001b[0m\n\u001b[1;32m    386\u001b[0m         \u001b[0mtyp\u001b[0m\u001b[0;34m,\u001b[0m \u001b[0mexc\u001b[0m\u001b[0;34m,\u001b[0m \u001b[0mtb\u001b[0m \u001b[0;34m=\u001b[0m \u001b[0merror\u001b[0m\u001b[0;34m\u001b[0m\u001b[0;34m\u001b[0m\u001b[0m\n\u001b[0;32m--> 387\u001b[0;31m         \u001b[0;32mraise\u001b[0m \u001b[0mexc\u001b[0m\u001b[0;34m.\u001b[0m\u001b[0mwith_traceback\u001b[0m\u001b[0;34m(\u001b[0m\u001b[0mtb\u001b[0m\u001b[0;34m)\u001b[0m\u001b[0;34m\u001b[0m\u001b[0;34m\u001b[0m\u001b[0m\n\u001b[0m\u001b[1;32m    388\u001b[0m     \u001b[0;32melse\u001b[0m\u001b[0;34m:\u001b[0m\u001b[0;34m\u001b[0m\u001b[0;34m\u001b[0m\u001b[0m\n\u001b[1;32m    389\u001b[0m         \u001b[0;32mreturn\u001b[0m \u001b[0mresult\u001b[0m\u001b[0;34m\u001b[0m\u001b[0;34m\u001b[0m\u001b[0m\n",
      "\u001b[0;32m/opt/conda/envs/rapids/lib/python3.9/site-packages/distributed/utils.py\u001b[0m in \u001b[0;36mf\u001b[0;34m()\u001b[0m\n\u001b[1;32m    358\u001b[0m                 \u001b[0mfuture\u001b[0m \u001b[0;34m=\u001b[0m \u001b[0masyncio\u001b[0m\u001b[0;34m.\u001b[0m\u001b[0mwait_for\u001b[0m\u001b[0;34m(\u001b[0m\u001b[0mfuture\u001b[0m\u001b[0;34m,\u001b[0m \u001b[0mcallback_timeout\u001b[0m\u001b[0;34m)\u001b[0m\u001b[0;34m\u001b[0m\u001b[0;34m\u001b[0m\u001b[0m\n\u001b[1;32m    359\u001b[0m             \u001b[0mfuture\u001b[0m \u001b[0;34m=\u001b[0m \u001b[0masyncio\u001b[0m\u001b[0;34m.\u001b[0m\u001b[0mensure_future\u001b[0m\u001b[0;34m(\u001b[0m\u001b[0mfuture\u001b[0m\u001b[0;34m)\u001b[0m\u001b[0;34m\u001b[0m\u001b[0;34m\u001b[0m\u001b[0m\n\u001b[0;32m--> 360\u001b[0;31m             \u001b[0mresult\u001b[0m \u001b[0;34m=\u001b[0m \u001b[0;32myield\u001b[0m \u001b[0mfuture\u001b[0m\u001b[0;34m\u001b[0m\u001b[0;34m\u001b[0m\u001b[0m\n\u001b[0m\u001b[1;32m    361\u001b[0m         \u001b[0;32mexcept\u001b[0m \u001b[0mException\u001b[0m\u001b[0;34m:\u001b[0m\u001b[0;34m\u001b[0m\u001b[0;34m\u001b[0m\u001b[0m\n\u001b[1;32m    362\u001b[0m             \u001b[0merror\u001b[0m \u001b[0;34m=\u001b[0m \u001b[0msys\u001b[0m\u001b[0;34m.\u001b[0m\u001b[0mexc_info\u001b[0m\u001b[0;34m(\u001b[0m\u001b[0;34m)\u001b[0m\u001b[0;34m\u001b[0m\u001b[0;34m\u001b[0m\u001b[0m\n",
      "\u001b[0;32m/opt/conda/envs/rapids/lib/python3.9/site-packages/tornado/gen.py\u001b[0m in \u001b[0;36mrun\u001b[0;34m(self)\u001b[0m\n\u001b[1;32m    760\u001b[0m \u001b[0;34m\u001b[0m\u001b[0m\n\u001b[1;32m    761\u001b[0m                     \u001b[0;32mtry\u001b[0m\u001b[0;34m:\u001b[0m\u001b[0;34m\u001b[0m\u001b[0;34m\u001b[0m\u001b[0m\n\u001b[0;32m--> 762\u001b[0;31m                         \u001b[0mvalue\u001b[0m \u001b[0;34m=\u001b[0m \u001b[0mfuture\u001b[0m\u001b[0;34m.\u001b[0m\u001b[0mresult\u001b[0m\u001b[0;34m(\u001b[0m\u001b[0;34m)\u001b[0m\u001b[0;34m\u001b[0m\u001b[0;34m\u001b[0m\u001b[0m\n\u001b[0m\u001b[1;32m    763\u001b[0m                     \u001b[0;32mexcept\u001b[0m \u001b[0mException\u001b[0m\u001b[0;34m:\u001b[0m\u001b[0;34m\u001b[0m\u001b[0;34m\u001b[0m\u001b[0m\n\u001b[1;32m    764\u001b[0m                         \u001b[0mexc_info\u001b[0m \u001b[0;34m=\u001b[0m \u001b[0msys\u001b[0m\u001b[0;34m.\u001b[0m\u001b[0mexc_info\u001b[0m\u001b[0;34m(\u001b[0m\u001b[0;34m)\u001b[0m\u001b[0;34m\u001b[0m\u001b[0;34m\u001b[0m\u001b[0m\n",
      "\u001b[0;32m/opt/conda/envs/rapids/lib/python3.9/site-packages/distributed/client.py\u001b[0m in \u001b[0;36m_gather\u001b[0;34m(self, futures, errors, direct, local_worker)\u001b[0m\n\u001b[1;32m   2050\u001b[0m                         \u001b[0;32melse\u001b[0m\u001b[0;34m:\u001b[0m\u001b[0;34m\u001b[0m\u001b[0;34m\u001b[0m\u001b[0m\n\u001b[1;32m   2051\u001b[0m                             \u001b[0;32mraise\u001b[0m \u001b[0mexception\u001b[0m\u001b[0;34m.\u001b[0m\u001b[0mwith_traceback\u001b[0m\u001b[0;34m(\u001b[0m\u001b[0mtraceback\u001b[0m\u001b[0;34m)\u001b[0m\u001b[0;34m\u001b[0m\u001b[0;34m\u001b[0m\u001b[0m\n\u001b[0;32m-> 2052\u001b[0;31m                         \u001b[0;32mraise\u001b[0m \u001b[0mexc\u001b[0m\u001b[0;34m\u001b[0m\u001b[0;34m\u001b[0m\u001b[0m\n\u001b[0m\u001b[1;32m   2053\u001b[0m                     \u001b[0;32mif\u001b[0m \u001b[0merrors\u001b[0m \u001b[0;34m==\u001b[0m \u001b[0;34m\"skip\"\u001b[0m\u001b[0;34m:\u001b[0m\u001b[0;34m\u001b[0m\u001b[0;34m\u001b[0m\u001b[0m\n\u001b[1;32m   2054\u001b[0m                         \u001b[0mbad_keys\u001b[0m\u001b[0;34m.\u001b[0m\u001b[0madd\u001b[0m\u001b[0;34m(\u001b[0m\u001b[0mkey\u001b[0m\u001b[0;34m)\u001b[0m\u001b[0;34m\u001b[0m\u001b[0;34m\u001b[0m\u001b[0m\n",
      "\u001b[0;31mCancelledError\u001b[0m: lambda-d367b2fbf633f0c8ed06b76cfa1a2b20"
     ]
    }
   ],
   "source": [
    "%%timeit\n",
    "join_dataframes(modin_concatted, trades_modin)"
   ]
  },
  {
   "cell_type": "code",
   "execution_count": 120,
   "id": "e0584b01-38e8-4955-9e8b-67d8b579b59c",
   "metadata": {},
   "outputs": [
    {
     "name": "stdout",
     "output_type": "stream",
     "text": [
      "31.6 ms ± 314 µs per loop (mean ± std. dev. of 7 runs, 10 loops each)\n"
     ]
    }
   ],
   "source": [
    "%%timeit\n",
    "join_dataframes(cudf_concatted.iloc[:10_000], trades_cudf)"
   ]
  },
  {
   "cell_type": "code",
   "execution_count": 121,
   "id": "4a1068b6-1c7d-468d-ab25-671d4e43e95e",
   "metadata": {},
   "outputs": [
    {
     "name": "stdout",
     "output_type": "stream",
     "text": [
      "41.6 ms ± 502 µs per loop (mean ± std. dev. of 7 runs, 10 loops each)\n"
     ]
    }
   ],
   "source": [
    "%%timeit\n",
    "join_dataframes(cudf_concatted.iloc[:100_000], trades_cudf)"
   ]
  },
  {
   "cell_type": "code",
   "execution_count": 122,
   "id": "34bad26b-4bb6-4c07-8b8a-50083f8f97e5",
   "metadata": {},
   "outputs": [
    {
     "name": "stdout",
     "output_type": "stream",
     "text": [
      "93.3 ms ± 2.18 ms per loop (mean ± std. dev. of 7 runs, 10 loops each)\n"
     ]
    }
   ],
   "source": [
    "%%timeit\n",
    "join_dataframes(cudf_concatted.iloc[:1_000_000], trades_cudf)"
   ]
  },
  {
   "cell_type": "code",
   "execution_count": 118,
   "id": "4a22d3e1-6ee8-4cf7-9164-3237b94a253f",
   "metadata": {},
   "outputs": [
    {
     "name": "stdout",
     "output_type": "stream",
     "text": [
      "186 ms ± 3.06 ms per loop (mean ± std. dev. of 7 runs, 1 loop each)\n"
     ]
    }
   ],
   "source": [
    "%%timeit\n",
    "join_dataframes(cudf_concatted, trades_cudf)"
   ]
  },
  {
   "cell_type": "code",
   "execution_count": 123,
   "id": "83a165e0-fd28-449e-a718-52c10a4ec0ac",
   "metadata": {},
   "outputs": [
    {
     "name": "stdout",
     "output_type": "stream",
     "text": [
      "9.17 ms ± 122 µs per loop (mean ± std. dev. of 7 runs, 100 loops each)\n"
     ]
    }
   ],
   "source": [
    "%%timeit\n",
    "join_dataframes_polars(polars_concatted.limit(10_000), trades_polars)"
   ]
  },
  {
   "cell_type": "code",
   "execution_count": 124,
   "id": "abd68fb0-33d5-4902-8dee-0e1cc32157af",
   "metadata": {},
   "outputs": [
    {
     "name": "stdout",
     "output_type": "stream",
     "text": [
      "23.9 ms ± 198 µs per loop (mean ± std. dev. of 7 runs, 10 loops each)\n"
     ]
    }
   ],
   "source": [
    "%%timeit\n",
    "join_dataframes_polars(polars_concatted.limit(100_000), trades_polars)"
   ]
  },
  {
   "cell_type": "code",
   "execution_count": 125,
   "id": "4216e4b5-8fff-4a55-b618-33cbe12014f1",
   "metadata": {},
   "outputs": [
    {
     "name": "stdout",
     "output_type": "stream",
     "text": [
      "266 ms ± 5.6 ms per loop (mean ± std. dev. of 7 runs, 1 loop each)\n"
     ]
    }
   ],
   "source": [
    "%%timeit\n",
    "join_dataframes_polars(polars_concatted.limit(1_000_000), trades_polars)"
   ]
  },
  {
   "cell_type": "code",
   "execution_count": 92,
   "id": "d05d02cc-66de-4138-8f9c-89286cc49870",
   "metadata": {},
   "outputs": [
    {
     "name": "stdout",
     "output_type": "stream",
     "text": [
      "971 ms ± 21.9 ms per loop (mean ± std. dev. of 7 runs, 1 loop each)\n"
     ]
    }
   ],
   "source": [
    "%%timeit\n",
    "join_dataframes_polars(polars_concatted, trades_polars)"
   ]
  },
  {
   "cell_type": "code",
   "execution_count": 132,
   "id": "fa708fc4-cbb4-4ff2-bde0-34acf1f08cc2",
   "metadata": {},
   "outputs": [
    {
     "name": "stdout",
     "output_type": "stream",
     "text": [
      "59.1 s ± 473 ms per loop (mean ± std. dev. of 7 runs, 1 loop each)\n"
     ]
    }
   ],
   "source": [
    "%%timeit\n",
    "pd_concatted.to_csv('data/test_pd.csv')"
   ]
  },
  {
   "cell_type": "code",
   "execution_count": 129,
   "id": "35030c57-eb3d-49b8-99e7-57755fe8874f",
   "metadata": {},
   "outputs": [
    {
     "name": "stderr",
     "output_type": "stream",
     "text": [
      "UserWarning: `to_csv` defaulting to pandas implementation.\n",
      "UserWarning: `to_csv` defaulting to pandas implementation.\n",
      "UserWarning: `to_csv` defaulting to pandas implementation.\n",
      "UserWarning: `to_csv` defaulting to pandas implementation.\n",
      "UserWarning: `to_csv` defaulting to pandas implementation.\n",
      "UserWarning: `to_csv` defaulting to pandas implementation.\n",
      "UserWarning: `to_csv` defaulting to pandas implementation.\n",
      "UserWarning: `to_csv` defaulting to pandas implementation.\n"
     ]
    },
    {
     "name": "stdout",
     "output_type": "stream",
     "text": [
      "1min 5s ± 326 ms per loop (mean ± std. dev. of 7 runs, 1 loop each)\n"
     ]
    }
   ],
   "source": [
    "%%timeit\n",
    "modin_concatted.to_csv('data/test_modin.csv')"
   ]
  },
  {
   "cell_type": "code",
   "execution_count": 131,
   "id": "98f0fb25-6e67-4c41-ab47-1ec60d23cd55",
   "metadata": {},
   "outputs": [
    {
     "name": "stdout",
     "output_type": "stream",
     "text": [
      "1.08 s ± 12.3 ms per loop (mean ± std. dev. of 7 runs, 1 loop each)\n"
     ]
    }
   ],
   "source": [
    "%%timeit\n",
    "cudf_concatted.to_csv('data/test_cudf.csv')"
   ]
  },
  {
   "cell_type": "code",
   "execution_count": 133,
   "id": "8b01d381-aa31-4f7c-bd64-5553925aee64",
   "metadata": {},
   "outputs": [
    {
     "name": "stdout",
     "output_type": "stream",
     "text": [
      "749 ms ± 34.7 ms per loop (mean ± std. dev. of 7 runs, 1 loop each)\n"
     ]
    }
   ],
   "source": [
    "%%timeit\n",
    "polars_concatted.write_csv('data/test_polars.csv')"
   ]
  },
  {
   "cell_type": "code",
   "execution_count": 134,
   "id": "80f9f339-ee97-4870-afbb-5acc6593f66e",
   "metadata": {},
   "outputs": [
    {
     "name": "stdout",
     "output_type": "stream",
     "text": [
      "7.4 s ± 41.3 ms per loop (mean ± std. dev. of 7 runs, 1 loop each)\n"
     ]
    }
   ],
   "source": [
    "%%timeit\n",
    "pd.read_csv('data/test_pd.csv')"
   ]
  },
  {
   "cell_type": "code",
   "execution_count": 135,
   "id": "5437189e-331c-4ec1-bf35-8c984309aca2",
   "metadata": {},
   "outputs": [
    {
     "name": "stdout",
     "output_type": "stream",
     "text": [
      "3.8 s ± 10.5 ms per loop (mean ± std. dev. of 7 runs, 1 loop each)\n"
     ]
    }
   ],
   "source": [
    "%%timeit\n",
    "mp.read_csv('data/test_modin.csv')"
   ]
  },
  {
   "cell_type": "code",
   "execution_count": 136,
   "id": "05e142df-46fd-456b-b76d-62a4647a202f",
   "metadata": {},
   "outputs": [
    {
     "name": "stdout",
     "output_type": "stream",
     "text": [
      "325 ms ± 10.2 ms per loop (mean ± std. dev. of 7 runs, 1 loop each)\n"
     ]
    }
   ],
   "source": [
    "%%timeit\n",
    "cudf.read_csv('data/test_cudf.csv')"
   ]
  },
  {
   "cell_type": "code",
   "execution_count": 138,
   "id": "9fca681c-88fc-4f24-b91e-8d08fc560965",
   "metadata": {},
   "outputs": [
    {
     "name": "stdout",
     "output_type": "stream",
     "text": [
      "427 ms ± 26.7 ms per loop (mean ± std. dev. of 7 runs, 1 loop each)\n"
     ]
    }
   ],
   "source": [
    "%%timeit\n",
    "pl.read_csv('data/test_polars.csv')"
   ]
  },
  {
   "cell_type": "code",
   "execution_count": null,
   "id": "638ee8c3-d942-4c51-8f78-42f705a0f92d",
   "metadata": {},
   "outputs": [],
   "source": []
  }
 ],
 "metadata": {
  "kernelspec": {
   "display_name": "Python 3 (ipykernel)",
   "language": "python",
   "name": "python3"
  },
  "language_info": {
   "codemirror_mode": {
    "name": "ipython",
    "version": 3
   },
   "file_extension": ".py",
   "mimetype": "text/x-python",
   "name": "python",
   "nbconvert_exporter": "python",
   "pygments_lexer": "ipython3",
   "version": "3.9.7"
  }
 },
 "nbformat": 4,
 "nbformat_minor": 5
}
